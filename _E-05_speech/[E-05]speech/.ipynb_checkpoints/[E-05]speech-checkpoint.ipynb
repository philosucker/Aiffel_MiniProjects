{
 "cells": [
  {
   "cell_type": "markdown",
   "metadata": {},
   "source": [
    "# 데이터 준비"
   ]
  },
  {
   "cell_type": "code",
   "execution_count": 1,
   "metadata": {},
   "outputs": [
    {
     "name": "stdout",
     "output_type": "stream",
     "text": [
      "Wave data shape :  (50620, 8000)\n",
      "Label data shape :  (50620, 1)\n",
      "<class 'numpy.ndarray'>\n"
     ]
    }
   ],
   "source": [
    "import numpy as np\n",
    "import os\n",
    "\n",
    "data_path = os.getenv(\"HOME\")+'/mini_projects/_E-05_speech/speech_wav_8000.npz'\n",
    "speech_data = np.load(data_path)\n",
    "\n",
    "print(\"Wave data shape : \", speech_data[\"wav_vals\"].shape)\n",
    "print(\"Label data shape : \", speech_data[\"label_vals\"].shape)\n",
    "\n",
    "print(type(speech_data[\"wav_vals\"]))"
   ]
  },
  {
   "cell_type": "markdown",
   "metadata": {},
   "source": [
    "# 데이터 변형"
   ]
  },
  {
   "cell_type": "code",
   "execution_count": 2,
   "metadata": {},
   "outputs": [
    {
     "name": "stdout",
     "output_type": "stream",
     "text": [
      "Waveform shape :  (50620, 8000)\n",
      "Spectrogram shape :  (50620, 130, 126)\n"
     ]
    }
   ],
   "source": [
    "import librosa\n",
    "\n",
    "def wav2spec(wav, fft_size=258): # spectrogram shape을 맞추기위해서 size 변형\n",
    "    D = np.abs(librosa.stft(wav, n_fft=fft_size))\n",
    "    return D\n",
    "\n",
    "spec = []\n",
    "for i in speech_data[\"wav_vals\"]:\n",
    "    data = wav2spec(i)\n",
    "    spec.append(data)\n",
    "\n",
    "spec_data = np.array(spec)\n",
    "\n",
    "print(\"Waveform shape : \",speech_data[\"wav_vals\"].shape)\n",
    "print(\"Spectrogram shape : \",spec_data.shape)\n",
    "\n"
   ]
  },
  {
   "cell_type": "markdown",
   "metadata": {},
   "source": [
    "# 데이터 확인"
   ]
  },
  {
   "cell_type": "code",
   "execution_count": 3,
   "metadata": {},
   "outputs": [
    {
     "name": "stdout",
     "output_type": "stream",
     "text": [
      "130\n",
      "126\n"
     ]
    },
    {
     "data": {
      "text/html": [
       "<div>\n",
       "<style scoped>\n",
       "    .dataframe tbody tr th:only-of-type {\n",
       "        vertical-align: middle;\n",
       "    }\n",
       "\n",
       "    .dataframe tbody tr th {\n",
       "        vertical-align: top;\n",
       "    }\n",
       "\n",
       "    .dataframe thead th {\n",
       "        text-align: right;\n",
       "    }\n",
       "</style>\n",
       "<table border=\"1\" class=\"dataframe\">\n",
       "  <thead>\n",
       "    <tr style=\"text-align: right;\">\n",
       "      <th></th>\n",
       "      <th>0</th>\n",
       "      <th>1</th>\n",
       "      <th>2</th>\n",
       "      <th>3</th>\n",
       "      <th>4</th>\n",
       "      <th>5</th>\n",
       "      <th>6</th>\n",
       "      <th>7</th>\n",
       "      <th>8</th>\n",
       "      <th>9</th>\n",
       "      <th>...</th>\n",
       "      <th>7990</th>\n",
       "      <th>7991</th>\n",
       "      <th>7992</th>\n",
       "      <th>7993</th>\n",
       "      <th>7994</th>\n",
       "      <th>7995</th>\n",
       "      <th>7996</th>\n",
       "      <th>7997</th>\n",
       "      <th>7998</th>\n",
       "      <th>7999</th>\n",
       "    </tr>\n",
       "  </thead>\n",
       "  <tbody>\n",
       "    <tr>\n",
       "      <th>0</th>\n",
       "      <td>-0.000127</td>\n",
       "      <td>-0.000113</td>\n",
       "      <td>-0.000187</td>\n",
       "      <td>-0.000355</td>\n",
       "      <td>0.000106</td>\n",
       "      <td>-0.000282</td>\n",
       "      <td>0.000068</td>\n",
       "      <td>-0.000227</td>\n",
       "      <td>-0.000424</td>\n",
       "      <td>0.000063</td>\n",
       "      <td>...</td>\n",
       "      <td>0.000183</td>\n",
       "      <td>-0.000043</td>\n",
       "      <td>0.000181</td>\n",
       "      <td>0.000011</td>\n",
       "      <td>-0.000343</td>\n",
       "      <td>-0.000350</td>\n",
       "      <td>-0.000074</td>\n",
       "      <td>-0.000016</td>\n",
       "      <td>-0.000493</td>\n",
       "      <td>-0.000355</td>\n",
       "    </tr>\n",
       "    <tr>\n",
       "      <th>1</th>\n",
       "      <td>-0.003070</td>\n",
       "      <td>-0.004108</td>\n",
       "      <td>-0.003310</td>\n",
       "      <td>-0.004427</td>\n",
       "      <td>-0.003219</td>\n",
       "      <td>-0.004129</td>\n",
       "      <td>-0.004625</td>\n",
       "      <td>-0.004393</td>\n",
       "      <td>-0.004105</td>\n",
       "      <td>-0.004407</td>\n",
       "      <td>...</td>\n",
       "      <td>-0.004664</td>\n",
       "      <td>-0.004707</td>\n",
       "      <td>-0.003774</td>\n",
       "      <td>-0.005877</td>\n",
       "      <td>-0.006239</td>\n",
       "      <td>-0.005977</td>\n",
       "      <td>-0.004616</td>\n",
       "      <td>-0.004678</td>\n",
       "      <td>-0.004215</td>\n",
       "      <td>-0.006101</td>\n",
       "    </tr>\n",
       "    <tr>\n",
       "      <th>2</th>\n",
       "      <td>0.000159</td>\n",
       "      <td>0.001114</td>\n",
       "      <td>-0.001259</td>\n",
       "      <td>-0.000738</td>\n",
       "      <td>0.003397</td>\n",
       "      <td>0.001521</td>\n",
       "      <td>-0.002699</td>\n",
       "      <td>-0.002433</td>\n",
       "      <td>-0.000022</td>\n",
       "      <td>-0.002244</td>\n",
       "      <td>...</td>\n",
       "      <td>0.014679</td>\n",
       "      <td>0.017458</td>\n",
       "      <td>-0.001245</td>\n",
       "      <td>-0.024796</td>\n",
       "      <td>-0.040312</td>\n",
       "      <td>-0.026082</td>\n",
       "      <td>-0.014229</td>\n",
       "      <td>-0.009507</td>\n",
       "      <td>0.014781</td>\n",
       "      <td>0.034189</td>\n",
       "    </tr>\n",
       "    <tr>\n",
       "      <th>3</th>\n",
       "      <td>0.001268</td>\n",
       "      <td>0.001388</td>\n",
       "      <td>0.000152</td>\n",
       "      <td>0.000120</td>\n",
       "      <td>-0.000680</td>\n",
       "      <td>0.000199</td>\n",
       "      <td>-0.000232</td>\n",
       "      <td>-0.000001</td>\n",
       "      <td>0.001591</td>\n",
       "      <td>0.000617</td>\n",
       "      <td>...</td>\n",
       "      <td>-0.001752</td>\n",
       "      <td>-0.001838</td>\n",
       "      <td>-0.001485</td>\n",
       "      <td>-0.001309</td>\n",
       "      <td>0.003230</td>\n",
       "      <td>0.008921</td>\n",
       "      <td>0.008553</td>\n",
       "      <td>0.001485</td>\n",
       "      <td>-0.002961</td>\n",
       "      <td>-0.005057</td>\n",
       "    </tr>\n",
       "    <tr>\n",
       "      <th>4</th>\n",
       "      <td>0.000574</td>\n",
       "      <td>0.000840</td>\n",
       "      <td>0.000895</td>\n",
       "      <td>0.000647</td>\n",
       "      <td>0.000280</td>\n",
       "      <td>-0.000217</td>\n",
       "      <td>0.000461</td>\n",
       "      <td>0.000633</td>\n",
       "      <td>0.000636</td>\n",
       "      <td>0.001064</td>\n",
       "      <td>...</td>\n",
       "      <td>0.001174</td>\n",
       "      <td>0.001058</td>\n",
       "      <td>0.000712</td>\n",
       "      <td>0.000387</td>\n",
       "      <td>0.000962</td>\n",
       "      <td>0.000956</td>\n",
       "      <td>0.000631</td>\n",
       "      <td>0.000834</td>\n",
       "      <td>0.000661</td>\n",
       "      <td>0.000674</td>\n",
       "    </tr>\n",
       "    <tr>\n",
       "      <th>...</th>\n",
       "      <td>...</td>\n",
       "      <td>...</td>\n",
       "      <td>...</td>\n",
       "      <td>...</td>\n",
       "      <td>...</td>\n",
       "      <td>...</td>\n",
       "      <td>...</td>\n",
       "      <td>...</td>\n",
       "      <td>...</td>\n",
       "      <td>...</td>\n",
       "      <td>...</td>\n",
       "      <td>...</td>\n",
       "      <td>...</td>\n",
       "      <td>...</td>\n",
       "      <td>...</td>\n",
       "      <td>...</td>\n",
       "      <td>...</td>\n",
       "      <td>...</td>\n",
       "      <td>...</td>\n",
       "      <td>...</td>\n",
       "      <td>...</td>\n",
       "    </tr>\n",
       "    <tr>\n",
       "      <th>50615</th>\n",
       "      <td>0.334931</td>\n",
       "      <td>-0.117322</td>\n",
       "      <td>-0.014725</td>\n",
       "      <td>0.024858</td>\n",
       "      <td>-0.229744</td>\n",
       "      <td>0.082945</td>\n",
       "      <td>0.217508</td>\n",
       "      <td>0.185062</td>\n",
       "      <td>0.027536</td>\n",
       "      <td>0.286398</td>\n",
       "      <td>...</td>\n",
       "      <td>-0.067289</td>\n",
       "      <td>0.079807</td>\n",
       "      <td>0.292446</td>\n",
       "      <td>0.049526</td>\n",
       "      <td>0.632250</td>\n",
       "      <td>0.241216</td>\n",
       "      <td>-0.207395</td>\n",
       "      <td>0.048736</td>\n",
       "      <td>0.198288</td>\n",
       "      <td>0.104901</td>\n",
       "    </tr>\n",
       "    <tr>\n",
       "      <th>50616</th>\n",
       "      <td>0.184544</td>\n",
       "      <td>-0.125377</td>\n",
       "      <td>0.176016</td>\n",
       "      <td>-0.274171</td>\n",
       "      <td>-0.080463</td>\n",
       "      <td>-0.145032</td>\n",
       "      <td>0.109245</td>\n",
       "      <td>0.263641</td>\n",
       "      <td>-0.096188</td>\n",
       "      <td>-0.060992</td>\n",
       "      <td>...</td>\n",
       "      <td>-0.136064</td>\n",
       "      <td>-0.187057</td>\n",
       "      <td>0.017153</td>\n",
       "      <td>-0.081678</td>\n",
       "      <td>0.123741</td>\n",
       "      <td>-0.134321</td>\n",
       "      <td>0.046961</td>\n",
       "      <td>0.069949</td>\n",
       "      <td>-0.098987</td>\n",
       "      <td>0.046504</td>\n",
       "    </tr>\n",
       "    <tr>\n",
       "      <th>50617</th>\n",
       "      <td>-0.071388</td>\n",
       "      <td>0.111577</td>\n",
       "      <td>-0.349125</td>\n",
       "      <td>-0.501486</td>\n",
       "      <td>-0.093450</td>\n",
       "      <td>0.099969</td>\n",
       "      <td>0.083615</td>\n",
       "      <td>0.275408</td>\n",
       "      <td>-0.102866</td>\n",
       "      <td>-0.093024</td>\n",
       "      <td>...</td>\n",
       "      <td>0.149055</td>\n",
       "      <td>0.086741</td>\n",
       "      <td>0.108124</td>\n",
       "      <td>-0.129099</td>\n",
       "      <td>-0.004562</td>\n",
       "      <td>0.485416</td>\n",
       "      <td>0.010466</td>\n",
       "      <td>0.127256</td>\n",
       "      <td>-0.206745</td>\n",
       "      <td>0.021367</td>\n",
       "    </tr>\n",
       "    <tr>\n",
       "      <th>50618</th>\n",
       "      <td>0.280666</td>\n",
       "      <td>0.176844</td>\n",
       "      <td>-0.082263</td>\n",
       "      <td>0.141288</td>\n",
       "      <td>0.401925</td>\n",
       "      <td>-0.170835</td>\n",
       "      <td>-0.251514</td>\n",
       "      <td>0.239983</td>\n",
       "      <td>0.441771</td>\n",
       "      <td>-0.060881</td>\n",
       "      <td>...</td>\n",
       "      <td>-0.139662</td>\n",
       "      <td>0.253226</td>\n",
       "      <td>0.175396</td>\n",
       "      <td>0.236805</td>\n",
       "      <td>-0.047422</td>\n",
       "      <td>0.359583</td>\n",
       "      <td>0.118793</td>\n",
       "      <td>0.043083</td>\n",
       "      <td>0.085176</td>\n",
       "      <td>-0.132893</td>\n",
       "    </tr>\n",
       "    <tr>\n",
       "      <th>50619</th>\n",
       "      <td>-0.054226</td>\n",
       "      <td>0.166265</td>\n",
       "      <td>0.359905</td>\n",
       "      <td>0.410574</td>\n",
       "      <td>0.572964</td>\n",
       "      <td>0.141875</td>\n",
       "      <td>0.056773</td>\n",
       "      <td>0.095549</td>\n",
       "      <td>0.233172</td>\n",
       "      <td>-0.313947</td>\n",
       "      <td>...</td>\n",
       "      <td>0.051375</td>\n",
       "      <td>0.030091</td>\n",
       "      <td>0.127480</td>\n",
       "      <td>-0.059374</td>\n",
       "      <td>-0.094173</td>\n",
       "      <td>0.252142</td>\n",
       "      <td>0.170745</td>\n",
       "      <td>-0.349393</td>\n",
       "      <td>0.026216</td>\n",
       "      <td>0.209348</td>\n",
       "    </tr>\n",
       "  </tbody>\n",
       "</table>\n",
       "<p>50620 rows × 8000 columns</p>\n",
       "</div>"
      ],
      "text/plain": [
       "           0         1         2         3         4         5         6     \\\n",
       "0     -0.000127 -0.000113 -0.000187 -0.000355  0.000106 -0.000282  0.000068   \n",
       "1     -0.003070 -0.004108 -0.003310 -0.004427 -0.003219 -0.004129 -0.004625   \n",
       "2      0.000159  0.001114 -0.001259 -0.000738  0.003397  0.001521 -0.002699   \n",
       "3      0.001268  0.001388  0.000152  0.000120 -0.000680  0.000199 -0.000232   \n",
       "4      0.000574  0.000840  0.000895  0.000647  0.000280 -0.000217  0.000461   \n",
       "...         ...       ...       ...       ...       ...       ...       ...   \n",
       "50615  0.334931 -0.117322 -0.014725  0.024858 -0.229744  0.082945  0.217508   \n",
       "50616  0.184544 -0.125377  0.176016 -0.274171 -0.080463 -0.145032  0.109245   \n",
       "50617 -0.071388  0.111577 -0.349125 -0.501486 -0.093450  0.099969  0.083615   \n",
       "50618  0.280666  0.176844 -0.082263  0.141288  0.401925 -0.170835 -0.251514   \n",
       "50619 -0.054226  0.166265  0.359905  0.410574  0.572964  0.141875  0.056773   \n",
       "\n",
       "           7         8         9     ...      7990      7991      7992  \\\n",
       "0     -0.000227 -0.000424  0.000063  ...  0.000183 -0.000043  0.000181   \n",
       "1     -0.004393 -0.004105 -0.004407  ... -0.004664 -0.004707 -0.003774   \n",
       "2     -0.002433 -0.000022 -0.002244  ...  0.014679  0.017458 -0.001245   \n",
       "3     -0.000001  0.001591  0.000617  ... -0.001752 -0.001838 -0.001485   \n",
       "4      0.000633  0.000636  0.001064  ...  0.001174  0.001058  0.000712   \n",
       "...         ...       ...       ...  ...       ...       ...       ...   \n",
       "50615  0.185062  0.027536  0.286398  ... -0.067289  0.079807  0.292446   \n",
       "50616  0.263641 -0.096188 -0.060992  ... -0.136064 -0.187057  0.017153   \n",
       "50617  0.275408 -0.102866 -0.093024  ...  0.149055  0.086741  0.108124   \n",
       "50618  0.239983  0.441771 -0.060881  ... -0.139662  0.253226  0.175396   \n",
       "50619  0.095549  0.233172 -0.313947  ...  0.051375  0.030091  0.127480   \n",
       "\n",
       "           7993      7994      7995      7996      7997      7998      7999  \n",
       "0      0.000011 -0.000343 -0.000350 -0.000074 -0.000016 -0.000493 -0.000355  \n",
       "1     -0.005877 -0.006239 -0.005977 -0.004616 -0.004678 -0.004215 -0.006101  \n",
       "2     -0.024796 -0.040312 -0.026082 -0.014229 -0.009507  0.014781  0.034189  \n",
       "3     -0.001309  0.003230  0.008921  0.008553  0.001485 -0.002961 -0.005057  \n",
       "4      0.000387  0.000962  0.000956  0.000631  0.000834  0.000661  0.000674  \n",
       "...         ...       ...       ...       ...       ...       ...       ...  \n",
       "50615  0.049526  0.632250  0.241216 -0.207395  0.048736  0.198288  0.104901  \n",
       "50616 -0.081678  0.123741 -0.134321  0.046961  0.069949 -0.098987  0.046504  \n",
       "50617 -0.129099 -0.004562  0.485416  0.010466  0.127256 -0.206745  0.021367  \n",
       "50618  0.236805 -0.047422  0.359583  0.118793  0.043083  0.085176 -0.132893  \n",
       "50619 -0.059374 -0.094173  0.252142  0.170745 -0.349393  0.026216  0.209348  \n",
       "\n",
       "[50620 rows x 8000 columns]"
      ]
     },
     "execution_count": 3,
     "metadata": {},
     "output_type": "execute_result"
    }
   ],
   "source": [
    "print(len(spec_data[0]))\n",
    "print(len(spec_data[0][0]))\n",
    "\n",
    "import pandas as pd\n",
    "\n",
    "s = pd.DataFrame(speech_data[\"wav_vals\"])\n",
    "s"
   ]
  },
  {
   "cell_type": "markdown",
   "metadata": {},
   "source": [
    "## label data 처리"
   ]
  },
  {
   "cell_type": "code",
   "execution_count": 4,
   "metadata": {},
   "outputs": [
    {
     "name": "stdout",
     "output_type": "stream",
     "text": [
      "LABEL :  ['yes', 'no', 'up', 'down', 'left', 'right', 'on', 'off', 'stop', 'go', 'unknown', 'silence']\n",
      "Indexed LABEL :  {'yes': 0, 'no': 1, 'up': 2, 'down': 3, 'left': 4, 'right': 5, 'on': 6, 'off': 7, 'stop': 8, 'go': 9, 'unknown': 10, 'silence': 11}\n"
     ]
    }
   ],
   "source": [
    "target_list = ['yes', 'no', 'up', 'down', 'left', 'right', 'on', 'off', 'stop', 'go']\n",
    "\n",
    "label_value = target_list\n",
    "label_value.append('unknown')\n",
    "label_value.append('silence')\n",
    "\n",
    "print('LABEL : ', label_value)\n",
    "\n",
    "new_label_value = dict()\n",
    "for i, l in enumerate(label_value):\n",
    "    new_label_value[l] = i\n",
    "label_value = new_label_value\n",
    "\n",
    "print('Indexed LABEL : ', label_value)"
   ]
  },
  {
   "cell_type": "code",
   "execution_count": 5,
   "metadata": {},
   "outputs": [
    {
     "name": "stdout",
     "output_type": "stream",
     "text": [
      "50620\n"
     ]
    }
   ],
   "source": [
    "temp = []\n",
    "for v in speech_data[\"label_vals\"]:\n",
    "    temp.append(label_value[v[0]])\n",
    "label_data = np.array(temp)\n",
    "\n",
    "label_data\n",
    "print(len(label_data))"
   ]
  },
  {
   "cell_type": "markdown",
   "metadata": {},
   "source": [
    "# 훈련 / 테스트 셋 분리"
   ]
  },
  {
   "cell_type": "code",
   "execution_count": 6,
   "metadata": {},
   "outputs": [
    {
     "name": "stdout",
     "output_type": "stream",
     "text": [
      "(45558, 130, 126, 1)\n",
      "[[[[2.3780025e-03]\n",
      "   [1.7223418e-03]\n",
      "   [6.9769914e-04]\n",
      "   ...\n",
      "   [2.6462442e-04]\n",
      "   [4.6283836e-04]\n",
      "   [8.5395685e-04]]\n",
      "\n",
      "  [[1.9292784e-03]\n",
      "   [7.3714281e-04]\n",
      "   [1.6783897e-03]\n",
      "   ...\n",
      "   [3.8036695e-04]\n",
      "   [4.5541272e-04]\n",
      "   [9.8669669e-04]]\n",
      "\n",
      "  [[1.3538057e-03]\n",
      "   [1.1448943e-03]\n",
      "   [2.9955388e-03]\n",
      "   ...\n",
      "   [4.2854124e-04]\n",
      "   [8.9756143e-04]\n",
      "   [1.8060579e-03]]\n",
      "\n",
      "  ...\n",
      "\n",
      "  [[4.0143699e-05]\n",
      "   [2.2513816e-05]\n",
      "   [1.3179465e-05]\n",
      "   ...\n",
      "   [2.8574509e-06]\n",
      "   [7.4063955e-06]\n",
      "   [1.4097084e-05]]\n",
      "\n",
      "  [[4.7304256e-05]\n",
      "   [2.6502725e-05]\n",
      "   [4.0967334e-06]\n",
      "   ...\n",
      "   [2.9738617e-06]\n",
      "   [8.2518454e-06]\n",
      "   [1.5221042e-05]]\n",
      "\n",
      "  [[4.8599341e-05]\n",
      "   [2.2543467e-05]\n",
      "   [1.7705809e-06]\n",
      "   ...\n",
      "   [1.0745722e-06]\n",
      "   [8.1437001e-06]\n",
      "   [1.5930926e-05]]]\n",
      "\n",
      "\n",
      " [[[1.8548517e-01]\n",
      "   [1.2508872e-01]\n",
      "   [3.0829890e-03]\n",
      "   ...\n",
      "   [1.4160803e-01]\n",
      "   [2.1603216e-01]\n",
      "   [2.3611052e-01]]\n",
      "\n",
      "  [[1.0993121e-01]\n",
      "   [9.7558841e-02]\n",
      "   [5.9772938e-02]\n",
      "   ...\n",
      "   [1.0215977e-01]\n",
      "   [1.1011054e-01]\n",
      "   [1.3058834e-01]]\n",
      "\n",
      "  [[1.6593350e-02]\n",
      "   [3.0592386e-02]\n",
      "   [2.0902617e-02]\n",
      "   ...\n",
      "   [2.3039969e-02]\n",
      "   [1.5267366e-02]\n",
      "   [3.4787688e-02]]\n",
      "\n",
      "  ...\n",
      "\n",
      "  [[1.3204920e-03]\n",
      "   [6.4770802e-04]\n",
      "   [3.5618184e-05]\n",
      "   ...\n",
      "   [9.1953698e-06]\n",
      "   [9.9051067e-05]\n",
      "   [1.8695243e-04]]\n",
      "\n",
      "  [[1.2955714e-03]\n",
      "   [6.5937924e-04]\n",
      "   [6.2222762e-06]\n",
      "   ...\n",
      "   [7.2113589e-06]\n",
      "   [7.7970988e-05]\n",
      "   [1.5749788e-04]]\n",
      "\n",
      "  [[1.2996055e-03]\n",
      "   [6.5687782e-04]\n",
      "   [7.1231347e-07]\n",
      "   ...\n",
      "   [5.5365822e-06]\n",
      "   [7.7215889e-05]\n",
      "   [1.5008514e-04]]]\n",
      "\n",
      "\n",
      " [[[1.2232009e-02]\n",
      "   [5.4237894e-03]\n",
      "   [1.0856222e-03]\n",
      "   ...\n",
      "   [1.4595808e-04]\n",
      "   [4.5316368e-03]\n",
      "   [1.1274891e-02]]\n",
      "\n",
      "  [[1.6272292e-02]\n",
      "   [7.7571874e-03]\n",
      "   [2.2594412e-03]\n",
      "   ...\n",
      "   [2.7440647e-03]\n",
      "   [7.5734272e-03]\n",
      "   [1.1828079e-02]]\n",
      "\n",
      "  [[2.0744350e-02]\n",
      "   [1.3923983e-02]\n",
      "   [3.5887905e-03]\n",
      "   ...\n",
      "   [7.6561775e-03]\n",
      "   [6.7770719e-03]\n",
      "   [1.0202083e-02]]\n",
      "\n",
      "  ...\n",
      "\n",
      "  [[4.7797156e-03]\n",
      "   [2.1181782e-03]\n",
      "   [5.5800210e-04]\n",
      "   ...\n",
      "   [5.7745387e-04]\n",
      "   [2.3788228e-03]\n",
      "   [4.3974542e-03]]\n",
      "\n",
      "  [[4.7082826e-03]\n",
      "   [2.5112214e-03]\n",
      "   [7.1328795e-05]\n",
      "   ...\n",
      "   [1.7360515e-04]\n",
      "   [2.5071879e-03]\n",
      "   [4.6805949e-03]]\n",
      "\n",
      "  [[4.7772592e-03]\n",
      "   [2.3603707e-03]\n",
      "   [5.2888296e-05]\n",
      "   ...\n",
      "   [5.4939403e-05]\n",
      "   [2.2806965e-03]\n",
      "   [4.5669531e-03]]]\n",
      "\n",
      "\n",
      " ...\n",
      "\n",
      "\n",
      " [[[1.2957458e-02]\n",
      "   [5.5932924e-03]\n",
      "   [1.3190653e-03]\n",
      "   ...\n",
      "   [2.8523204e-03]\n",
      "   [4.8199676e-05]\n",
      "   [2.4354138e-04]]\n",
      "\n",
      "  [[1.7173311e-02]\n",
      "   [8.2820682e-03]\n",
      "   [1.8595022e-03]\n",
      "   ...\n",
      "   [3.8158605e-03]\n",
      "   [3.9493703e-04]\n",
      "   [1.3750590e-03]]\n",
      "\n",
      "  [[2.2219973e-02]\n",
      "   [1.4661776e-02]\n",
      "   [3.4718628e-03]\n",
      "   ...\n",
      "   [7.8961626e-03]\n",
      "   [4.7400310e-03]\n",
      "   [3.2169407e-03]]\n",
      "\n",
      "  ...\n",
      "\n",
      "  [[4.7563580e-03]\n",
      "   [2.0995387e-03]\n",
      "   [5.5922067e-04]\n",
      "   ...\n",
      "   [5.9143879e-04]\n",
      "   [2.3076874e-03]\n",
      "   [4.2258096e-03]]\n",
      "\n",
      "  [[4.6792151e-03]\n",
      "   [2.4996309e-03]\n",
      "   [7.5148680e-05]\n",
      "   ...\n",
      "   [1.8710442e-04]\n",
      "   [2.4348083e-03]\n",
      "   [4.5339754e-03]]\n",
      "\n",
      "  [[4.7515566e-03]\n",
      "   [2.3457869e-03]\n",
      "   [5.3248896e-05]\n",
      "   ...\n",
      "   [5.7364621e-05]\n",
      "   [2.1973746e-03]\n",
      "   [4.4157007e-03]]]\n",
      "\n",
      "\n",
      " [[[1.1466725e-02]\n",
      "   [5.1663285e-03]\n",
      "   [6.2631618e-04]\n",
      "   ...\n",
      "   [2.8650884e-03]\n",
      "   [4.1998536e-03]\n",
      "   [7.4414760e-03]]\n",
      "\n",
      "  [[1.1725430e-02]\n",
      "   [6.4524193e-03]\n",
      "   [8.0736069e-04]\n",
      "   ...\n",
      "   [3.2363718e-03]\n",
      "   [3.5657231e-03]\n",
      "   [8.2537215e-03]]\n",
      "\n",
      "  [[1.4987918e-02]\n",
      "   [6.0672644e-03]\n",
      "   [3.1129564e-03]\n",
      "   ...\n",
      "   [6.4989799e-03]\n",
      "   [8.5043088e-03]\n",
      "   [2.8087697e-03]]\n",
      "\n",
      "  ...\n",
      "\n",
      "  [[5.3151906e-04]\n",
      "   [2.8023252e-04]\n",
      "   [1.4995156e-05]\n",
      "   ...\n",
      "   [8.1439305e-04]\n",
      "   [4.0168031e-03]\n",
      "   [7.8499140e-03]]\n",
      "\n",
      "  [[5.2896363e-04]\n",
      "   [2.6194428e-04]\n",
      "   [4.8316547e-06]\n",
      "   ...\n",
      "   [3.3716680e-04]\n",
      "   [3.5646765e-03]\n",
      "   [7.1832254e-03]]\n",
      "\n",
      "  [[5.2060775e-04]\n",
      "   [2.6568054e-04]\n",
      "   [9.2156529e-07]\n",
      "   ...\n",
      "   [3.2424367e-05]\n",
      "   [3.8877190e-03]\n",
      "   [7.2149341e-03]]]\n",
      "\n",
      "\n",
      " [[[7.9726651e-03]\n",
      "   [1.4528239e-03]\n",
      "   [4.2771334e-03]\n",
      "   ...\n",
      "   [4.7902586e-03]\n",
      "   [7.7615381e-04]\n",
      "   [1.8461327e-03]]\n",
      "\n",
      "  [[3.7489762e-04]\n",
      "   [1.0148802e-02]\n",
      "   [1.1198437e-02]\n",
      "   ...\n",
      "   [7.6985541e-03]\n",
      "   [3.4997184e-03]\n",
      "   [4.0125228e-03]]\n",
      "\n",
      "  [[1.2562913e-02]\n",
      "   [1.4456794e-02]\n",
      "   [1.9396055e-02]\n",
      "   ...\n",
      "   [1.1369054e-02]\n",
      "   [7.5493017e-03]\n",
      "   [9.7367418e-04]]\n",
      "\n",
      "  ...\n",
      "\n",
      "  [[3.0552215e-04]\n",
      "   [7.0091424e-05]\n",
      "   [1.3421749e-04]\n",
      "   ...\n",
      "   [9.9429762e-06]\n",
      "   [2.9078525e-04]\n",
      "   [5.8465899e-04]]\n",
      "\n",
      "  [[3.5054670e-04]\n",
      "   [2.2212994e-04]\n",
      "   [2.4262188e-05]\n",
      "   ...\n",
      "   [4.2550950e-05]\n",
      "   [2.0897045e-04]\n",
      "   [4.3245364e-04]]\n",
      "\n",
      "  [[4.0542200e-04]\n",
      "   [1.9794774e-04]\n",
      "   [2.0063579e-05]\n",
      "   ...\n",
      "   [3.1549945e-07]\n",
      "   [2.1503323e-04]\n",
      "   [4.0165414e-04]]]]\n"
     ]
    }
   ],
   "source": [
    "from sklearn.model_selection import train_test_split\n",
    "\n",
    "# sr = 16380  #################################################################### 136 * 120\n",
    "train_wav, test_wav, train_label, test_label = train_test_split(spec_data, \n",
    "                                                                label_data, \n",
    "                                                                test_size=0.1,\n",
    "                                                                shuffle=True)\n",
    "\n",
    "# train_wav = train_wav.reshape([-1, sr, 1]) # add channel for CNN\n",
    "# test_wav = test_wav.reshape([-1, sr, 1])\n",
    "\n",
    "train_wav = train_wav.reshape([-1, 130, 126 , 1]) # add channel for CNN\n",
    "test_wav = test_wav.reshape([-1, 130, 126, 1])\n",
    "\n",
    "\n",
    "print(train_wav.shape)\n",
    "print(train_wav)"
   ]
  },
  {
   "cell_type": "code",
   "execution_count": 7,
   "metadata": {},
   "outputs": [
    {
     "name": "stdout",
     "output_type": "stream",
     "text": [
      "train data :  (45558, 130, 126, 1)\n",
      "train labels :  (45558,)\n",
      "test data :  (5062, 130, 126, 1)\n",
      "test labels :  (5062,)\n"
     ]
    }
   ],
   "source": [
    "print(\"train data : \", train_wav.shape)\n",
    "print(\"train labels : \", train_label.shape)\n",
    "print(\"test data : \", test_wav.shape)\n",
    "print(\"test labels : \", test_label.shape)"
   ]
  },
  {
   "cell_type": "markdown",
   "metadata": {},
   "source": [
    "# 하이퍼 파라미터 세팅"
   ]
  },
  {
   "cell_type": "code",
   "execution_count": 8,
   "metadata": {},
   "outputs": [
    {
     "data": {
      "text/plain": [
       "'/home/aiffel/mini_projects/_E-05_speech/'"
      ]
     },
     "execution_count": 8,
     "metadata": {},
     "output_type": "execute_result"
    }
   ],
   "source": [
    "batch_size = 256\n",
    "max_epochs = 5\n",
    "\n",
    "# the save point\n",
    "checkpoint_dir = os.getenv('HOME')+'/mini_projects/_E-05_speech/'\n",
    "\n",
    "checkpoint_dir"
   ]
  },
  {
   "cell_type": "markdown",
   "metadata": {},
   "source": [
    "# 데이터 셋팅"
   ]
  },
  {
   "cell_type": "code",
   "execution_count": 9,
   "metadata": {},
   "outputs": [],
   "source": [
    "def one_hot_label(wav, label):\n",
    "    label = tf.one_hot(label, depth=12)\n",
    "    return wav, label"
   ]
  },
  {
   "cell_type": "code",
   "execution_count": 10,
   "metadata": {},
   "outputs": [
    {
     "name": "stdout",
     "output_type": "stream",
     "text": [
      "<BatchDataset shapes: ((None, 130, 126, 1), (None, 12)), types: (tf.float32, tf.float32)>\n",
      "<BatchDataset shapes: ((None, 130, 126, 1), (None, 12)), types: (tf.float32, tf.float32)>\n"
     ]
    }
   ],
   "source": [
    "import tensorflow as tf\n",
    "\n",
    "del speech_data\n",
    "del spec_data\n",
    "\n",
    "# for train\n",
    "train_dataset = tf.data.Dataset.from_tensor_slices((train_wav, train_label))\n",
    "train_dataset = train_dataset.map(one_hot_label)\n",
    "train_dataset = train_dataset.repeat().batch(batch_size=batch_size)\n",
    "print(train_dataset)\n",
    "\n",
    "# for test\n",
    "test_dataset = tf.data.Dataset.from_tensor_slices((test_wav, test_label))\n",
    "test_dataset = test_dataset.map(one_hot_label)\n",
    "test_dataset = test_dataset.batch(batch_size=batch_size)\n",
    "print(test_dataset)\n",
    "\n"
   ]
  },
  {
   "cell_type": "markdown",
   "metadata": {},
   "source": [
    " # 모델 구성"
   ]
  },
  {
   "cell_type": "code",
   "execution_count": 19,
   "metadata": {},
   "outputs": [
    {
     "name": "stdout",
     "output_type": "stream",
     "text": [
      "Model: \"model\"\n",
      "_________________________________________________________________\n",
      "Layer (type)                 Output Shape              Param #   \n",
      "=================================================================\n",
      "input_9 (InputLayer)         [(None, 130, 126, 1)]     0         \n",
      "_________________________________________________________________\n",
      "conv2d_24 (Conv2D)           (None, 130, 126, 32)      2624      \n",
      "_________________________________________________________________\n",
      "conv2d_25 (Conv2D)           (None, 130, 126, 32)      82976     \n",
      "_________________________________________________________________\n",
      "max_pooling2d_6 (MaxPooling2 (None, 65, 63, 32)        0         \n",
      "_________________________________________________________________\n",
      "conv2d_26 (Conv2D)           (None, 65, 63, 64)        165952    \n",
      "_________________________________________________________________\n",
      "conv2d_27 (Conv2D)           (None, 65, 63, 64)        331840    \n",
      "_________________________________________________________________\n",
      "max_pooling2d_7 (MaxPooling2 (None, 32, 31, 64)        0         \n",
      "_________________________________________________________________\n",
      "conv2d_28 (Conv2D)           (None, 32, 31, 128)       663680    \n",
      "_________________________________________________________________\n",
      "conv2d_29 (Conv2D)           (None, 32, 31, 128)       1327232   \n",
      "_________________________________________________________________\n",
      "conv2d_30 (Conv2D)           (None, 32, 31, 128)       1327232   \n",
      "_________________________________________________________________\n",
      "max_pooling2d_8 (MaxPooling2 (None, 16, 15, 128)       0         \n",
      "_________________________________________________________________\n",
      "conv2d_31 (Conv2D)           (None, 16, 15, 256)       2654464   \n",
      "_________________________________________________________________\n",
      "conv2d_32 (Conv2D)           (None, 16, 15, 256)       5308672   \n",
      "_________________________________________________________________\n",
      "conv2d_33 (Conv2D)           (None, 16, 15, 256)       5308672   \n",
      "_________________________________________________________________\n",
      "max_pooling2d_9 (MaxPooling2 (None, 8, 7, 256)         0         \n",
      "_________________________________________________________________\n",
      "dropout (Dropout)            (None, 8, 7, 256)         0         \n",
      "_________________________________________________________________\n",
      "flatten (Flatten)            (None, 14336)             0         \n",
      "_________________________________________________________________\n",
      "dense (Dense)                (None, 256)               3670272   \n",
      "_________________________________________________________________\n",
      "batch_normalization (BatchNo (None, 256)               1024      \n",
      "_________________________________________________________________\n",
      "activation (Activation)      (None, 256)               0         \n",
      "_________________________________________________________________\n",
      "dense_1 (Dense)              (None, 12)                3084      \n",
      "=================================================================\n",
      "Total params: 20,847,724\n",
      "Trainable params: 20,847,212\n",
      "Non-trainable params: 512\n",
      "_________________________________________________________________\n"
     ]
    }
   ],
   "source": [
    "from tensorflow.keras import layers\n",
    "\n",
    "input_tensor = layers.Input(shape=(130, 126, 1))\n",
    "#input_tensor = layers.Input(shape=(sr, 1))\n",
    "\n",
    "x = layers.Conv2D(32, 9, padding='same', activation='relu')(input_tensor)\n",
    "x = layers.Conv2D(32, 9, padding='same', activation='relu')(x)\n",
    "x = layers.MaxPool2D()(x)\n",
    "\n",
    "x = layers.Conv2D(64, 9, padding='same', activation='relu')(x)\n",
    "x = layers.Conv2D(64, 9, padding='same', activation='relu')(x)\n",
    "x = layers.MaxPool2D()(x)\n",
    "\n",
    "x = layers.Conv2D(128, 9, padding='same', activation='relu')(x)\n",
    "x = layers.Conv2D(128, 9, padding='same', activation='relu')(x)\n",
    "x = layers.Conv2D(128, 9, padding='same', activation='relu')(x)\n",
    "x = layers.MaxPool2D()(x)\n",
    "\n",
    "x = layers.Conv2D(256, 9, padding='same', activation='relu')(x)\n",
    "x = layers.Conv2D(256, 9, padding='same', activation='relu')(x)\n",
    "x = layers.Conv2D(256, 9, padding='same', activation='relu')(x)\n",
    "x = layers.MaxPool2D()(x)\n",
    "x = layers.Dropout(0.3)(x)\n",
    "\n",
    "x = layers.Flatten()(x)\n",
    "x = layers.Dense(256)(x)\n",
    "x = layers.BatchNormalization()(x)\n",
    "x = layers.Activation('relu')(x)\n",
    "\n",
    "output_tensor = layers.Dense(12)(x)\n",
    "\n",
    "model_wav = tf.keras.Model(input_tensor, output_tensor)\n",
    "\n",
    "model_wav.summary()\n",
    "\n"
   ]
  },
  {
   "cell_type": "code",
   "execution_count": 20,
   "metadata": {},
   "outputs": [],
   "source": [
    "optimizer=tf.keras.optimizers.Adam(1e-4)\n",
    "model_wav.compile(loss=tf.keras.losses.CategoricalCrossentropy(from_logits=True),\n",
    "             optimizer=optimizer,\n",
    "             metrics=['accuracy'])"
   ]
  },
  {
   "cell_type": "code",
   "execution_count": 21,
   "metadata": {},
   "outputs": [],
   "source": [
    "cp_callback = tf.keras.callbacks.ModelCheckpoint(checkpoint_dir,\n",
    "                                                 save_weights_only=True,\n",
    "                                                 monitor='val_loss',\n",
    "                                                 mode='auto',\n",
    "                                                 save_best_only=True,\n",
    "                                                 verbose=1)"
   ]
  },
  {
   "cell_type": "markdown",
   "metadata": {},
   "source": [
    "# 모델 학습"
   ]
  },
  {
   "cell_type": "code",
   "execution_count": 22,
   "metadata": {},
   "outputs": [
    {
     "name": "stdout",
     "output_type": "stream",
     "text": [
      "Epoch 1/5\n",
      "177/177 [==============================] - ETA: 0s - loss: 1.0075 - accuracy: 0.6611\n",
      "Epoch 00001: val_loss improved from inf to 1.55666, saving model to /home/aiffel/mini_projects/_E-05_speech/\n",
      "177/177 [==============================] - 186s 1s/step - loss: 1.0075 - accuracy: 0.6611 - val_loss: 1.5567 - val_accuracy: 0.8497\n",
      "Epoch 2/5\n",
      "177/177 [==============================] - ETA: 0s - loss: 0.2933 - accuracy: 0.9053\n",
      "Epoch 00002: val_loss improved from 1.55666 to 0.50500, saving model to /home/aiffel/mini_projects/_E-05_speech/\n",
      "177/177 [==============================] - 189s 1s/step - loss: 0.2933 - accuracy: 0.9053 - val_loss: 0.5050 - val_accuracy: 0.9202\n",
      "Epoch 3/5\n",
      "177/177 [==============================] - ETA: 0s - loss: 0.1919 - accuracy: 0.9379\n",
      "Epoch 00003: val_loss improved from 0.50500 to 0.22697, saving model to /home/aiffel/mini_projects/_E-05_speech/\n",
      "177/177 [==============================] - 190s 1s/step - loss: 0.1919 - accuracy: 0.9379 - val_loss: 0.2270 - val_accuracy: 0.9258\n",
      "Epoch 4/5\n",
      "177/177 [==============================] - ETA: 0s - loss: 0.1402 - accuracy: 0.9549\n",
      "Epoch 00004: val_loss improved from 0.22697 to 0.15435, saving model to /home/aiffel/mini_projects/_E-05_speech/\n",
      "177/177 [==============================] - 192s 1s/step - loss: 0.1402 - accuracy: 0.9549 - val_loss: 0.1544 - val_accuracy: 0.9519\n",
      "Epoch 5/5\n",
      "177/177 [==============================] - ETA: 0s - loss: 0.1108 - accuracy: 0.9650\n",
      "Epoch 00005: val_loss did not improve from 0.15435\n",
      "177/177 [==============================] - 193s 1s/step - loss: 0.1108 - accuracy: 0.9650 - val_loss: 0.1733 - val_accuracy: 0.9449\n"
     ]
    }
   ],
   "source": [
    "\n",
    "\n",
    "history_wav = model_wav.fit(train_dataset, epochs=max_epochs,\n",
    "                    steps_per_epoch=len(train_wav) // batch_size,\n",
    "                    validation_data=test_dataset,\n",
    "                    validation_steps=len(test_wav) // batch_size,\n",
    "                    callbacks=[cp_callback]\n",
    "                    )"
   ]
  },
  {
   "cell_type": "code",
   "execution_count": 23,
   "metadata": {},
   "outputs": [
    {
     "data": {
      "image/png": "[encoded data removed]",
      "text/plain": [
       "<Figure size 576x576 with 2 Axes>"
      ]
     },
     "metadata": {
      "needs_background": "light"
     },
     "output_type": "display_data"
    }
   ],
   "source": [
    "import matplotlib.pyplot as plt\n",
    "\n",
    "acc = history_wav.history['accuracy']\n",
    "val_acc = history_wav.history['val_accuracy']\n",
    "\n",
    "loss=history_wav.history['loss']\n",
    "val_loss=history_wav.history['val_loss']\n",
    "\n",
    "epochs_range = range(len(acc))\n",
    "\n",
    "plt.figure(figsize=(8, 8))\n",
    "plt.subplot(1, 2, 1)\n",
    "plt.plot(epochs_range, acc, label='Training Accuracy')\n",
    "plt.plot(epochs_range, val_acc, label='Validation Accuracy')\n",
    "plt.legend(loc='lower right')\n",
    "plt.title('Training and Validation Accuracy')\n",
    "\n",
    "plt.subplot(1, 2, 2)\n",
    "plt.plot(epochs_range, loss, label='Training Loss')\n",
    "plt.plot(epochs_range, val_loss, label='Validation Loss')\n",
    "plt.legend(loc='upper right')\n",
    "plt.title('Training and Validation Loss')\n",
    "plt.show()"
   ]
  },
  {
   "cell_type": "markdown",
   "metadata": {},
   "source": [
    "# 모델 평가"
   ]
  },
  {
   "cell_type": "code",
   "execution_count": 24,
   "metadata": {},
   "outputs": [
    {
     "data": {
      "text/plain": [
       "<tensorflow.python.training.tracking.util.CheckpointLoadStatus at 0x7f8de41bfd50>"
      ]
     },
     "execution_count": 24,
     "metadata": {},
     "output_type": "execute_result"
    }
   ],
   "source": [
    "model_wav.load_weights(checkpoint_dir)"
   ]
  },
  {
   "cell_type": "code",
   "execution_count": 25,
   "metadata": {},
   "outputs": [
    {
     "name": "stdout",
     "output_type": "stream",
     "text": [
      "20/20 [==============================] - 18s 886ms/step - loss: 0.1549 - accuracy: 0.9518\n"
     ]
    }
   ],
   "source": [
    "results = model_wav.evaluate(test_dataset)"
   ]
  },
  {
   "cell_type": "code",
   "execution_count": 26,
   "metadata": {},
   "outputs": [
    {
     "name": "stdout",
     "output_type": "stream",
     "text": [
      "loss value: 0.155\n",
      "accuracy value: 95.1798%\n"
     ]
    }
   ],
   "source": [
    "# loss\n",
    "print(\"loss value: {:.3f}\".format(results[0]))\n",
    "# accuracy\n",
    "print(\"accuracy value: {:.4f}%\".format(results[1]*100))"
   ]
  },
  {
   "cell_type": "markdown",
   "metadata": {},
   "source": [
    "# 예측값 확인"
   ]
  },
  {
   "cell_type": "code",
   "execution_count": 29,
   "metadata": {},
   "outputs": [
    {
     "name": "stdout",
     "output_type": "stream",
     "text": [
      "label :  down\n"
     ]
    }
   ],
   "source": [
    "\n",
    "import random\n",
    "inv_label_value = {v: k for k, v in label_value.items()}\n",
    "batch_index = np.random.choice(len(test_wav), size=1, replace=False)\n",
    "\n",
    "batch_xs = test_wav[batch_index]\n",
    "batch_ys = test_label[batch_index]\n",
    "y_pred_ = model_wav(batch_xs, training=False)\n",
    "\n",
    "print(\"label : \", str(inv_label_value[batch_ys[0]]))\n",
    "\n",
    "# ipd.Audio(batch_xs.reshape(8000,), rate=8000)"
   ]
  },
  {
   "cell_type": "code",
   "execution_count": 30,
   "metadata": {},
   "outputs": [
    {
     "name": "stdout",
     "output_type": "stream",
     "text": [
      "y_pred: down(Correct!)\n"
     ]
    }
   ],
   "source": [
    "if np.argmax(y_pred_) == batch_ys[0]:\n",
    "    print(\"y_pred: \" + str(inv_label_value[np.argmax(y_pred_)]) + '(Correct!)')\n",
    "else:\n",
    "    print(\"y_pred: \" + str(inv_label_value[np.argmax(y_pred_)]) + '(Incorrect!)')"
   ]
  },
  {
   "cell_type": "markdown",
   "metadata": {},
   "source": [
    "# skip-connection 모델 구성"
   ]
  },
  {
   "cell_type": "code",
   "execution_count": 11,
   "metadata": {},
   "outputs": [
    {
     "name": "stdout",
     "output_type": "stream",
     "text": [
      "Model: \"model\"\n",
      "__________________________________________________________________________________________________\n",
      "Layer (type)                    Output Shape         Param #     Connected to                     \n",
      "==================================================================================================\n",
      "input_1 (InputLayer)            [(None, 130, 126, 1) 0                                            \n",
      "__________________________________________________________________________________________________\n",
      "conv2d (Conv2D)                 (None, 130, 126, 32) 2624        input_1[0][0]                    \n",
      "__________________________________________________________________________________________________\n",
      "conv2d_1 (Conv2D)               (None, 130, 126, 32) 82976       conv2d[0][0]                     \n",
      "__________________________________________________________________________________________________\n",
      "max_pooling2d (MaxPooling2D)    (None, 65, 63, 32)   0           conv2d_1[0][0]                   \n",
      "__________________________________________________________________________________________________\n",
      "conv2d_2 (Conv2D)               (None, 65, 63, 64)   165952      max_pooling2d[0][0]              \n",
      "__________________________________________________________________________________________________\n",
      "conv2d_3 (Conv2D)               (None, 65, 63, 64)   331840      conv2d_2[0][0]                   \n",
      "__________________________________________________________________________________________________\n",
      "tf_op_layer_concat (TensorFlowO [(None, 65, 63, 96)] 0           conv2d_3[0][0]                   \n",
      "                                                                 max_pooling2d[0][0]              \n",
      "__________________________________________________________________________________________________\n",
      "max_pooling2d_1 (MaxPooling2D)  (None, 32, 31, 96)   0           tf_op_layer_concat[0][0]         \n",
      "__________________________________________________________________________________________________\n",
      "conv2d_4 (Conv2D)               (None, 32, 31, 128)  995456      max_pooling2d_1[0][0]            \n",
      "__________________________________________________________________________________________________\n",
      "conv2d_5 (Conv2D)               (None, 32, 31, 128)  1327232     conv2d_4[0][0]                   \n",
      "__________________________________________________________________________________________________\n",
      "conv2d_6 (Conv2D)               (None, 32, 31, 128)  1327232     conv2d_5[0][0]                   \n",
      "__________________________________________________________________________________________________\n",
      "tf_op_layer_concat_1 (TensorFlo [(None, 32, 31, 224) 0           conv2d_6[0][0]                   \n",
      "                                                                 max_pooling2d_1[0][0]            \n",
      "__________________________________________________________________________________________________\n",
      "max_pooling2d_2 (MaxPooling2D)  (None, 16, 15, 224)  0           tf_op_layer_concat_1[0][0]       \n",
      "__________________________________________________________________________________________________\n",
      "conv2d_7 (Conv2D)               (None, 16, 15, 256)  4645120     max_pooling2d_2[0][0]            \n",
      "__________________________________________________________________________________________________\n",
      "conv2d_8 (Conv2D)               (None, 16, 15, 256)  5308672     conv2d_7[0][0]                   \n",
      "__________________________________________________________________________________________________\n",
      "conv2d_9 (Conv2D)               (None, 16, 15, 256)  5308672     conv2d_8[0][0]                   \n",
      "__________________________________________________________________________________________________\n",
      "tf_op_layer_concat_2 (TensorFlo [(None, 16, 15, 480) 0           conv2d_9[0][0]                   \n",
      "                                                                 max_pooling2d_2[0][0]            \n",
      "__________________________________________________________________________________________________\n",
      "max_pooling2d_3 (MaxPooling2D)  (None, 8, 7, 480)    0           tf_op_layer_concat_2[0][0]       \n",
      "__________________________________________________________________________________________________\n",
      "dropout (Dropout)               (None, 8, 7, 480)    0           max_pooling2d_3[0][0]            \n",
      "__________________________________________________________________________________________________\n",
      "flatten (Flatten)               (None, 26880)        0           dropout[0][0]                    \n",
      "__________________________________________________________________________________________________\n",
      "dense (Dense)                   (None, 256)          6881536     flatten[0][0]                    \n",
      "__________________________________________________________________________________________________\n",
      "batch_normalization (BatchNorma (None, 256)          1024        dense[0][0]                      \n",
      "__________________________________________________________________________________________________\n",
      "activation (Activation)         (None, 256)          0           batch_normalization[0][0]        \n",
      "__________________________________________________________________________________________________\n",
      "dense_1 (Dense)                 (None, 12)           3084        activation[0][0]                 \n",
      "==================================================================================================\n",
      "Total params: 26,381,420\n",
      "Trainable params: 26,380,908\n",
      "Non-trainable params: 512\n",
      "__________________________________________________________________________________________________\n"
     ]
    }
   ],
   "source": [
    "from tensorflow.keras import layers\n",
    "input_tensor = layers.Input(shape=(130, 126, 1))\n",
    "\n",
    "x = layers.Conv2D(32, 9, padding='same', activation='relu')(input_tensor)\n",
    "x = layers.Conv2D(32, 9, padding='same', activation='relu')(x)\n",
    "skip_1 = layers.MaxPool2D()(x)\n",
    "\n",
    "x = layers.Conv2D(64, 9, padding='same', activation='relu')(skip_1)\n",
    "x = layers.Conv2D(64, 9, padding='same', activation='relu')(x)\n",
    "x = tf.concat([x, skip_1], -1)\n",
    "skip_2 = layers.MaxPool2D()(x)\n",
    "\n",
    "x = layers.Conv2D(128, 9, padding='same', activation='relu')(skip_2)\n",
    "x = layers.Conv2D(128, 9, padding='same', activation='relu')(x)\n",
    "x = layers.Conv2D(128, 9, padding='same', activation='relu')(x)\n",
    "x = tf.concat([x, skip_2], -1)\n",
    "skip_3 = layers.MaxPool2D()(x)\n",
    "\n",
    "x = layers.Conv2D(256, 9, padding='same', activation='relu')(skip_3)\n",
    "x = layers.Conv2D(256, 9, padding='same', activation='relu')(x)\n",
    "x = layers.Conv2D(256, 9, padding='same', activation='relu')(x)\n",
    "x = tf.concat([x, skip_3], -1)\n",
    "x = layers.MaxPool2D()(x)\n",
    "x = layers.Dropout(0.3)(x)\n",
    "\n",
    "x = layers.Flatten()(x)\n",
    "x = layers.Dense(256)(x)\n",
    "x = layers.BatchNormalization()(x)\n",
    "x = layers.Activation('relu')(x)\n",
    "\n",
    "output_tensor = layers.Dense(12)(x)\n",
    "\n",
    "model_wav_skip = tf.keras.Model(input_tensor, output_tensor)\n",
    "\n",
    "model_wav_skip.summary()"
   ]
  },
  {
   "cell_type": "code",
   "execution_count": 12,
   "metadata": {},
   "outputs": [],
   "source": [
    "optimizer=tf.keras.optimizers.Adam(1e-4)\n",
    "model_wav_skip.compile(loss=tf.keras.losses.CategoricalCrossentropy(from_logits=True),\n",
    "             optimizer=optimizer,\n",
    "             metrics=['accuracy'])"
   ]
  },
  {
   "cell_type": "code",
   "execution_count": 13,
   "metadata": {},
   "outputs": [],
   "source": [
    "# the save point\n",
    "checkpoint_dir = os.getenv('HOME')+'/aiffel/speech_recognition/models/wav_skip'\n",
    "\n",
    "cp_callback = tf.keras.callbacks.ModelCheckpoint(checkpoint_dir,\n",
    "                                                 save_weights_only=True,\n",
    "                                                 monitor='val_loss',\n",
    "                                                 mode='auto',\n",
    "                                                 save_best_only=True,\n",
    "                                                 verbose=1)"
   ]
  },
  {
   "cell_type": "markdown",
   "metadata": {},
   "source": [
    "# 모델 훈련"
   ]
  },
  {
   "cell_type": "code",
   "execution_count": 14,
   "metadata": {},
   "outputs": [
    {
     "name": "stdout",
     "output_type": "stream",
     "text": [
      "Epoch 1/5\n",
      "177/177 [==============================] - ETA: 0s - loss: 1.0791 - accuracy: 0.6494\n",
      "Epoch 00001: val_loss improved from inf to 0.65730, saving model to /home/aiffel/aiffel/speech_recognition/models/wav_skip\n",
      "177/177 [==============================] - 204s 1s/step - loss: 1.0791 - accuracy: 0.6494 - val_loss: 0.6573 - val_accuracy: 0.8273\n",
      "Epoch 2/5\n",
      "177/177 [==============================] - ETA: 0s - loss: 0.2867 - accuracy: 0.9080\n",
      "Epoch 00002: val_loss improved from 0.65730 to 0.25016, saving model to /home/aiffel/aiffel/speech_recognition/models/wav_skip\n",
      "177/177 [==============================] - 201s 1s/step - loss: 0.2867 - accuracy: 0.9080 - val_loss: 0.2502 - val_accuracy: 0.9245\n",
      "Epoch 3/5\n",
      "177/177 [==============================] - ETA: 0s - loss: 0.1773 - accuracy: 0.9437\n",
      "Epoch 00003: val_loss improved from 0.25016 to 0.22170, saving model to /home/aiffel/aiffel/speech_recognition/models/wav_skip\n",
      "177/177 [==============================] - 202s 1s/step - loss: 0.1773 - accuracy: 0.9437 - val_loss: 0.2217 - val_accuracy: 0.9328\n",
      "Epoch 4/5\n",
      "177/177 [==============================] - ETA: 0s - loss: 0.1337 - accuracy: 0.9570\n",
      "Epoch 00004: val_loss improved from 0.22170 to 0.17638, saving model to /home/aiffel/aiffel/speech_recognition/models/wav_skip\n",
      "177/177 [==============================] - 206s 1s/step - loss: 0.1337 - accuracy: 0.9570 - val_loss: 0.1764 - val_accuracy: 0.9428\n",
      "Epoch 5/5\n",
      "177/177 [==============================] - ETA: 0s - loss: 0.1022 - accuracy: 0.9681\n",
      "Epoch 00005: val_loss improved from 0.17638 to 0.14881, saving model to /home/aiffel/aiffel/speech_recognition/models/wav_skip\n",
      "177/177 [==============================] - 200s 1s/step - loss: 0.1022 - accuracy: 0.9681 - val_loss: 0.1488 - val_accuracy: 0.9515\n"
     ]
    }
   ],
   "source": [
    "#30분 내외 소요\n",
    "history_wav_skip = model_wav_skip.fit(train_dataset, epochs=max_epochs,\n",
    "                    steps_per_epoch=len(train_wav) // batch_size,\n",
    "                    validation_data=test_dataset,\n",
    "                    validation_steps=len(test_wav) // batch_size,\n",
    "                    callbacks=[cp_callback]\n",
    "                    )"
   ]
  },
  {
   "cell_type": "code",
   "execution_count": 15,
   "metadata": {},
   "outputs": [
    {
     "data": {
      "image/png": "[encoded data removed]",
      "text/plain": [
       "<Figure size 576x576 with 2 Axes>"
      ]
     },
     "metadata": {
      "needs_background": "light"
     },
     "output_type": "display_data"
    },
    {
     "name": "stdout",
     "output_type": "stream",
     "text": [
      "✅\n"
     ]
    }
   ],
   "source": [
    "import matplotlib.pyplot as plt\n",
    "\n",
    "acc = history_wav_skip.history['accuracy']\n",
    "val_acc = history_wav_skip.history['val_accuracy']\n",
    "\n",
    "loss=history_wav_skip.history['loss']\n",
    "val_loss=history_wav_skip.history['val_loss']\n",
    "\n",
    "epochs_range = range(len(acc))\n",
    "\n",
    "plt.figure(figsize=(8, 8))\n",
    "plt.subplot(1, 2, 1)\n",
    "plt.plot(epochs_range, acc, label='Training Accuracy')\n",
    "plt.plot(epochs_range, val_acc, label='Validation Accuracy')\n",
    "plt.legend(loc='lower right')\n",
    "plt.title('Training and Validation Accuracy')\n",
    "\n",
    "plt.subplot(1, 2, 2)\n",
    "plt.plot(epochs_range, loss, label='Training Loss')\n",
    "plt.plot(epochs_range, val_loss, label='Validation Loss')\n",
    "plt.legend(loc='upper right')\n",
    "plt.title('Training and Validation Loss')\n",
    "plt.show()\n",
    "print(\"✅\")"
   ]
  },
  {
   "cell_type": "markdown",
   "metadata": {},
   "source": [
    "# 모델 평가"
   ]
  },
  {
   "cell_type": "code",
   "execution_count": 21,
   "metadata": {},
   "outputs": [
    {
     "ename": "ResourceExhaustedError",
     "evalue": " OOM when allocating tensor with shape[256,32,130,126] and type float on /job:localhost/replica:0/task:0/device:GPU:0 by allocator GPU_0_bfc\n\t [[node model/conv2d/Conv2D (defined at <ipython-input-14-c4cf9b41bcc5>:6) ]]\nHint: If you want to see a list of allocated tensors when OOM happens, add report_tensor_allocations_upon_oom to RunOptions for current allocation info.\n [Op:__inference_test_function_2567]\n\nFunction call stack:\ntest_function\n",
     "output_type": "error",
     "traceback": [
      "\u001b[0;31m---------------------------------------------------------------------------\u001b[0m",
      "\u001b[0;31mResourceExhaustedError\u001b[0m                    Traceback (most recent call last)",
      "\u001b[0;32m<ipython-input-21-8bfc95abbf65>\u001b[0m in \u001b[0;36m<module>\u001b[0;34m\u001b[0m\n\u001b[1;32m      2\u001b[0m \u001b[0;34m\u001b[0m\u001b[0m\n\u001b[1;32m      3\u001b[0m \u001b[0mmodel_wav_skip\u001b[0m\u001b[0;34m.\u001b[0m\u001b[0mload_weights\u001b[0m\u001b[0;34m(\u001b[0m\u001b[0mcheckpoint_dir\u001b[0m\u001b[0;34m)\u001b[0m\u001b[0;34m\u001b[0m\u001b[0;34m\u001b[0m\u001b[0m\n\u001b[0;32m----> 4\u001b[0;31m \u001b[0mresults\u001b[0m \u001b[0;34m=\u001b[0m \u001b[0mmodel_wav_skip\u001b[0m\u001b[0;34m.\u001b[0m\u001b[0mevaluate\u001b[0m\u001b[0;34m(\u001b[0m\u001b[0mtest_dataset\u001b[0m\u001b[0;34m)\u001b[0m\u001b[0;34m\u001b[0m\u001b[0;34m\u001b[0m\u001b[0m\n\u001b[0m\u001b[1;32m      5\u001b[0m \u001b[0;34m\u001b[0m\u001b[0m\n\u001b[1;32m      6\u001b[0m \u001b[0;31m# loss\u001b[0m\u001b[0;34m\u001b[0m\u001b[0;34m\u001b[0m\u001b[0;34m\u001b[0m\u001b[0m\n",
      "\u001b[0;32m~/anaconda3/envs/aiffel/lib/python3.7/site-packages/tensorflow/python/keras/engine/training.py\u001b[0m in \u001b[0;36m_method_wrapper\u001b[0;34m(self, *args, **kwargs)\u001b[0m\n\u001b[1;32m     64\u001b[0m   \u001b[0;32mdef\u001b[0m \u001b[0m_method_wrapper\u001b[0m\u001b[0;34m(\u001b[0m\u001b[0mself\u001b[0m\u001b[0;34m,\u001b[0m \u001b[0;34m*\u001b[0m\u001b[0margs\u001b[0m\u001b[0;34m,\u001b[0m \u001b[0;34m**\u001b[0m\u001b[0mkwargs\u001b[0m\u001b[0;34m)\u001b[0m\u001b[0;34m:\u001b[0m\u001b[0;34m\u001b[0m\u001b[0;34m\u001b[0m\u001b[0m\n\u001b[1;32m     65\u001b[0m     \u001b[0;32mif\u001b[0m \u001b[0;32mnot\u001b[0m \u001b[0mself\u001b[0m\u001b[0;34m.\u001b[0m\u001b[0m_in_multi_worker_mode\u001b[0m\u001b[0;34m(\u001b[0m\u001b[0;34m)\u001b[0m\u001b[0;34m:\u001b[0m  \u001b[0;31m# pylint: disable=protected-access\u001b[0m\u001b[0;34m\u001b[0m\u001b[0;34m\u001b[0m\u001b[0m\n\u001b[0;32m---> 66\u001b[0;31m       \u001b[0;32mreturn\u001b[0m \u001b[0mmethod\u001b[0m\u001b[0;34m(\u001b[0m\u001b[0mself\u001b[0m\u001b[0;34m,\u001b[0m \u001b[0;34m*\u001b[0m\u001b[0margs\u001b[0m\u001b[0;34m,\u001b[0m \u001b[0;34m**\u001b[0m\u001b[0mkwargs\u001b[0m\u001b[0;34m)\u001b[0m\u001b[0;34m\u001b[0m\u001b[0;34m\u001b[0m\u001b[0m\n\u001b[0m\u001b[1;32m     67\u001b[0m \u001b[0;34m\u001b[0m\u001b[0m\n\u001b[1;32m     68\u001b[0m     \u001b[0;31m# Running inside `run_distribute_coordinator` already.\u001b[0m\u001b[0;34m\u001b[0m\u001b[0;34m\u001b[0m\u001b[0;34m\u001b[0m\u001b[0m\n",
      "\u001b[0;32m~/anaconda3/envs/aiffel/lib/python3.7/site-packages/tensorflow/python/keras/engine/training.py\u001b[0m in \u001b[0;36mevaluate\u001b[0;34m(self, x, y, batch_size, verbose, sample_weight, steps, callbacks, max_queue_size, workers, use_multiprocessing, return_dict)\u001b[0m\n\u001b[1;32m   1079\u001b[0m                 step_num=step):\n\u001b[1;32m   1080\u001b[0m               \u001b[0mcallbacks\u001b[0m\u001b[0;34m.\u001b[0m\u001b[0mon_test_batch_begin\u001b[0m\u001b[0;34m(\u001b[0m\u001b[0mstep\u001b[0m\u001b[0;34m)\u001b[0m\u001b[0;34m\u001b[0m\u001b[0;34m\u001b[0m\u001b[0m\n\u001b[0;32m-> 1081\u001b[0;31m               \u001b[0mtmp_logs\u001b[0m \u001b[0;34m=\u001b[0m \u001b[0mtest_function\u001b[0m\u001b[0;34m(\u001b[0m\u001b[0miterator\u001b[0m\u001b[0;34m)\u001b[0m\u001b[0;34m\u001b[0m\u001b[0;34m\u001b[0m\u001b[0m\n\u001b[0m\u001b[1;32m   1082\u001b[0m               \u001b[0;31m# Catch OutOfRangeError for Datasets of unknown size.\u001b[0m\u001b[0;34m\u001b[0m\u001b[0;34m\u001b[0m\u001b[0;34m\u001b[0m\u001b[0m\n\u001b[1;32m   1083\u001b[0m               \u001b[0;31m# This blocks until the batch has finished executing.\u001b[0m\u001b[0;34m\u001b[0m\u001b[0;34m\u001b[0m\u001b[0;34m\u001b[0m\u001b[0m\n",
      "\u001b[0;32m~/anaconda3/envs/aiffel/lib/python3.7/site-packages/tensorflow/python/eager/def_function.py\u001b[0m in \u001b[0;36m__call__\u001b[0;34m(self, *args, **kwds)\u001b[0m\n\u001b[1;32m    578\u001b[0m         \u001b[0mxla_context\u001b[0m\u001b[0;34m.\u001b[0m\u001b[0mExit\u001b[0m\u001b[0;34m(\u001b[0m\u001b[0;34m)\u001b[0m\u001b[0;34m\u001b[0m\u001b[0;34m\u001b[0m\u001b[0m\n\u001b[1;32m    579\u001b[0m     \u001b[0;32melse\u001b[0m\u001b[0;34m:\u001b[0m\u001b[0;34m\u001b[0m\u001b[0;34m\u001b[0m\u001b[0m\n\u001b[0;32m--> 580\u001b[0;31m       \u001b[0mresult\u001b[0m \u001b[0;34m=\u001b[0m \u001b[0mself\u001b[0m\u001b[0;34m.\u001b[0m\u001b[0m_call\u001b[0m\u001b[0;34m(\u001b[0m\u001b[0;34m*\u001b[0m\u001b[0margs\u001b[0m\u001b[0;34m,\u001b[0m \u001b[0;34m**\u001b[0m\u001b[0mkwds\u001b[0m\u001b[0;34m)\u001b[0m\u001b[0;34m\u001b[0m\u001b[0;34m\u001b[0m\u001b[0m\n\u001b[0m\u001b[1;32m    581\u001b[0m \u001b[0;34m\u001b[0m\u001b[0m\n\u001b[1;32m    582\u001b[0m     \u001b[0;32mif\u001b[0m \u001b[0mtracing_count\u001b[0m \u001b[0;34m==\u001b[0m \u001b[0mself\u001b[0m\u001b[0;34m.\u001b[0m\u001b[0m_get_tracing_count\u001b[0m\u001b[0;34m(\u001b[0m\u001b[0;34m)\u001b[0m\u001b[0;34m:\u001b[0m\u001b[0;34m\u001b[0m\u001b[0;34m\u001b[0m\u001b[0m\n",
      "\u001b[0;32m~/anaconda3/envs/aiffel/lib/python3.7/site-packages/tensorflow/python/eager/def_function.py\u001b[0m in \u001b[0;36m_call\u001b[0;34m(self, *args, **kwds)\u001b[0m\n\u001b[1;32m    616\u001b[0m       \u001b[0;31m# In this case we have not created variables on the first call. So we can\u001b[0m\u001b[0;34m\u001b[0m\u001b[0;34m\u001b[0m\u001b[0;34m\u001b[0m\u001b[0m\n\u001b[1;32m    617\u001b[0m       \u001b[0;31m# run the first trace but we should fail if variables are created.\u001b[0m\u001b[0;34m\u001b[0m\u001b[0;34m\u001b[0m\u001b[0;34m\u001b[0m\u001b[0m\n\u001b[0;32m--> 618\u001b[0;31m       \u001b[0mresults\u001b[0m \u001b[0;34m=\u001b[0m \u001b[0mself\u001b[0m\u001b[0;34m.\u001b[0m\u001b[0m_stateful_fn\u001b[0m\u001b[0;34m(\u001b[0m\u001b[0;34m*\u001b[0m\u001b[0margs\u001b[0m\u001b[0;34m,\u001b[0m \u001b[0;34m**\u001b[0m\u001b[0mkwds\u001b[0m\u001b[0;34m)\u001b[0m\u001b[0;34m\u001b[0m\u001b[0;34m\u001b[0m\u001b[0m\n\u001b[0m\u001b[1;32m    619\u001b[0m       \u001b[0;32mif\u001b[0m \u001b[0mself\u001b[0m\u001b[0;34m.\u001b[0m\u001b[0m_created_variables\u001b[0m\u001b[0;34m:\u001b[0m\u001b[0;34m\u001b[0m\u001b[0;34m\u001b[0m\u001b[0m\n\u001b[1;32m    620\u001b[0m         raise ValueError(\"Creating variables on a non-first call to a function\"\n",
      "\u001b[0;32m~/anaconda3/envs/aiffel/lib/python3.7/site-packages/tensorflow/python/eager/function.py\u001b[0m in \u001b[0;36m__call__\u001b[0;34m(self, *args, **kwargs)\u001b[0m\n\u001b[1;32m   2418\u001b[0m     \u001b[0;32mwith\u001b[0m \u001b[0mself\u001b[0m\u001b[0;34m.\u001b[0m\u001b[0m_lock\u001b[0m\u001b[0;34m:\u001b[0m\u001b[0;34m\u001b[0m\u001b[0;34m\u001b[0m\u001b[0m\n\u001b[1;32m   2419\u001b[0m       \u001b[0mgraph_function\u001b[0m\u001b[0;34m,\u001b[0m \u001b[0margs\u001b[0m\u001b[0;34m,\u001b[0m \u001b[0mkwargs\u001b[0m \u001b[0;34m=\u001b[0m \u001b[0mself\u001b[0m\u001b[0;34m.\u001b[0m\u001b[0m_maybe_define_function\u001b[0m\u001b[0;34m(\u001b[0m\u001b[0margs\u001b[0m\u001b[0;34m,\u001b[0m \u001b[0mkwargs\u001b[0m\u001b[0;34m)\u001b[0m\u001b[0;34m\u001b[0m\u001b[0;34m\u001b[0m\u001b[0m\n\u001b[0;32m-> 2420\u001b[0;31m     \u001b[0;32mreturn\u001b[0m \u001b[0mgraph_function\u001b[0m\u001b[0;34m.\u001b[0m\u001b[0m_filtered_call\u001b[0m\u001b[0;34m(\u001b[0m\u001b[0margs\u001b[0m\u001b[0;34m,\u001b[0m \u001b[0mkwargs\u001b[0m\u001b[0;34m)\u001b[0m  \u001b[0;31m# pylint: disable=protected-access\u001b[0m\u001b[0;34m\u001b[0m\u001b[0;34m\u001b[0m\u001b[0m\n\u001b[0m\u001b[1;32m   2421\u001b[0m \u001b[0;34m\u001b[0m\u001b[0m\n\u001b[1;32m   2422\u001b[0m   \u001b[0;34m@\u001b[0m\u001b[0mproperty\u001b[0m\u001b[0;34m\u001b[0m\u001b[0;34m\u001b[0m\u001b[0m\n",
      "\u001b[0;32m~/anaconda3/envs/aiffel/lib/python3.7/site-packages/tensorflow/python/eager/function.py\u001b[0m in \u001b[0;36m_filtered_call\u001b[0;34m(self, args, kwargs)\u001b[0m\n\u001b[1;32m   1663\u001b[0m          if isinstance(t, (ops.Tensor,\n\u001b[1;32m   1664\u001b[0m                            resource_variable_ops.BaseResourceVariable))),\n\u001b[0;32m-> 1665\u001b[0;31m         self.captured_inputs)\n\u001b[0m\u001b[1;32m   1666\u001b[0m \u001b[0;34m\u001b[0m\u001b[0m\n\u001b[1;32m   1667\u001b[0m   \u001b[0;32mdef\u001b[0m \u001b[0m_call_flat\u001b[0m\u001b[0;34m(\u001b[0m\u001b[0mself\u001b[0m\u001b[0;34m,\u001b[0m \u001b[0margs\u001b[0m\u001b[0;34m,\u001b[0m \u001b[0mcaptured_inputs\u001b[0m\u001b[0;34m,\u001b[0m \u001b[0mcancellation_manager\u001b[0m\u001b[0;34m=\u001b[0m\u001b[0;32mNone\u001b[0m\u001b[0;34m)\u001b[0m\u001b[0;34m:\u001b[0m\u001b[0;34m\u001b[0m\u001b[0;34m\u001b[0m\u001b[0m\n",
      "\u001b[0;32m~/anaconda3/envs/aiffel/lib/python3.7/site-packages/tensorflow/python/eager/function.py\u001b[0m in \u001b[0;36m_call_flat\u001b[0;34m(self, args, captured_inputs, cancellation_manager)\u001b[0m\n\u001b[1;32m   1744\u001b[0m       \u001b[0;31m# No tape is watching; skip to running the function.\u001b[0m\u001b[0;34m\u001b[0m\u001b[0;34m\u001b[0m\u001b[0;34m\u001b[0m\u001b[0m\n\u001b[1;32m   1745\u001b[0m       return self._build_call_outputs(self._inference_function.call(\n\u001b[0;32m-> 1746\u001b[0;31m           ctx, args, cancellation_manager=cancellation_manager))\n\u001b[0m\u001b[1;32m   1747\u001b[0m     forward_backward = self._select_forward_and_backward_functions(\n\u001b[1;32m   1748\u001b[0m         \u001b[0margs\u001b[0m\u001b[0;34m,\u001b[0m\u001b[0;34m\u001b[0m\u001b[0;34m\u001b[0m\u001b[0m\n",
      "\u001b[0;32m~/anaconda3/envs/aiffel/lib/python3.7/site-packages/tensorflow/python/eager/function.py\u001b[0m in \u001b[0;36mcall\u001b[0;34m(self, ctx, args, cancellation_manager)\u001b[0m\n\u001b[1;32m    596\u001b[0m               \u001b[0minputs\u001b[0m\u001b[0;34m=\u001b[0m\u001b[0margs\u001b[0m\u001b[0;34m,\u001b[0m\u001b[0;34m\u001b[0m\u001b[0;34m\u001b[0m\u001b[0m\n\u001b[1;32m    597\u001b[0m               \u001b[0mattrs\u001b[0m\u001b[0;34m=\u001b[0m\u001b[0mattrs\u001b[0m\u001b[0;34m,\u001b[0m\u001b[0;34m\u001b[0m\u001b[0;34m\u001b[0m\u001b[0m\n\u001b[0;32m--> 598\u001b[0;31m               ctx=ctx)\n\u001b[0m\u001b[1;32m    599\u001b[0m         \u001b[0;32melse\u001b[0m\u001b[0;34m:\u001b[0m\u001b[0;34m\u001b[0m\u001b[0;34m\u001b[0m\u001b[0m\n\u001b[1;32m    600\u001b[0m           outputs = execute.execute_with_cancellation(\n",
      "\u001b[0;32m~/anaconda3/envs/aiffel/lib/python3.7/site-packages/tensorflow/python/eager/execute.py\u001b[0m in \u001b[0;36mquick_execute\u001b[0;34m(op_name, num_outputs, inputs, attrs, ctx, name)\u001b[0m\n\u001b[1;32m     58\u001b[0m     \u001b[0mctx\u001b[0m\u001b[0;34m.\u001b[0m\u001b[0mensure_initialized\u001b[0m\u001b[0;34m(\u001b[0m\u001b[0;34m)\u001b[0m\u001b[0;34m\u001b[0m\u001b[0;34m\u001b[0m\u001b[0m\n\u001b[1;32m     59\u001b[0m     tensors = pywrap_tfe.TFE_Py_Execute(ctx._handle, device_name, op_name,\n\u001b[0;32m---> 60\u001b[0;31m                                         inputs, attrs, num_outputs)\n\u001b[0m\u001b[1;32m     61\u001b[0m   \u001b[0;32mexcept\u001b[0m \u001b[0mcore\u001b[0m\u001b[0;34m.\u001b[0m\u001b[0m_NotOkStatusException\u001b[0m \u001b[0;32mas\u001b[0m \u001b[0me\u001b[0m\u001b[0;34m:\u001b[0m\u001b[0;34m\u001b[0m\u001b[0;34m\u001b[0m\u001b[0m\n\u001b[1;32m     62\u001b[0m     \u001b[0;32mif\u001b[0m \u001b[0mname\u001b[0m \u001b[0;32mis\u001b[0m \u001b[0;32mnot\u001b[0m \u001b[0;32mNone\u001b[0m\u001b[0;34m:\u001b[0m\u001b[0;34m\u001b[0m\u001b[0;34m\u001b[0m\u001b[0m\n",
      "\u001b[0;31mResourceExhaustedError\u001b[0m:  OOM when allocating tensor with shape[256,32,130,126] and type float on /job:localhost/replica:0/task:0/device:GPU:0 by allocator GPU_0_bfc\n\t [[node model/conv2d/Conv2D (defined at <ipython-input-14-c4cf9b41bcc5>:6) ]]\nHint: If you want to see a list of allocated tensors when OOM happens, add report_tensor_allocations_upon_oom to RunOptions for current allocation info.\n [Op:__inference_test_function_2567]\n\nFunction call stack:\ntest_function\n"
     ]
    }
   ],
   "source": [
    "# Evaluation \n",
    "\n",
    "model_wav_skip.load_weights(checkpoint_dir)\n",
    "results = model_wav_skip.evaluate(test_dataset)\n",
    "\n",
    "# loss\n",
    "print(\"loss value: {:.3f}\".format(results[0]))\n",
    "# accuracy\n",
    "print(\"accuracy value: {:.4f}%\".format(results[1]*100))"
   ]
  },
  {
   "cell_type": "markdown",
   "metadata": {},
   "source": [
    "# 예측값 확인"
   ]
  },
  {
   "cell_type": "code",
   "execution_count": 18,
   "metadata": {},
   "outputs": [
    {
     "name": "stdout",
     "output_type": "stream",
     "text": [
      "label :  left\n"
     ]
    }
   ],
   "source": [
    "# Test \n",
    "\n",
    "inv_label_value = {v: k for k, v in label_value.items()}\n",
    "batch_index = np.random.choice(len(test_wav), size=1, replace=False)\n",
    "\n",
    "batch_xs = test_wav[batch_index]\n",
    "batch_ys = test_label[batch_index]\n",
    "y_pred_ = model_wav_skip(batch_xs, training=False)\n",
    "\n",
    "print(\"label : \", str(inv_label_value[batch_ys[0]]))\n",
    "\n"
   ]
  },
  {
   "cell_type": "code",
   "execution_count": 19,
   "metadata": {},
   "outputs": [
    {
     "name": "stdout",
     "output_type": "stream",
     "text": [
      "y_pred: left(Correct!)\n"
     ]
    }
   ],
   "source": [
    "if np.argmax(y_pred_) == batch_ys[0]:\n",
    "    print(\"y_pred: \" + str(inv_label_value[np.argmax(y_pred_)]) + '(Correct!)')\n",
    "else:\n",
    "    print(\"y_pred: \" + str(inv_label_value[np.argmax(y_pred_)]) + '(Incorrect!)')"
   ]
  },
  {
   "cell_type": "markdown",
   "metadata": {},
   "source": [
    "# 프로젝트 진행 중 의문점   \n",
    "   \n",
    "   \n",
    "## **1. 데이터 변형에서**   \n",
    "def wav2spec(wav, fft_size=258) wav2spec 함수의 인자에서 fft_size=258 이 하는 역할은 무엇인가?   \n",
    "**찾아보니 다양한 값을 줄 수 있는 것 같은데 어떤 차이가 있는지 확인해 볼 것!**   \n",
    "   \n",
    "   \n",
    "## **2. 훈련 / 테스트셋 분리 및 모델 구성에서**   \n",
    "   \n",
    "### **1. 처음에는**   \n",
    "\n",
    "#sr = 16380    \n",
    "train_wav, test_wav, train_label, test_label = train_test_split(spec_data,label_data,test_size=0.1, shuffle=True)   \n",
    "\n",
    "   \n",
    "   \n",
    "train_wav = train_wav.reshape([-1, sr, 1])   \n",
    "test_wav = test_wav.reshape([-1, sr, 1])   \n",
    "   \n",
    "위와 같이 코드를 입력했다. Conv1d 모델은 1차원 데이터를 학습하는 것이라고 막연히 알고 있어   \n",
    "2차원의 spec data를 다시 1차원으로 만들어 입력을 해야 된다는 생각이 들었기 때문이다.   \n",
    "spec data의 shape은 130, 126 이므로 단순히 행과 열을 곱해서 16380으로 만들고   \n",
    "각각 train_wav, test_wav 에 reshape할 때 반영했다.   \n",
    "   \n",
    "**위와 같이 했을 때는 모델을 생성할 때**   \n",
    "      \n",
    "input_tensor = layers.Input(shape=(sr, 1))   \n",
    "입력값을 다음과 같이 주었고, 모델 훈련 및 평가가 문제 없이 진행되었다.   \n",
    "**그런데 이렇게 해도 되는 건지 잘 모르겠다. 확인 필요**   \n",
    "   \n",
    "### **2. 두번째에서는**   \n",
    "   \n",
    "2차원 spec data를 그대로 입력값으로 주기 위해 아래와 같이 reshape을 해주었고   \n",
    "   \n",
    "   \n",
    "train_wav = train_wav.reshape([-1, 130, 126 , 1])   \n",
    "test_wav = test_wav.reshape([-1, 130, 126, 1])   \n",
    "   \n",
    "**모델 생성시 입력값을 아래와 같이 주어야 했다.**   \n",
    "   \n",
    "input_tensor = layers.Input(shape=(130, 126, 1 ))   \n",
    "   \n",
    "**또한 Conv1d, maxpooling1d 모두 숫자 2로 바꿔줘야 했다**   \n",
    "\n",
    "   \n",
    "### 그냥 이렇게 숫자만 바꿔줘도 된다는 데 충격먹었다\n",
    "   \n",
    "### 이미지 분류기에 쓴 2D 모델과 차이가 궁금하다. 확인해볼 것\n",
    "   \n",
    "## **3. skip-connection모델에서**   \n",
    "이전 모델보다 오히려 성능이 좋지 않았다   \n",
    "2~3% 하락.   \n",
    "원인이 무엇일까? 이것도 나중에 확인해 볼 것.   \n",
    "\n",
    "\n"
   ]
  },
  {
   "cell_type": "markdown",
   "metadata": {},
   "source": [
    "## 프로젝트 진행 중 새로 알아낸 것   \n",
    "#### 1. spec 데이터를 다시 wav로 바꾸기   \n",
    "spec 데이터로 학습을 진행한 후 평가를 할 때 모델이 예측한 음원값의 녹음 소리를 직접 들어보고 싶었다   \n",
    "다시 원래대로 돌리기 위해선 librosa 라이브러리의 griffinlim() 함수를 써야 한다는 것을 찾아냈는데 구현하진 못했다.   \n",
    "복구시 원상복구는 안 된다고 한다.   \n",
    "   \n",
    "spec data를 그대로 들어볼 수 있는 프로그램이 없는지도 찾아봐야겠다   \n",
    "\n"
   ]
  },
  {
   "cell_type": "markdown",
   "metadata": {},
   "source": [
    "# 회고   \n",
    "오디오에 평소에 관심이 많아 음향기기를 수집하면서 개인적으로 관심이 많이 갔던 노드였다.   \n",
    "음성인식 보다는 음질이나 음향에 관해 더 공부해보고 싶고   \n",
    "그쪽 분야에 딥러닝이 어떻게 쓰이는 지도 찾아봐야겠다.   \n"
   ]
  }
 ],
 "metadata": {
  "kernelspec": {
   "display_name": "aiffel",
   "language": "python",
   "name": "aiffel"
  },
  "language_info": {
   "codemirror_mode": {
    "name": "ipython",
    "version": 3
   },
   "file_extension": ".py",
   "mimetype": "text/x-python",
   "name": "python",
   "nbconvert_exporter": "python",
   "pygments_lexer": "ipython3",
   "version": "3.7.9"
  }
 },
 "nbformat": 4,
 "nbformat_minor": 4
}
