{
 "cells": [
  {
   "cell_type": "markdown",
   "metadata": {},
   "source": [
    "# 자료 적재"
   ]
  },
  {
   "cell_type": "code",
   "execution_count": 1,
   "metadata": {},
   "outputs": [
    {
     "data": {
      "text/html": [
       "<div>\n",
       "<style scoped>\n",
       "    .dataframe tbody tr th:only-of-type {\n",
       "        vertical-align: middle;\n",
       "    }\n",
       "\n",
       "    .dataframe tbody tr th {\n",
       "        vertical-align: top;\n",
       "    }\n",
       "\n",
       "    .dataframe thead th {\n",
       "        text-align: right;\n",
       "    }\n",
       "</style>\n",
       "<table border=\"1\" class=\"dataframe\">\n",
       "  <thead>\n",
       "    <tr style=\"text-align: right;\">\n",
       "      <th></th>\n",
       "      <th>user_id</th>\n",
       "      <th>movie_id</th>\n",
       "      <th>rating</th>\n",
       "      <th>timestamp</th>\n",
       "    </tr>\n",
       "  </thead>\n",
       "  <tbody>\n",
       "    <tr>\n",
       "      <th>0</th>\n",
       "      <td>1</td>\n",
       "      <td>1193</td>\n",
       "      <td>5</td>\n",
       "      <td>978300760</td>\n",
       "    </tr>\n",
       "    <tr>\n",
       "      <th>1</th>\n",
       "      <td>1</td>\n",
       "      <td>661</td>\n",
       "      <td>3</td>\n",
       "      <td>978302109</td>\n",
       "    </tr>\n",
       "    <tr>\n",
       "      <th>2</th>\n",
       "      <td>1</td>\n",
       "      <td>914</td>\n",
       "      <td>3</td>\n",
       "      <td>978301968</td>\n",
       "    </tr>\n",
       "    <tr>\n",
       "      <th>3</th>\n",
       "      <td>1</td>\n",
       "      <td>3408</td>\n",
       "      <td>4</td>\n",
       "      <td>978300275</td>\n",
       "    </tr>\n",
       "    <tr>\n",
       "      <th>4</th>\n",
       "      <td>1</td>\n",
       "      <td>2355</td>\n",
       "      <td>5</td>\n",
       "      <td>978824291</td>\n",
       "    </tr>\n",
       "  </tbody>\n",
       "</table>\n",
       "</div>"
      ],
      "text/plain": [
       "   user_id  movie_id  rating  timestamp\n",
       "0        1      1193       5  978300760\n",
       "1        1       661       3  978302109\n",
       "2        1       914       3  978301968\n",
       "3        1      3408       4  978300275\n",
       "4        1      2355       5  978824291"
      ]
     },
     "execution_count": 1,
     "metadata": {},
     "output_type": "execute_result"
    }
   ],
   "source": [
    "import os\n",
    "import numpy as np\n",
    "import pandas as pd\n",
    "rating_file_path=os.getenv('HOME') + '/mini_projects/_E-08_recommend/ml-1m/ratings.dat'\n",
    "ratings_cols = ['user_id', 'movie_id', 'rating', 'timestamp']\n",
    "ratings = pd.read_csv(rating_file_path, sep='::', names=ratings_cols, engine='python')\n",
    "orginal_data_size = len(ratings)\n",
    "ratings.head()"
   ]
  },
  {
   "cell_type": "markdown",
   "metadata": {},
   "source": [
    "# 결측치, 중복 데이터 확인"
   ]
  },
  {
   "cell_type": "code",
   "execution_count": 2,
   "metadata": {},
   "outputs": [
    {
     "data": {
      "text/plain": [
       "user_id      0\n",
       "movie_id     0\n",
       "rating       0\n",
       "timestamp    0\n",
       "dtype: int64"
      ]
     },
     "execution_count": 2,
     "metadata": {},
     "output_type": "execute_result"
    }
   ],
   "source": [
    "len(ratings) - ratings.count()"
   ]
  },
  {
   "cell_type": "code",
   "execution_count": 3,
   "metadata": {},
   "outputs": [
    {
     "data": {
      "text/html": [
       "<div>\n",
       "<style scoped>\n",
       "    .dataframe tbody tr th:only-of-type {\n",
       "        vertical-align: middle;\n",
       "    }\n",
       "\n",
       "    .dataframe tbody tr th {\n",
       "        vertical-align: top;\n",
       "    }\n",
       "\n",
       "    .dataframe thead th {\n",
       "        text-align: right;\n",
       "    }\n",
       "</style>\n",
       "<table border=\"1\" class=\"dataframe\">\n",
       "  <thead>\n",
       "    <tr style=\"text-align: right;\">\n",
       "      <th></th>\n",
       "      <th>user_id</th>\n",
       "      <th>movie_id</th>\n",
       "      <th>rating</th>\n",
       "      <th>timestamp</th>\n",
       "    </tr>\n",
       "  </thead>\n",
       "  <tbody>\n",
       "  </tbody>\n",
       "</table>\n",
       "</div>"
      ],
      "text/plain": [
       "Empty DataFrame\n",
       "Columns: [user_id, movie_id, rating, timestamp]\n",
       "Index: []"
      ]
     },
     "execution_count": 3,
     "metadata": {},
     "output_type": "execute_result"
    }
   ],
   "source": [
    "ratings[ratings.duplicated()]"
   ]
  },
  {
   "cell_type": "markdown",
   "metadata": {},
   "source": [
    "# 데이터 전처리"
   ]
  },
  {
   "cell_type": "code",
   "execution_count": 4,
   "metadata": {},
   "outputs": [
    {
     "name": "stdout",
     "output_type": "stream",
     "text": [
      "orginal_data_size: 1000209, filtered_data_size: 1000209\n",
      "Ratio of Remaining Data is 100.00%\n"
     ]
    }
   ],
   "source": [
    "# 3점 이상만 남깁니다.\n",
    "#ratings = ratings[ratings['rating']>=3]\n",
    "filtered_data_size = len(ratings)\n",
    "\n",
    "print(f'orginal_data_size: {orginal_data_size}, filtered_data_size: {filtered_data_size}')  # 왜 timestamp를 없애면 안줄어드는 거지?\n",
    "print(f'Ratio of Remaining Data is {filtered_data_size / orginal_data_size:.2%}')"
   ]
  },
  {
   "cell_type": "code",
   "execution_count": 5,
   "metadata": {},
   "outputs": [],
   "source": [
    "# rating 컬럼의 이름을 count로 바꿉니다.                                    # 왜 바꾸는 거지? 평점이 아니라 본 횟수로 간주하려고?\n",
    "ratings.rename(columns={'rating':'count'}, inplace=True)"
   ]
  },
  {
   "cell_type": "code",
   "execution_count": 6,
   "metadata": {},
   "outputs": [
    {
     "data": {
      "text/plain": [
       "0          5\n",
       "1          3\n",
       "2          3\n",
       "3          4\n",
       "4          5\n",
       "          ..\n",
       "1000204    1\n",
       "1000205    5\n",
       "1000206    5\n",
       "1000207    4\n",
       "1000208    4\n",
       "Name: count, Length: 1000209, dtype: int64"
      ]
     },
     "execution_count": 6,
     "metadata": {},
     "output_type": "execute_result"
    }
   ],
   "source": [
    "ratings['count']"
   ]
  },
  {
   "cell_type": "code",
   "execution_count": 7,
   "metadata": {},
   "outputs": [
    {
     "data": {
      "text/html": [
       "<div>\n",
       "<style scoped>\n",
       "    .dataframe tbody tr th:only-of-type {\n",
       "        vertical-align: middle;\n",
       "    }\n",
       "\n",
       "    .dataframe tbody tr th {\n",
       "        vertical-align: top;\n",
       "    }\n",
       "\n",
       "    .dataframe thead th {\n",
       "        text-align: right;\n",
       "    }\n",
       "</style>\n",
       "<table border=\"1\" class=\"dataframe\">\n",
       "  <thead>\n",
       "    <tr style=\"text-align: right;\">\n",
       "      <th></th>\n",
       "      <th>movie_id</th>\n",
       "      <th>title</th>\n",
       "      <th>genre</th>\n",
       "    </tr>\n",
       "  </thead>\n",
       "  <tbody>\n",
       "    <tr>\n",
       "      <th>0</th>\n",
       "      <td>1</td>\n",
       "      <td>Toy Story (1995)</td>\n",
       "      <td>Animation|Children's|Comedy</td>\n",
       "    </tr>\n",
       "    <tr>\n",
       "      <th>1</th>\n",
       "      <td>2</td>\n",
       "      <td>Jumanji (1995)</td>\n",
       "      <td>Adventure|Children's|Fantasy</td>\n",
       "    </tr>\n",
       "    <tr>\n",
       "      <th>2</th>\n",
       "      <td>3</td>\n",
       "      <td>Grumpier Old Men (1995)</td>\n",
       "      <td>Comedy|Romance</td>\n",
       "    </tr>\n",
       "    <tr>\n",
       "      <th>3</th>\n",
       "      <td>4</td>\n",
       "      <td>Waiting to Exhale (1995)</td>\n",
       "      <td>Comedy|Drama</td>\n",
       "    </tr>\n",
       "    <tr>\n",
       "      <th>4</th>\n",
       "      <td>5</td>\n",
       "      <td>Father of the Bride Part II (1995)</td>\n",
       "      <td>Comedy</td>\n",
       "    </tr>\n",
       "  </tbody>\n",
       "</table>\n",
       "</div>"
      ],
      "text/plain": [
       "   movie_id                               title                         genre\n",
       "0         1                    Toy Story (1995)   Animation|Children's|Comedy\n",
       "1         2                      Jumanji (1995)  Adventure|Children's|Fantasy\n",
       "2         3             Grumpier Old Men (1995)                Comedy|Romance\n",
       "3         4            Waiting to Exhale (1995)                  Comedy|Drama\n",
       "4         5  Father of the Bride Part II (1995)                        Comedy"
      ]
     },
     "execution_count": 7,
     "metadata": {},
     "output_type": "execute_result"
    }
   ],
   "source": [
    "# 영화 제목을 보기 위해 메타 데이터를 읽어옵니다.\n",
    "movie_file_path=os.getenv('HOME') + '/mini_projects/_E-08_recommend/ml-1m/movies.dat'\n",
    "cols = ['movie_id', 'title', 'genre'] \n",
    "movies = pd.read_csv(movie_file_path, sep='::', names=cols, engine='python')\n",
    "movies.head()"
   ]
  },
  {
   "cell_type": "code",
   "execution_count": 8,
   "metadata": {},
   "outputs": [
    {
     "data": {
      "text/html": [
       "<div>\n",
       "<style scoped>\n",
       "    .dataframe tbody tr th:only-of-type {\n",
       "        vertical-align: middle;\n",
       "    }\n",
       "\n",
       "    .dataframe tbody tr th {\n",
       "        vertical-align: top;\n",
       "    }\n",
       "\n",
       "    .dataframe thead th {\n",
       "        text-align: right;\n",
       "    }\n",
       "</style>\n",
       "<table border=\"1\" class=\"dataframe\">\n",
       "  <thead>\n",
       "    <tr style=\"text-align: right;\">\n",
       "      <th></th>\n",
       "      <th>movie_id</th>\n",
       "      <th>title</th>\n",
       "      <th>genre</th>\n",
       "    </tr>\n",
       "  </thead>\n",
       "  <tbody>\n",
       "    <tr>\n",
       "      <th>0</th>\n",
       "      <td>1</td>\n",
       "      <td>toy story (1995)</td>\n",
       "      <td>Animation|Children's|Comedy</td>\n",
       "    </tr>\n",
       "    <tr>\n",
       "      <th>1</th>\n",
       "      <td>2</td>\n",
       "      <td>jumanji (1995)</td>\n",
       "      <td>Adventure|Children's|Fantasy</td>\n",
       "    </tr>\n",
       "    <tr>\n",
       "      <th>2</th>\n",
       "      <td>3</td>\n",
       "      <td>grumpier old men (1995)</td>\n",
       "      <td>Comedy|Romance</td>\n",
       "    </tr>\n",
       "    <tr>\n",
       "      <th>3</th>\n",
       "      <td>4</td>\n",
       "      <td>waiting to exhale (1995)</td>\n",
       "      <td>Comedy|Drama</td>\n",
       "    </tr>\n",
       "    <tr>\n",
       "      <th>4</th>\n",
       "      <td>5</td>\n",
       "      <td>father of the bride part ii (1995)</td>\n",
       "      <td>Comedy</td>\n",
       "    </tr>\n",
       "    <tr>\n",
       "      <th>5</th>\n",
       "      <td>6</td>\n",
       "      <td>heat (1995)</td>\n",
       "      <td>Action|Crime|Thriller</td>\n",
       "    </tr>\n",
       "    <tr>\n",
       "      <th>6</th>\n",
       "      <td>7</td>\n",
       "      <td>sabrina (1995)</td>\n",
       "      <td>Comedy|Romance</td>\n",
       "    </tr>\n",
       "    <tr>\n",
       "      <th>7</th>\n",
       "      <td>8</td>\n",
       "      <td>tom and huck (1995)</td>\n",
       "      <td>Adventure|Children's</td>\n",
       "    </tr>\n",
       "    <tr>\n",
       "      <th>8</th>\n",
       "      <td>9</td>\n",
       "      <td>sudden death (1995)</td>\n",
       "      <td>Action</td>\n",
       "    </tr>\n",
       "    <tr>\n",
       "      <th>9</th>\n",
       "      <td>10</td>\n",
       "      <td>goldeneye (1995)</td>\n",
       "      <td>Action|Adventure|Thriller</td>\n",
       "    </tr>\n",
       "  </tbody>\n",
       "</table>\n",
       "</div>"
      ],
      "text/plain": [
       "   movie_id                               title                         genre\n",
       "0         1                    toy story (1995)   Animation|Children's|Comedy\n",
       "1         2                      jumanji (1995)  Adventure|Children's|Fantasy\n",
       "2         3             grumpier old men (1995)                Comedy|Romance\n",
       "3         4            waiting to exhale (1995)                  Comedy|Drama\n",
       "4         5  father of the bride part ii (1995)                        Comedy\n",
       "5         6                         heat (1995)         Action|Crime|Thriller\n",
       "6         7                      sabrina (1995)                Comedy|Romance\n",
       "7         8                 tom and huck (1995)          Adventure|Children's\n",
       "8         9                 sudden death (1995)                        Action\n",
       "9        10                    goldeneye (1995)     Action|Adventure|Thriller"
      ]
     },
     "execution_count": 8,
     "metadata": {},
     "output_type": "execute_result"
    }
   ],
   "source": [
    "movies['title'] = movies['title'].str.lower() # 검색을 쉽게하기 위해 소문자로 바꿔줍시다.\n",
    "movies.head(10)"
   ]
  },
  {
   "cell_type": "code",
   "execution_count": 9,
   "metadata": {},
   "outputs": [
    {
     "data": {
      "text/html": [
       "<div>\n",
       "<style scoped>\n",
       "    .dataframe tbody tr th:only-of-type {\n",
       "        vertical-align: middle;\n",
       "    }\n",
       "\n",
       "    .dataframe tbody tr th {\n",
       "        vertical-align: top;\n",
       "    }\n",
       "\n",
       "    .dataframe thead th {\n",
       "        text-align: right;\n",
       "    }\n",
       "</style>\n",
       "<table border=\"1\" class=\"dataframe\">\n",
       "  <thead>\n",
       "    <tr style=\"text-align: right;\">\n",
       "      <th></th>\n",
       "      <th>movie_id</th>\n",
       "      <th>title</th>\n",
       "      <th>genre</th>\n",
       "    </tr>\n",
       "  </thead>\n",
       "  <tbody>\n",
       "    <tr>\n",
       "      <th>0</th>\n",
       "      <td>1</td>\n",
       "      <td>toy story (1995)</td>\n",
       "      <td>animation|children's|comedy</td>\n",
       "    </tr>\n",
       "    <tr>\n",
       "      <th>1</th>\n",
       "      <td>2</td>\n",
       "      <td>jumanji (1995)</td>\n",
       "      <td>adventure|children's|fantasy</td>\n",
       "    </tr>\n",
       "    <tr>\n",
       "      <th>2</th>\n",
       "      <td>3</td>\n",
       "      <td>grumpier old men (1995)</td>\n",
       "      <td>comedy|romance</td>\n",
       "    </tr>\n",
       "    <tr>\n",
       "      <th>3</th>\n",
       "      <td>4</td>\n",
       "      <td>waiting to exhale (1995)</td>\n",
       "      <td>comedy|drama</td>\n",
       "    </tr>\n",
       "    <tr>\n",
       "      <th>4</th>\n",
       "      <td>5</td>\n",
       "      <td>father of the bride part ii (1995)</td>\n",
       "      <td>comedy</td>\n",
       "    </tr>\n",
       "    <tr>\n",
       "      <th>5</th>\n",
       "      <td>6</td>\n",
       "      <td>heat (1995)</td>\n",
       "      <td>action|crime|thriller</td>\n",
       "    </tr>\n",
       "    <tr>\n",
       "      <th>6</th>\n",
       "      <td>7</td>\n",
       "      <td>sabrina (1995)</td>\n",
       "      <td>comedy|romance</td>\n",
       "    </tr>\n",
       "    <tr>\n",
       "      <th>7</th>\n",
       "      <td>8</td>\n",
       "      <td>tom and huck (1995)</td>\n",
       "      <td>adventure|children's</td>\n",
       "    </tr>\n",
       "    <tr>\n",
       "      <th>8</th>\n",
       "      <td>9</td>\n",
       "      <td>sudden death (1995)</td>\n",
       "      <td>action</td>\n",
       "    </tr>\n",
       "    <tr>\n",
       "      <th>9</th>\n",
       "      <td>10</td>\n",
       "      <td>goldeneye (1995)</td>\n",
       "      <td>action|adventure|thriller</td>\n",
       "    </tr>\n",
       "  </tbody>\n",
       "</table>\n",
       "</div>"
      ],
      "text/plain": [
       "   movie_id                               title                         genre\n",
       "0         1                    toy story (1995)   animation|children's|comedy\n",
       "1         2                      jumanji (1995)  adventure|children's|fantasy\n",
       "2         3             grumpier old men (1995)                comedy|romance\n",
       "3         4            waiting to exhale (1995)                  comedy|drama\n",
       "4         5  father of the bride part ii (1995)                        comedy\n",
       "5         6                         heat (1995)         action|crime|thriller\n",
       "6         7                      sabrina (1995)                comedy|romance\n",
       "7         8                 tom and huck (1995)          adventure|children's\n",
       "8         9                 sudden death (1995)                        action\n",
       "9        10                    goldeneye (1995)     action|adventure|thriller"
      ]
     },
     "execution_count": 9,
     "metadata": {},
     "output_type": "execute_result"
    }
   ],
   "source": [
    "movies['genre'] = movies['genre'].str.lower() # 검색을 쉽게하기 위해 소문자로 바꿔줍시다.\n",
    "movies.head(10)"
   ]
  },
  {
   "cell_type": "code",
   "execution_count": 10,
   "metadata": {},
   "outputs": [
    {
     "data": {
      "text/html": [
       "<div>\n",
       "<style scoped>\n",
       "    .dataframe tbody tr th:only-of-type {\n",
       "        vertical-align: middle;\n",
       "    }\n",
       "\n",
       "    .dataframe tbody tr th {\n",
       "        vertical-align: top;\n",
       "    }\n",
       "\n",
       "    .dataframe thead th {\n",
       "        text-align: right;\n",
       "    }\n",
       "</style>\n",
       "<table border=\"1\" class=\"dataframe\">\n",
       "  <thead>\n",
       "    <tr style=\"text-align: right;\">\n",
       "      <th></th>\n",
       "      <th>user_id</th>\n",
       "      <th>movie_id</th>\n",
       "      <th>count</th>\n",
       "      <th>timestamp</th>\n",
       "    </tr>\n",
       "  </thead>\n",
       "  <tbody>\n",
       "    <tr>\n",
       "      <th>0</th>\n",
       "      <td>1</td>\n",
       "      <td>1193</td>\n",
       "      <td>5</td>\n",
       "      <td>978300760</td>\n",
       "    </tr>\n",
       "    <tr>\n",
       "      <th>1</th>\n",
       "      <td>1</td>\n",
       "      <td>661</td>\n",
       "      <td>3</td>\n",
       "      <td>978302109</td>\n",
       "    </tr>\n",
       "    <tr>\n",
       "      <th>2</th>\n",
       "      <td>1</td>\n",
       "      <td>914</td>\n",
       "      <td>3</td>\n",
       "      <td>978301968</td>\n",
       "    </tr>\n",
       "    <tr>\n",
       "      <th>3</th>\n",
       "      <td>1</td>\n",
       "      <td>3408</td>\n",
       "      <td>4</td>\n",
       "      <td>978300275</td>\n",
       "    </tr>\n",
       "    <tr>\n",
       "      <th>4</th>\n",
       "      <td>1</td>\n",
       "      <td>2355</td>\n",
       "      <td>5</td>\n",
       "      <td>978824291</td>\n",
       "    </tr>\n",
       "    <tr>\n",
       "      <th>5</th>\n",
       "      <td>1</td>\n",
       "      <td>1197</td>\n",
       "      <td>3</td>\n",
       "      <td>978302268</td>\n",
       "    </tr>\n",
       "    <tr>\n",
       "      <th>6</th>\n",
       "      <td>1</td>\n",
       "      <td>1287</td>\n",
       "      <td>5</td>\n",
       "      <td>978302039</td>\n",
       "    </tr>\n",
       "    <tr>\n",
       "      <th>7</th>\n",
       "      <td>1</td>\n",
       "      <td>2804</td>\n",
       "      <td>5</td>\n",
       "      <td>978300719</td>\n",
       "    </tr>\n",
       "    <tr>\n",
       "      <th>8</th>\n",
       "      <td>1</td>\n",
       "      <td>594</td>\n",
       "      <td>4</td>\n",
       "      <td>978302268</td>\n",
       "    </tr>\n",
       "    <tr>\n",
       "      <th>9</th>\n",
       "      <td>1</td>\n",
       "      <td>919</td>\n",
       "      <td>4</td>\n",
       "      <td>978301368</td>\n",
       "    </tr>\n",
       "    <tr>\n",
       "      <th>10</th>\n",
       "      <td>1</td>\n",
       "      <td>595</td>\n",
       "      <td>5</td>\n",
       "      <td>978824268</td>\n",
       "    </tr>\n",
       "    <tr>\n",
       "      <th>11</th>\n",
       "      <td>1</td>\n",
       "      <td>938</td>\n",
       "      <td>4</td>\n",
       "      <td>978301752</td>\n",
       "    </tr>\n",
       "    <tr>\n",
       "      <th>12</th>\n",
       "      <td>1</td>\n",
       "      <td>2398</td>\n",
       "      <td>4</td>\n",
       "      <td>978302281</td>\n",
       "    </tr>\n",
       "    <tr>\n",
       "      <th>13</th>\n",
       "      <td>1</td>\n",
       "      <td>2918</td>\n",
       "      <td>4</td>\n",
       "      <td>978302124</td>\n",
       "    </tr>\n",
       "    <tr>\n",
       "      <th>14</th>\n",
       "      <td>1</td>\n",
       "      <td>1035</td>\n",
       "      <td>5</td>\n",
       "      <td>978301753</td>\n",
       "    </tr>\n",
       "    <tr>\n",
       "      <th>15</th>\n",
       "      <td>1</td>\n",
       "      <td>2791</td>\n",
       "      <td>4</td>\n",
       "      <td>978302188</td>\n",
       "    </tr>\n",
       "    <tr>\n",
       "      <th>16</th>\n",
       "      <td>1</td>\n",
       "      <td>2687</td>\n",
       "      <td>3</td>\n",
       "      <td>978824268</td>\n",
       "    </tr>\n",
       "    <tr>\n",
       "      <th>17</th>\n",
       "      <td>1</td>\n",
       "      <td>2018</td>\n",
       "      <td>4</td>\n",
       "      <td>978301777</td>\n",
       "    </tr>\n",
       "    <tr>\n",
       "      <th>18</th>\n",
       "      <td>1</td>\n",
       "      <td>3105</td>\n",
       "      <td>5</td>\n",
       "      <td>978301713</td>\n",
       "    </tr>\n",
       "    <tr>\n",
       "      <th>19</th>\n",
       "      <td>1</td>\n",
       "      <td>2797</td>\n",
       "      <td>4</td>\n",
       "      <td>978302039</td>\n",
       "    </tr>\n",
       "    <tr>\n",
       "      <th>20</th>\n",
       "      <td>1</td>\n",
       "      <td>2321</td>\n",
       "      <td>3</td>\n",
       "      <td>978302205</td>\n",
       "    </tr>\n",
       "    <tr>\n",
       "      <th>21</th>\n",
       "      <td>1</td>\n",
       "      <td>720</td>\n",
       "      <td>3</td>\n",
       "      <td>978300760</td>\n",
       "    </tr>\n",
       "    <tr>\n",
       "      <th>22</th>\n",
       "      <td>1</td>\n",
       "      <td>1270</td>\n",
       "      <td>5</td>\n",
       "      <td>978300055</td>\n",
       "    </tr>\n",
       "    <tr>\n",
       "      <th>23</th>\n",
       "      <td>1</td>\n",
       "      <td>527</td>\n",
       "      <td>5</td>\n",
       "      <td>978824195</td>\n",
       "    </tr>\n",
       "    <tr>\n",
       "      <th>24</th>\n",
       "      <td>1</td>\n",
       "      <td>2340</td>\n",
       "      <td>3</td>\n",
       "      <td>978300103</td>\n",
       "    </tr>\n",
       "    <tr>\n",
       "      <th>25</th>\n",
       "      <td>1</td>\n",
       "      <td>48</td>\n",
       "      <td>5</td>\n",
       "      <td>978824351</td>\n",
       "    </tr>\n",
       "    <tr>\n",
       "      <th>26</th>\n",
       "      <td>1</td>\n",
       "      <td>1097</td>\n",
       "      <td>4</td>\n",
       "      <td>978301953</td>\n",
       "    </tr>\n",
       "    <tr>\n",
       "      <th>27</th>\n",
       "      <td>1</td>\n",
       "      <td>1721</td>\n",
       "      <td>4</td>\n",
       "      <td>978300055</td>\n",
       "    </tr>\n",
       "    <tr>\n",
       "      <th>28</th>\n",
       "      <td>1</td>\n",
       "      <td>1545</td>\n",
       "      <td>4</td>\n",
       "      <td>978824139</td>\n",
       "    </tr>\n",
       "    <tr>\n",
       "      <th>29</th>\n",
       "      <td>1</td>\n",
       "      <td>745</td>\n",
       "      <td>3</td>\n",
       "      <td>978824268</td>\n",
       "    </tr>\n",
       "    <tr>\n",
       "      <th>30</th>\n",
       "      <td>1</td>\n",
       "      <td>2294</td>\n",
       "      <td>4</td>\n",
       "      <td>978824291</td>\n",
       "    </tr>\n",
       "    <tr>\n",
       "      <th>31</th>\n",
       "      <td>1</td>\n",
       "      <td>3186</td>\n",
       "      <td>4</td>\n",
       "      <td>978300019</td>\n",
       "    </tr>\n",
       "    <tr>\n",
       "      <th>32</th>\n",
       "      <td>1</td>\n",
       "      <td>1566</td>\n",
       "      <td>4</td>\n",
       "      <td>978824330</td>\n",
       "    </tr>\n",
       "    <tr>\n",
       "      <th>33</th>\n",
       "      <td>1</td>\n",
       "      <td>588</td>\n",
       "      <td>4</td>\n",
       "      <td>978824268</td>\n",
       "    </tr>\n",
       "    <tr>\n",
       "      <th>34</th>\n",
       "      <td>1</td>\n",
       "      <td>1907</td>\n",
       "      <td>4</td>\n",
       "      <td>978824330</td>\n",
       "    </tr>\n",
       "    <tr>\n",
       "      <th>35</th>\n",
       "      <td>1</td>\n",
       "      <td>783</td>\n",
       "      <td>4</td>\n",
       "      <td>978824291</td>\n",
       "    </tr>\n",
       "    <tr>\n",
       "      <th>36</th>\n",
       "      <td>1</td>\n",
       "      <td>1836</td>\n",
       "      <td>5</td>\n",
       "      <td>978300172</td>\n",
       "    </tr>\n",
       "    <tr>\n",
       "      <th>37</th>\n",
       "      <td>1</td>\n",
       "      <td>1022</td>\n",
       "      <td>5</td>\n",
       "      <td>978300055</td>\n",
       "    </tr>\n",
       "    <tr>\n",
       "      <th>38</th>\n",
       "      <td>1</td>\n",
       "      <td>2762</td>\n",
       "      <td>4</td>\n",
       "      <td>978302091</td>\n",
       "    </tr>\n",
       "    <tr>\n",
       "      <th>39</th>\n",
       "      <td>1</td>\n",
       "      <td>150</td>\n",
       "      <td>5</td>\n",
       "      <td>978301777</td>\n",
       "    </tr>\n",
       "    <tr>\n",
       "      <th>40</th>\n",
       "      <td>1</td>\n",
       "      <td>1</td>\n",
       "      <td>5</td>\n",
       "      <td>978824268</td>\n",
       "    </tr>\n",
       "    <tr>\n",
       "      <th>41</th>\n",
       "      <td>1</td>\n",
       "      <td>1961</td>\n",
       "      <td>5</td>\n",
       "      <td>978301590</td>\n",
       "    </tr>\n",
       "    <tr>\n",
       "      <th>42</th>\n",
       "      <td>1</td>\n",
       "      <td>1962</td>\n",
       "      <td>4</td>\n",
       "      <td>978301753</td>\n",
       "    </tr>\n",
       "    <tr>\n",
       "      <th>43</th>\n",
       "      <td>1</td>\n",
       "      <td>2692</td>\n",
       "      <td>4</td>\n",
       "      <td>978301570</td>\n",
       "    </tr>\n",
       "    <tr>\n",
       "      <th>44</th>\n",
       "      <td>1</td>\n",
       "      <td>260</td>\n",
       "      <td>4</td>\n",
       "      <td>978300760</td>\n",
       "    </tr>\n",
       "    <tr>\n",
       "      <th>45</th>\n",
       "      <td>1</td>\n",
       "      <td>1028</td>\n",
       "      <td>5</td>\n",
       "      <td>978301777</td>\n",
       "    </tr>\n",
       "    <tr>\n",
       "      <th>46</th>\n",
       "      <td>1</td>\n",
       "      <td>1029</td>\n",
       "      <td>5</td>\n",
       "      <td>978302205</td>\n",
       "    </tr>\n",
       "    <tr>\n",
       "      <th>47</th>\n",
       "      <td>1</td>\n",
       "      <td>1207</td>\n",
       "      <td>4</td>\n",
       "      <td>978300719</td>\n",
       "    </tr>\n",
       "    <tr>\n",
       "      <th>48</th>\n",
       "      <td>1</td>\n",
       "      <td>2028</td>\n",
       "      <td>5</td>\n",
       "      <td>978301619</td>\n",
       "    </tr>\n",
       "    <tr>\n",
       "      <th>49</th>\n",
       "      <td>1</td>\n",
       "      <td>531</td>\n",
       "      <td>4</td>\n",
       "      <td>978302149</td>\n",
       "    </tr>\n",
       "    <tr>\n",
       "      <th>50</th>\n",
       "      <td>1</td>\n",
       "      <td>3114</td>\n",
       "      <td>4</td>\n",
       "      <td>978302174</td>\n",
       "    </tr>\n",
       "    <tr>\n",
       "      <th>51</th>\n",
       "      <td>1</td>\n",
       "      <td>608</td>\n",
       "      <td>4</td>\n",
       "      <td>978301398</td>\n",
       "    </tr>\n",
       "    <tr>\n",
       "      <th>52</th>\n",
       "      <td>1</td>\n",
       "      <td>1246</td>\n",
       "      <td>4</td>\n",
       "      <td>978302091</td>\n",
       "    </tr>\n",
       "  </tbody>\n",
       "</table>\n",
       "</div>"
      ],
      "text/plain": [
       "    user_id  movie_id  count  timestamp\n",
       "0         1      1193      5  978300760\n",
       "1         1       661      3  978302109\n",
       "2         1       914      3  978301968\n",
       "3         1      3408      4  978300275\n",
       "4         1      2355      5  978824291\n",
       "5         1      1197      3  978302268\n",
       "6         1      1287      5  978302039\n",
       "7         1      2804      5  978300719\n",
       "8         1       594      4  978302268\n",
       "9         1       919      4  978301368\n",
       "10        1       595      5  978824268\n",
       "11        1       938      4  978301752\n",
       "12        1      2398      4  978302281\n",
       "13        1      2918      4  978302124\n",
       "14        1      1035      5  978301753\n",
       "15        1      2791      4  978302188\n",
       "16        1      2687      3  978824268\n",
       "17        1      2018      4  978301777\n",
       "18        1      3105      5  978301713\n",
       "19        1      2797      4  978302039\n",
       "20        1      2321      3  978302205\n",
       "21        1       720      3  978300760\n",
       "22        1      1270      5  978300055\n",
       "23        1       527      5  978824195\n",
       "24        1      2340      3  978300103\n",
       "25        1        48      5  978824351\n",
       "26        1      1097      4  978301953\n",
       "27        1      1721      4  978300055\n",
       "28        1      1545      4  978824139\n",
       "29        1       745      3  978824268\n",
       "30        1      2294      4  978824291\n",
       "31        1      3186      4  978300019\n",
       "32        1      1566      4  978824330\n",
       "33        1       588      4  978824268\n",
       "34        1      1907      4  978824330\n",
       "35        1       783      4  978824291\n",
       "36        1      1836      5  978300172\n",
       "37        1      1022      5  978300055\n",
       "38        1      2762      4  978302091\n",
       "39        1       150      5  978301777\n",
       "40        1         1      5  978824268\n",
       "41        1      1961      5  978301590\n",
       "42        1      1962      4  978301753\n",
       "43        1      2692      4  978301570\n",
       "44        1       260      4  978300760\n",
       "45        1      1028      5  978301777\n",
       "46        1      1029      5  978302205\n",
       "47        1      1207      4  978300719\n",
       "48        1      2028      5  978301619\n",
       "49        1       531      4  978302149\n",
       "50        1      3114      4  978302174\n",
       "51        1       608      4  978301398\n",
       "52        1      1246      4  978302091"
      ]
     },
     "execution_count": 10,
     "metadata": {},
     "output_type": "execute_result"
    }
   ],
   "source": [
    "condition = (ratings['user_id']== ratings.loc[0, 'user_id'])\n",
    "ratings.loc[condition]"
   ]
  },
  {
   "cell_type": "markdown",
   "metadata": {},
   "source": [
    "# 데이터 탐색"
   ]
  },
  {
   "cell_type": "code",
   "execution_count": 11,
   "metadata": {},
   "outputs": [
    {
     "data": {
      "text/plain": [
       "6040"
      ]
     },
     "execution_count": 11,
     "metadata": {},
     "output_type": "execute_result"
    }
   ],
   "source": [
    "# 유저 수\n",
    "ratings['user_id'].nunique()"
   ]
  },
  {
   "cell_type": "code",
   "execution_count": 12,
   "metadata": {},
   "outputs": [
    {
     "data": {
      "text/plain": [
       "3706"
      ]
     },
     "execution_count": 12,
     "metadata": {},
     "output_type": "execute_result"
    }
   ],
   "source": [
    "# 유저가 본 영화 수\n",
    "ratings['movie_id'].nunique()"
   ]
  },
  {
   "cell_type": "code",
   "execution_count": 13,
   "metadata": {},
   "outputs": [
    {
     "data": {
      "text/plain": [
       "movie_id\n",
       "2858    3428\n",
       "260     2991\n",
       "1196    2990\n",
       "1210    2883\n",
       "480     2672\n",
       "2028    2653\n",
       "589     2649\n",
       "2571    2590\n",
       "1270    2583\n",
       "593     2578\n",
       "1580    2538\n",
       "1198    2514\n",
       "608     2513\n",
       "2762    2459\n",
       "110     2443\n",
       "2396    2369\n",
       "1197    2318\n",
       "527     2304\n",
       "1617    2288\n",
       "1265    2278\n",
       "1097    2269\n",
       "2628    2250\n",
       "2997    2241\n",
       "318     2227\n",
       "858     2223\n",
       "356     2194\n",
       "2716    2181\n",
       "296     2171\n",
       "1240    2098\n",
       "1       2077\n",
       "Name: user_id, dtype: int64"
      ]
     },
     "execution_count": 13,
     "metadata": {},
     "output_type": "execute_result"
    }
   ],
   "source": [
    "# 인기 많은 영화\n",
    "movie_count = ratings.groupby('movie_id')['user_id'].count()        # 영화 이름이 나오게 하려면 어떻게 해야 되지?\n",
    "movie_count.sort_values(ascending=False).head(30)"
   ]
  },
  {
   "cell_type": "code",
   "execution_count": 14,
   "metadata": {},
   "outputs": [
    {
     "data": {
      "text/plain": [
       "count    6040.000000\n",
       "mean      165.597517\n",
       "std       192.747029\n",
       "min        20.000000\n",
       "25%        44.000000\n",
       "50%        96.000000\n",
       "75%       208.000000\n",
       "max      2314.000000\n",
       "Name: movie_id, dtype: float64"
      ]
     },
     "execution_count": 14,
     "metadata": {},
     "output_type": "execute_result"
    }
   ],
   "source": [
    "# 유저별 몇 편의 영화를 봤는지에 대한 통계\n",
    "user_count = ratings.groupby('user_id')['movie_id'].count()\n",
    "user_count.describe()"
   ]
  },
  {
   "cell_type": "code",
   "execution_count": 15,
   "metadata": {},
   "outputs": [
    {
     "data": {
      "text/plain": [
       "count    6040.000000\n",
       "mean        3.840811\n",
       "std         0.577449\n",
       "min         1.000000\n",
       "25%         4.000000\n",
       "50%         4.000000\n",
       "75%         4.000000\n",
       "max         5.000000\n",
       "Name: count, dtype: float64"
      ]
     },
     "execution_count": 15,
     "metadata": {},
     "output_type": "execute_result"
    }
   ],
   "source": [
    "# 유저별 평점 중앙값에 대한 통계\n",
    "user_median = ratings.groupby('user_id')['count'].median()\n",
    "user_median.describe()"
   ]
  },
  {
   "cell_type": "code",
   "execution_count": 16,
   "metadata": {},
   "outputs": [
    {
     "name": "stdout",
     "output_type": "stream",
     "text": [
      "hot lead and cold feet (1978)\n",
      "so dear to my heart (1949)\n",
      "sword in the stone, the (1963)\n",
      "robin hood: prince of thieves (1991)\n",
      "rescuers, the (1977)\n"
     ]
    }
   ],
   "source": [
    "mov = [1986, 1013, 1012, 1014, 2021]  # 영화 이름이 나오게 하려면 어떻게 해야 되지?\n",
    "\n",
    "for i in mov:\n",
    "    print(movies['title'][i])"
   ]
  },
  {
   "cell_type": "code",
   "execution_count": 17,
   "metadata": {},
   "outputs": [
    {
     "name": "stderr",
     "output_type": "stream",
     "text": [
      "/home/aiffel/anaconda3/envs/aiffel/lib/python3.7/site-packages/numpy/lib/arraysetops.py:580: FutureWarning: elementwise comparison failed; returning scalar instead, but in the future will perform elementwise comparison\n",
      "  mask |= (ar1 == a)\n"
     ]
    },
    {
     "data": {
      "text/html": [
       "<div>\n",
       "<style scoped>\n",
       "    .dataframe tbody tr th:only-of-type {\n",
       "        vertical-align: middle;\n",
       "    }\n",
       "\n",
       "    .dataframe tbody tr th {\n",
       "        vertical-align: top;\n",
       "    }\n",
       "\n",
       "    .dataframe thead th {\n",
       "        text-align: right;\n",
       "    }\n",
       "</style>\n",
       "<table border=\"1\" class=\"dataframe\">\n",
       "  <thead>\n",
       "    <tr style=\"text-align: right;\">\n",
       "      <th></th>\n",
       "      <th>user_id</th>\n",
       "      <th>movie_id</th>\n",
       "      <th>count</th>\n",
       "      <th>timestamp</th>\n",
       "    </tr>\n",
       "  </thead>\n",
       "  <tbody>\n",
       "    <tr>\n",
       "      <th>1000204</th>\n",
       "      <td>6040</td>\n",
       "      <td>1091</td>\n",
       "      <td>1</td>\n",
       "      <td>956716541.0</td>\n",
       "    </tr>\n",
       "    <tr>\n",
       "      <th>1000205</th>\n",
       "      <td>6040</td>\n",
       "      <td>1094</td>\n",
       "      <td>5</td>\n",
       "      <td>956704887.0</td>\n",
       "    </tr>\n",
       "    <tr>\n",
       "      <th>1000206</th>\n",
       "      <td>6040</td>\n",
       "      <td>562</td>\n",
       "      <td>5</td>\n",
       "      <td>956704746.0</td>\n",
       "    </tr>\n",
       "    <tr>\n",
       "      <th>1000207</th>\n",
       "      <td>6040</td>\n",
       "      <td>1096</td>\n",
       "      <td>4</td>\n",
       "      <td>956715648.0</td>\n",
       "    </tr>\n",
       "    <tr>\n",
       "      <th>1000208</th>\n",
       "      <td>6040</td>\n",
       "      <td>1097</td>\n",
       "      <td>4</td>\n",
       "      <td>956715569.0</td>\n",
       "    </tr>\n",
       "    <tr>\n",
       "      <th>0</th>\n",
       "      <td>lee</td>\n",
       "      <td>3245</td>\n",
       "      <td>4</td>\n",
       "      <td>NaN</td>\n",
       "    </tr>\n",
       "    <tr>\n",
       "      <th>1</th>\n",
       "      <td>lee</td>\n",
       "      <td>1234</td>\n",
       "      <td>4</td>\n",
       "      <td>NaN</td>\n",
       "    </tr>\n",
       "    <tr>\n",
       "      <th>2</th>\n",
       "      <td>lee</td>\n",
       "      <td>2367</td>\n",
       "      <td>4</td>\n",
       "      <td>NaN</td>\n",
       "    </tr>\n",
       "    <tr>\n",
       "      <th>3</th>\n",
       "      <td>lee</td>\n",
       "      <td>34</td>\n",
       "      <td>4</td>\n",
       "      <td>NaN</td>\n",
       "    </tr>\n",
       "    <tr>\n",
       "      <th>4</th>\n",
       "      <td>lee</td>\n",
       "      <td>657</td>\n",
       "      <td>4</td>\n",
       "      <td>NaN</td>\n",
       "    </tr>\n",
       "  </tbody>\n",
       "</table>\n",
       "</div>"
      ],
      "text/plain": [
       "        user_id movie_id  count    timestamp\n",
       "1000204    6040     1091      1  956716541.0\n",
       "1000205    6040     1094      5  956704887.0\n",
       "1000206    6040      562      5  956704746.0\n",
       "1000207    6040     1096      4  956715648.0\n",
       "1000208    6040     1097      4  956715569.0\n",
       "0           lee     3245      4          NaN\n",
       "1           lee     1234      4          NaN\n",
       "2           lee     2367      4          NaN\n",
       "3           lee       34      4          NaN\n",
       "4           lee      657      4          NaN"
      ]
     },
     "execution_count": 17,
     "metadata": {},
     "output_type": "execute_result"
    }
   ],
   "source": [
    "# 본인이 좋아하시는 영화 데이터로 바꿔서 추가하셔도 됩니다! 단, 이름은 꼭 데이터셋에 있는 것과 동일하게 맞춰주세요. \n",
    "my_favorite = ['3245' , '1234' ,'2367' ,'34' ,'657']\n",
    "\n",
    "# 'joshua'이라는 user_id가 위 영화를 4번 봤다고 가정하겠습니다.\n",
    "my_playlist = pd.DataFrame({'user_id': ['lee']*5, 'movie_id': my_favorite, 'count':[4]*5,})\n",
    "    \n",
    "if not ratings.isin({'user_id':['lee']})['user_id'].any(): \n",
    "    ratings = ratings.append(my_playlist)\n",
    "\n",
    "\n",
    "ratings.tail(10)       # 잘 추가되었는지 확인해 봅시다."
   ]
  },
  {
   "cell_type": "code",
   "execution_count": 18,
   "metadata": {},
   "outputs": [],
   "source": [
    "# 고유한 유저, 영화를 찾아내는 코드\n",
    "user_unique = ratings['user_id'].unique()\n",
    "movie_unique = ratings['movie_id'].unique()\n",
    "\n",
    "# 유저, 영화 indexing 하는 코드 idx는 index의 약자입니다.\n",
    "user_to_idx = {v:k for k,v in enumerate(user_unique)}\n",
    "movie_to_idx = {v:k for k,v in enumerate(movie_unique)}"
   ]
  },
  {
   "cell_type": "code",
   "execution_count": 19,
   "metadata": {},
   "outputs": [
    {
     "name": "stdout",
     "output_type": "stream",
     "text": [
      "6040\n"
     ]
    }
   ],
   "source": [
    "# 인덱싱이 잘 되었는지 확인해 봅니다. \n",
    "print(user_to_idx['lee'])  \n"
   ]
  },
  {
   "cell_type": "code",
   "execution_count": 20,
   "metadata": {},
   "outputs": [
    {
     "name": "stdout",
     "output_type": "stream",
     "text": [
      "user_id column indexing OK!!\n",
      "artist column indexing OK!!\n"
     ]
    },
    {
     "data": {
      "text/html": [
       "<div>\n",
       "<style scoped>\n",
       "    .dataframe tbody tr th:only-of-type {\n",
       "        vertical-align: middle;\n",
       "    }\n",
       "\n",
       "    .dataframe tbody tr th {\n",
       "        vertical-align: top;\n",
       "    }\n",
       "\n",
       "    .dataframe thead th {\n",
       "        text-align: right;\n",
       "    }\n",
       "</style>\n",
       "<table border=\"1\" class=\"dataframe\">\n",
       "  <thead>\n",
       "    <tr style=\"text-align: right;\">\n",
       "      <th></th>\n",
       "      <th>user_id</th>\n",
       "      <th>movie_id</th>\n",
       "      <th>count</th>\n",
       "      <th>timestamp</th>\n",
       "    </tr>\n",
       "  </thead>\n",
       "  <tbody>\n",
       "    <tr>\n",
       "      <th>0</th>\n",
       "      <td>0</td>\n",
       "      <td>0</td>\n",
       "      <td>5</td>\n",
       "      <td>978300760.0</td>\n",
       "    </tr>\n",
       "    <tr>\n",
       "      <th>1</th>\n",
       "      <td>0</td>\n",
       "      <td>1</td>\n",
       "      <td>3</td>\n",
       "      <td>978302109.0</td>\n",
       "    </tr>\n",
       "    <tr>\n",
       "      <th>2</th>\n",
       "      <td>0</td>\n",
       "      <td>2</td>\n",
       "      <td>3</td>\n",
       "      <td>978301968.0</td>\n",
       "    </tr>\n",
       "    <tr>\n",
       "      <th>3</th>\n",
       "      <td>0</td>\n",
       "      <td>3</td>\n",
       "      <td>4</td>\n",
       "      <td>978300275.0</td>\n",
       "    </tr>\n",
       "    <tr>\n",
       "      <th>4</th>\n",
       "      <td>0</td>\n",
       "      <td>4</td>\n",
       "      <td>5</td>\n",
       "      <td>978824291.0</td>\n",
       "    </tr>\n",
       "    <tr>\n",
       "      <th>...</th>\n",
       "      <td>...</td>\n",
       "      <td>...</td>\n",
       "      <td>...</td>\n",
       "      <td>...</td>\n",
       "    </tr>\n",
       "    <tr>\n",
       "      <th>0</th>\n",
       "      <td>6040</td>\n",
       "      <td>3706</td>\n",
       "      <td>4</td>\n",
       "      <td>NaN</td>\n",
       "    </tr>\n",
       "    <tr>\n",
       "      <th>1</th>\n",
       "      <td>6040</td>\n",
       "      <td>3707</td>\n",
       "      <td>4</td>\n",
       "      <td>NaN</td>\n",
       "    </tr>\n",
       "    <tr>\n",
       "      <th>2</th>\n",
       "      <td>6040</td>\n",
       "      <td>3708</td>\n",
       "      <td>4</td>\n",
       "      <td>NaN</td>\n",
       "    </tr>\n",
       "    <tr>\n",
       "      <th>3</th>\n",
       "      <td>6040</td>\n",
       "      <td>3709</td>\n",
       "      <td>4</td>\n",
       "      <td>NaN</td>\n",
       "    </tr>\n",
       "    <tr>\n",
       "      <th>4</th>\n",
       "      <td>6040</td>\n",
       "      <td>3710</td>\n",
       "      <td>4</td>\n",
       "      <td>NaN</td>\n",
       "    </tr>\n",
       "  </tbody>\n",
       "</table>\n",
       "<p>1000214 rows × 4 columns</p>\n",
       "</div>"
      ],
      "text/plain": [
       "    user_id  movie_id  count    timestamp\n",
       "0         0         0      5  978300760.0\n",
       "1         0         1      3  978302109.0\n",
       "2         0         2      3  978301968.0\n",
       "3         0         3      4  978300275.0\n",
       "4         0         4      5  978824291.0\n",
       "..      ...       ...    ...          ...\n",
       "0      6040      3706      4          NaN\n",
       "1      6040      3707      4          NaN\n",
       "2      6040      3708      4          NaN\n",
       "3      6040      3709      4          NaN\n",
       "4      6040      3710      4          NaN\n",
       "\n",
       "[1000214 rows x 4 columns]"
      ]
     },
     "execution_count": 20,
     "metadata": {},
     "output_type": "execute_result"
    }
   ],
   "source": [
    "\n",
    "# user_to_idx.get을 통해 user_id 컬럼의 모든 값을 인덱싱한 Series를 구해 봅시다. \n",
    "# 혹시 정상적으로 인덱싱되지 않은 row가 있다면 인덱스가 NaN이 될 테니 dropna()로 제거합니다. \n",
    "temp_user_data = ratings['user_id'].map(user_to_idx.get).dropna()\n",
    "if len(temp_user_data) == len(ratings):   # 모든 row가 정상적으로 인덱싱되었다면\n",
    "    print('user_id column indexing OK!!')\n",
    "    ratings['user_id'] = temp_user_data   # data['user_id']을 인덱싱된 Series로 교체해 줍니다. \n",
    "else:\n",
    "    print('user_id column indexing Fail!!')\n",
    "\n",
    "# movie_to_idx을 통해 artist 컬럼도 동일한 방식으로 인덱싱해 줍니다. \n",
    "temp_movie_data = ratings['movie_id'].map(movie_to_idx.get).dropna()\n",
    "if len(temp_movie_data) == len(ratings):\n",
    "    print('artist column indexing OK!!')\n",
    "    ratings['movie_id'] = temp_movie_data\n",
    "else:\n",
    "    print('artist column indexing Fail!!')\n",
    "\n",
    "ratings"
   ]
  },
  {
   "cell_type": "markdown",
   "metadata": {},
   "source": [
    "# matrix factorize"
   ]
  },
  {
   "cell_type": "code",
   "execution_count": 21,
   "metadata": {},
   "outputs": [],
   "source": [
    "# 실습 위에 설명보고 이해해서 만들어보기\n",
    "from scipy.sparse import csr_matrix\n",
    "\n",
    "num_user = ratings['user_id'].nunique()\n",
    "num_movie = ratings['movie_id'].nunique()\n",
    "\n"
   ]
  },
  {
   "cell_type": "code",
   "execution_count": 22,
   "metadata": {},
   "outputs": [
    {
     "data": {
      "text/plain": [
       "<6041x3711 sparse matrix of type '<class 'numpy.int64'>'\n",
       "\twith 1000214 stored elements in Compressed Sparse Row format>"
      ]
     },
     "execution_count": 22,
     "metadata": {},
     "output_type": "execute_result"
    }
   ],
   "source": [
    "csr_data = csr_matrix((ratings['count'], (ratings.user_id, ratings.movie_id)), shape= (num_user, num_movie))\n",
    "csr_data"
   ]
  },
  {
   "cell_type": "markdown",
   "metadata": {},
   "source": [
    "# AlternatingLeastSquares"
   ]
  },
  {
   "cell_type": "code",
   "execution_count": 23,
   "metadata": {},
   "outputs": [],
   "source": [
    "from implicit.als import AlternatingLeastSquares\n",
    "import os\n",
    "import numpy as np\n",
    "\n",
    "# implicit 라이브러리에서 권장하고 있는 부분입니다. 학습 내용과는 무관합니다.\n",
    "os.environ['OPENBLAS_NUM_THREADS']='1'\n",
    "os.environ['KMP_DUPLICATE_LIB_OK']='True'\n",
    "os.environ['MKL_NUM_THREADS']='1'"
   ]
  },
  {
   "cell_type": "code",
   "execution_count": 24,
   "metadata": {},
   "outputs": [],
   "source": [
    "# Implicit AlternatingLeastSquares 모델의 선언\n",
    "als_model = AlternatingLeastSquares(factors=100, regularization=0.01, use_gpu=False, iterations=15, dtype=np.float32)"
   ]
  },
  {
   "cell_type": "code",
   "execution_count": 25,
   "metadata": {},
   "outputs": [
    {
     "data": {
      "text/plain": [
       "<3711x6041 sparse matrix of type '<class 'numpy.int64'>'\n",
       "\twith 1000214 stored elements in Compressed Sparse Column format>"
      ]
     },
     "execution_count": 25,
     "metadata": {},
     "output_type": "execute_result"
    }
   ],
   "source": [
    "# als 모델은 input으로 (item X user 꼴의 matrix를 받기 때문에 Transpose해줍니다.)\n",
    "csr_data_transpose = csr_data.T\n",
    "csr_data_transpose"
   ]
  },
  {
   "cell_type": "code",
   "execution_count": 26,
   "metadata": {},
   "outputs": [
    {
     "data": {
      "text/plain": [
       "(3711, 6041)"
      ]
     },
     "execution_count": 26,
     "metadata": {},
     "output_type": "execute_result"
    }
   ],
   "source": [
    "csr_data_transpose.shape"
   ]
  },
  {
   "cell_type": "markdown",
   "metadata": {},
   "source": [
    "# 모델 훈련"
   ]
  },
  {
   "cell_type": "code",
   "execution_count": 27,
   "metadata": {},
   "outputs": [
    {
     "data": {
      "application/vnd.jupyter.widget-view+json": {
       "model_id": "5ac3856a74934cd8a320bd9f62c11547",
       "version_major": 2,
       "version_minor": 0
      },
      "text/plain": [
       "  0%|          | 0/15 [00:00<?, ?it/s]"
      ]
     },
     "metadata": {},
     "output_type": "display_data"
    }
   ],
   "source": [
    "# 모델 훈련\n",
    "als_model.fit(csr_data_transpose)"
   ]
  },
  {
   "cell_type": "markdown",
   "metadata": {},
   "source": [
    "# "
   ]
  },
  {
   "cell_type": "code",
   "execution_count": 28,
   "metadata": {},
   "outputs": [
    {
     "name": "stdout",
     "output_type": "stream",
     "text": [
      "슝=3\n"
     ]
    }
   ],
   "source": [
    "lee, toy_story = user_to_idx['lee'], movie_to_idx[1]\n",
    "lee_vector, toystory_vector = als_model.user_factors[lee], als_model.item_factors[toy_story]\n",
    "\n",
    "print('슝=3')    "
   ]
  },
  {
   "cell_type": "code",
   "execution_count": 29,
   "metadata": {},
   "outputs": [
    {
     "name": "stdout",
     "output_type": "stream",
     "text": [
      "[-1.3621460e-03 -2.4052055e-05 -2.0414586e-04  3.2099250e-03\n",
      " -5.9242820e-04 -3.5410516e-03  3.2743163e-04  3.0114972e-03\n",
      " -6.5114687e-04  7.8262226e-04 -2.0587188e-03  1.5148971e-03\n",
      "  1.9029483e-03 -5.7427026e-03  3.5145332e-03 -3.4488565e-03\n",
      " -1.9839325e-03  3.0636964e-03 -8.1950886e-04 -5.1794648e-03\n",
      "  3.5300725e-03  7.0552388e-03  1.7602877e-03  5.6679669e-04\n",
      "  2.9978368e-03  1.1029172e-03 -9.9486124e-04 -8.4469153e-04\n",
      "  2.5253382e-03 -5.3960681e-03  3.4732424e-04 -1.9855741e-03\n",
      "  1.0668811e-03  4.0057553e-03 -4.7407034e-03  4.0828935e-03\n",
      " -2.8317156e-03 -2.2182020e-03  2.0434202e-03 -3.2197714e-03\n",
      "  1.1202482e-03  1.5250711e-03 -2.0086751e-03  5.6130858e-04\n",
      " -8.2110311e-04  2.5638132e-03 -7.8286650e-03  2.7543774e-03\n",
      " -4.1146777e-03 -2.1245314e-03 -4.1567258e-04  5.7083177e-03\n",
      "  1.6662504e-03 -6.9953874e-04 -1.1528959e-03  1.3971117e-03\n",
      "  1.8086468e-03  3.0611121e-04  1.6234594e-04  6.8741580e-03\n",
      "  3.2103960e-03  1.1098226e-02  1.7043244e-03 -2.2200854e-03\n",
      "  4.3402976e-04 -5.7254937e-03  1.3239154e-03 -6.1880318e-03\n",
      " -2.4524822e-03 -1.2446929e-03  4.1032308e-03 -3.3345083e-03\n",
      "  4.1291476e-04 -4.6277200e-03  2.6989128e-03 -1.1764843e-03\n",
      " -2.2164516e-03  1.1782951e-03  4.2270054e-04  3.2296004e-03\n",
      "  6.9432124e-03  3.8222626e-03  1.3249437e-03  6.4873584e-03\n",
      "  1.2542333e-03 -9.3785377e-04 -3.3169256e-03 -4.6685187e-04\n",
      "  3.4378171e-03 -2.5061681e-03 -4.6241152e-04 -5.1878430e-03\n",
      "  5.2800437e-04 -1.7779300e-03 -4.5055803e-03  6.1149164e-03\n",
      " -1.8708716e-03 -8.2862303e-03 -2.7039531e-03  1.3029035e-03]\n",
      "100\n"
     ]
    },
    {
     "data": {
      "text/plain": [
       "(100,)"
      ]
     },
     "execution_count": 29,
     "metadata": {},
     "output_type": "execute_result"
    }
   ],
   "source": [
    "print(lee_vector)\n",
    "print(len(lee_vector))\n",
    "lee_vector.shape"
   ]
  },
  {
   "cell_type": "code",
   "execution_count": 30,
   "metadata": {},
   "outputs": [
    {
     "name": "stdout",
     "output_type": "stream",
     "text": [
      "[ 0.02722646  0.01185132 -0.00138563  0.00715574  0.02311376  0.01301323\n",
      " -0.01948186 -0.00524573  0.00585014  0.00538858  0.01569814 -0.01123333\n",
      "  0.01947936  0.00646068  0.00710667  0.02174431 -0.00250337  0.01846508\n",
      "  0.02568952  0.02840773  0.02700961  0.03813925 -0.0004978   0.01442924\n",
      "  0.01201556  0.00748176 -0.01162262 -0.00333789  0.02874931  0.00923476\n",
      "  0.04118547  0.01496085 -0.02515573 -0.01577307  0.02283118  0.00562489\n",
      " -0.01439902 -0.02371249  0.03880126 -0.00564124 -0.02094697 -0.05232745\n",
      "  0.02545934  0.00532863 -0.00861748 -0.00086329 -0.01597595 -0.00544533\n",
      " -0.00114072  0.01895739 -0.01734653  0.00138401  0.01623979  0.00504562\n",
      " -0.01502333 -0.01384543 -0.00746733  0.03076619 -0.03940547 -0.01568567\n",
      " -0.02937944  0.02976091 -0.00981539  0.00996317  0.00460795  0.0003542\n",
      " -0.00647141 -0.01084322  0.00793002 -0.01210472 -0.00957751  0.00256144\n",
      "  0.01555518 -0.00142447  0.0237728   0.02965154 -0.01940695 -0.0062965\n",
      "  0.01854683  0.01469565  0.00429153  0.00994107  0.02727355  0.01201191\n",
      " -0.00586038  0.01127733  0.02133526  0.02777026  0.01659332  0.00638955\n",
      "  0.00409939  0.05476571  0.02607688 -0.02474043  0.02056741  0.02525271\n",
      " -0.02050523 -0.00922541  0.02126627  0.00094309]\n"
     ]
    },
    {
     "data": {
      "text/plain": [
       "(100,)"
      ]
     },
     "execution_count": 30,
     "metadata": {},
     "output_type": "execute_result"
    }
   ],
   "source": [
    "print(toystory_vector)\n",
    "len(toystory_vector)\n",
    "toystory_vector.shape"
   ]
  },
  {
   "cell_type": "code",
   "execution_count": 31,
   "metadata": {},
   "outputs": [
    {
     "data": {
      "text/plain": [
       "0.0003476785"
      ]
     },
     "execution_count": 31,
     "metadata": {},
     "output_type": "execute_result"
    }
   ],
   "source": [
    "np.dot(lee_vector, toystory_vector)"
   ]
  },
  {
   "cell_type": "markdown",
   "metadata": {},
   "source": [
    "# 영화추천"
   ]
  },
  {
   "cell_type": "code",
   "execution_count": 32,
   "metadata": {},
   "outputs": [
    {
     "data": {
      "text/plain": [
       "[(38, 0.0011401094),\n",
       " (770, 0.0010288865),\n",
       " (2773, 0.0009960156),\n",
       " (295, 0.0009936201),\n",
       " (165, 0.0009634982),\n",
       " (2439, 0.0009618643),\n",
       " (2444, 0.00095867447),\n",
       " (716, 0.0009485519),\n",
       " (257, 0.00091931643),\n",
       " (1653, 0.0009184536),\n",
       " (752, 0.0009058658),\n",
       " (2617, 0.0009043785),\n",
       " (174, 0.0008896879),\n",
       " (1150, 0.0008656691),\n",
       " (2508, 0.0008566374),\n",
       " (245, 0.00084992725),\n",
       " (2610, 0.0008494856),\n",
       " (732, 0.00084617164),\n",
       " (2529, 0.00084557733),\n",
       " (3361, 0.0008364015)]"
      ]
     },
     "execution_count": 32,
     "metadata": {},
     "output_type": "execute_result"
    }
   ],
   "source": [
    "user = user_to_idx['lee']\n",
    "# recommend에서는 user*item CSR Matrix를 받습니다.\n",
    "movie_recommended = als_model.recommend(user, csr_data, N=20, filter_already_liked_items=True)\n",
    "movie_recommended\n",
    "# 평점 3점 미만 버렸을 때\n",
    "# factor 가 1000일 땐 0.04 ~ 0.05\n",
    "# factor 가 500 일 땐 0.02\n",
    "# factor 가 100일 땐 0.001 ~ 0.002\n",
    "\n",
    "# 평점제한 없앴을 때\n",
    "# 1000, 0.03~0.05\n",
    "# 500, 0.02\n",
    "# 100, 0.002\n",
    "\n",
    "# 내 가설이 맞았다. 영화추천에선 평점 제한이 있으나 없으나 별 차이 없다.  그나저나 왜 이렇게 낮은거지?"
   ]
  },
  {
   "cell_type": "code",
   "execution_count": 33,
   "metadata": {
    "scrolled": true
   },
   "outputs": [
    {
     "name": "stdout",
     "output_type": "stream",
     "text": [
      "clueless (1995)\n",
      "independence day (id4) (1996)\n",
      "best laid plans (1999)\n",
      "pushing hands (1992)\n",
      "feast of july (1995)\n",
      "breaks, the (1999)\n",
      "pet sematary (1989)\n",
      "great white hype, the (1996)\n",
      "star wars: episode iv - a new hope (1977)\n",
      "deconstructing harry (1997)\n",
      "striptease (1996)\n",
      "red violin, the (le violon rouge) (1998)\n",
      "living in oblivion (1995)\n",
      "farmer & chase (1995)\n",
      "metroland (1997)\n",
      "houseguest (1994)\n",
      "finding north (1999)\n",
      "thinner (1996)\n",
      "pushing tin (1999)\n",
      "death wish (1974)\n"
     ]
    }
   ],
   "source": [
    "for i in movie_recommended:\n",
    "    print(movies['title'][i[0]])"
   ]
  },
  {
   "cell_type": "code",
   "execution_count": 36,
   "metadata": {},
   "outputs": [
    {
     "data": {
      "text/plain": [
       "(0.0006987633859626677,\n",
       " [(3709, 0.00018972655760196377),\n",
       "  (3710, 0.00015160942120187837),\n",
       "  (3706, 0.00015016342549517976),\n",
       "  (3707, 0.00012713386463054726),\n",
       "  (3708, 8.013011703309855e-05)],\n",
       " (array([[0.6021488 , 0.07919306, 0.12176069, ..., 0.0782789 , 0.10003129,\n",
       "          0.10199424],\n",
       "         [0.04768601, 0.61862233, 0.1008575 , ..., 0.10138097, 0.07792505,\n",
       "          0.11707291],\n",
       "         [0.07331805, 0.0720353 , 0.63605884, ..., 0.09478665, 0.05118011,\n",
       "          0.04074657],\n",
       "         ...,\n",
       "         [0.04713555, 0.06891568, 0.08004621, ..., 0.52474298, 0.0146327 ,\n",
       "          0.02576906],\n",
       "         [0.06023372, 0.05612796, 0.05259277, ..., 0.05432659, 0.51008123,\n",
       "          0.00867656],\n",
       "         [0.06141571, 0.08050115, 0.05014378, ..., 0.07504615, 0.06655154,\n",
       "          0.52634135]]),\n",
       "  False))"
      ]
     },
     "execution_count": 36,
     "metadata": {},
     "output_type": "execute_result"
    }
   ],
   "source": [
    "\n",
    "explain = als_model.explain(user, csr_data, itemid=38)\n",
    "explain"
   ]
  },
  {
   "cell_type": "markdown",
   "metadata": {},
   "source": [
    "# 비슷한 영화 찾기"
   ]
  },
  {
   "cell_type": "code",
   "execution_count": 34,
   "metadata": {},
   "outputs": [
    {
     "name": "stdout",
     "output_type": "stream",
     "text": [
      "[(1334, 1.0000001), (1091, 0.74425906), (1772, 0.74174464), (401, 0.7276008), (607, 0.7112133), (1415, 0.69398856), (1321, 0.68053913), (621, 0.67733455), (1866, 0.676931), (634, 0.6638844), (1221, 0.65861034), (627, 0.6580581), (699, 0.65436625), (566, 0.6508656), (744, 0.6504126)]\n",
      "<class 'list'>\n"
     ]
    }
   ],
   "source": [
    "\n",
    "similar_movie = als_model.similar_items(movie_to_idx[5], N=15)\n",
    "print(similar_movie)\n",
    "print(type(similar_movie))"
   ]
  },
  {
   "cell_type": "markdown",
   "metadata": {},
   "source": [
    "#  프로젝트 진행 중 의문점   \n",
    "   \n",
    "### **1. 데이터 전처리 과정에서**   \n",
    "   \n",
    "1. 왜 timestamp를 없애면 3점 이상의 평점 필터링이 작동하지 않는 걸까?   \n",
    "timestamp 칼럼의 정보가 하는 역할이 뭐지?   \n",
    "   \n",
    "   \n",
    "2. rating을 count로 바꾸는 건 평점 정보를 영화를 본 횟수를 의미하게 하기 위해서다.   \n",
    "그런데 이렇게 바꾸는 바람에   \n",
    "csr_data = csr_matrix((ratings['count'], (ratings.user_id, ratings.movie_id)), shape= (num_user, num_movie))   \n",
    "여기서 rating.count라고 쓰면 오류가 난다.   \n",
    "내 생각엔 변수이름 지정이 좋지 않아 보인다.   \n",
    "\n",
    "### **2. 데이터 탐색에서**   \n",
    "   \n",
    "1. 평점이 높은 영화를 뽑아내는 코드에서  영화 제목을 뽑아내는 데 실패했다.   \n",
    "rating파일엔 평점 정보와 영화 번호가 저장돼 있고   \n",
    "movie파일엔 영화번호와 영화제목 정보가 저장돼 있다.   \n",
    "영화 제목을 문자열로 입력하면 영화 평점이 뜨게 하는 함수를 만들어야 한다. **만들어 낼 것**   \n",
    "   \n",
    "   \n",
    "   \n",
    "2. uset_to_indx, movie_to_idx 코드는 불필요한 것 같다. 이미 인덱싱이 돼 있기 때문이다.   \n",
    "   \n",
    "### **3. matrix factorize 단계에서**   \n",
    "csr_matrix의 shape가 전처리한 데이터와 차이가 없었다.   \n",
    "별도의 함수 명령을 줘야 원래의 sparse행렬을 압축한 csr mtrix를 확인할 수 있는 것 같다. **확인해 볼 것**   \n",
    "   \n",
    "   \n",
    "### **4. 훈련 후 평가 단계에서**   \n",
    "   \n",
    "1. 유저 벡터와 영화 벡터의 내적 값이 너무 작게 나오는 것 같다. 0.002에서 0.05 사이면 1이랑은 한참 멀다.   \n",
    "일부러 평점이 4점인 영화들로만 골라서 했는데도 이렇게 나오는 건 왜일까?   \n",
    "   \n",
    "   \n",
    "   \n",
    "2. 나는 평점 3점 이상만 고려하는 게 잘못됐다고 생각했다.   \n",
    "평점이 아니라 본 횟수를 고려할 경우,      \n",
    "한 번만 본 것도 추천을 위한 정보로 쓰일만한 가치가 있다   \n",
    "뮤지션 추천이나 음악추천의 경우 단 한 번만 들은 앨범이나 곡이라 해도   \n",
    "그것이 유사도가 높은 유저 사이에서의 어느 한쪽의 청음 기록이라고 한다면      \n",
    "그것은 다른 한쪽에게 추천의 근거가 될 수 있다.      \n",
    "   \n",
    "더군다나 여기 영화추천에선   \n",
    "모든 데이터들이 최대 5번까지 본 것으로 간주되므로      \n",
    "이러한 분포에서 1번의 시청기록은 큰 의미를 지닐 수 있다.   \n",
    "따라서 3점이상의 기록만 학습에 쓰도록 하게 되면   \n",
    "이로부터 얻어낸 벡터 정보는 큰 힘을 갖지 못할 것 같다고 생각했다.      \n",
    "그래서 나는 평점이 3점 이상만 있는 데이터일 경우와       \n",
    "평점 제한을 없엔 데이터일 경우, 이렇게 두 가지 경우로 나누어 추천을 받았을 때   \n",
    "추천 받은 영화에 기여한 다른 평점의 기여도가 다를 거라고 추측했다.   \n",
    "   \n",
    "    \n",
    "그래서 영화 데이터 중, 사람들이 가장 많이 본 영화 TOP10 에서 5개를 뽑아   \n",
    "나의 시청기록 데이터로 만든 후 모델의 factor수를 달리해 실험해보았다.      \n",
    "그런데 결과는 두 가지 경우에서 모두 똑같이 나왔다.   \n",
    "아마 그 이유는 평점의 분포라든가, 평점의 스케일이 1에서 5까지 밖에 안된다는 점,   \n",
    "각 유저들이 본 영화들의 평점간의 관계를 깊게 의미화하기엔   \n",
    "주어진 정보가 너무 없다는 점 등 때문이라고 생각한다.   \n",
    "   \n",
    "또 다른 한 편으로는, 단 한번의 기록이 추천의 근거가 될 수 있다고 생각하는 내 주장의 근거가   \n",
    "모델에 구현되어 있지 않았기 때문일 수도 있다.   \n",
    "\n",
    "\n",
    "\n"
   ]
  },
  {
   "cell_type": "markdown",
   "metadata": {},
   "source": [
    "# 프로젝트 진행 중 어려웠던 점"
   ]
  },
  {
   "cell_type": "markdown",
   "metadata": {},
   "source": [
    "아직 데이터 전처리 과정에서 판다스를 다루는 게 숙련되지 않아   \n",
    "굉장히 기본적인 처리도 못하고 있다.   \n",
    "그리고 몸도 별로 좋지 않다. 어서 자고 싶다.   "
   ]
  },
  {
   "cell_type": "markdown",
   "metadata": {},
   "source": [
    "# 회고   \n",
    "   \n",
    "딥러닝에는 CNN과 RNN만 있는 줄 알았다.   \n",
    "추천도 딥러닝으로 한다는 게 신기했다.   \n",
    "   \n",
    "   \n",
    "   \n",
    "추천 시스템이라는 건 일상에서 많이 사용해봤지만   \n",
    "사실 나한테 크게 와닿은 적은 없었다.   \n",
    "내 취향이 까다로워서일 수도 있고   \n",
    "인공지능의 추천시스템이 아직 충분히 정교하지 않아서일 수도 있고   \n",
    "내가 제대로 추천받을 수 있을 만큼 충분한 정보를 서비스에 제공하지 않아서일 수도 있고   \n",
    "뭐랄까, 감히 컴퓨터 나부랭이가 내 취향을 파악해서 내가 좋아할만한 걸 추천해준다고? 하는 폄하가 있어서 일 수도 있다.   \n",
    "   \n",
    "굉장히 간단하고 그래서 강력하지 않은 추천시스템을 아주 수박 겉핥기로 살펴본 것에 지나지 않지만,   \n",
    "추천 시스템이라는 게 굉장히 머리가 좋은 사람이 해야하는 거라는 건 바로 직감했다.   \n",
    "그 추천 전략을 짜는 것의 대부분은 포장기술에 지나지 않을 것이고   \n",
    "정말 혁신적인 추천 알고리즘은 굉장히 드물다는 업계 특성도 살짝 느껴졌다.    \n",
    "제한된 정보한 가지고 뭔가를 추천하려면 약과 MSG를 무지 섞어 팔아야하겠지.   \n",
    "   \n",
    "사실 난 추천 시스템에 굉장히 비판적이고 회의적이다.   \n",
    "내 유튜브 앱에는 시청기록과 검색기록이 꺼져 있은지가 수년이 되었고,   \n",
    "멜론의 추천시스템은 너무 조악하기 그지 없기도 하거니와 나를 편협한 대중가요에 묶어두게 되는 결과가 너무 빤히 보여   \n",
    "나만의 플레이 리스트를 쓴지 오래다. 그마저도 그걸 기반으로 추천을 해주는 시스템도 있을 테니   \n",
    "각각의 플레이리스트에 일부러 패턴이 다른 음악을 넣기도 한다.   \n",
    "사용자가 자신의 후기를 바로 옆에서 말하는 수준의, 추천 받는 동안 스포를 당하거나 너무 큰 기대를 하지 않게 되거나  \n",
    "너무 간과하지 않을 정도로 굉장히 섬세하게 표현하는 수준의 추천시스템을 만드려면 어떻게 해야 할까?   \n",
    "단순히 데이터만을 가지고 수치로 말하는 추천은  \n",
    "사실 난 잘 모르겠다.   \n",
    "이건 이미지 분류와 자연어 처리 문제랑은 별개의 문제다.   \n",
    "나에게 무언갈 추천할 순 있다.   \n",
    "하지만 그 서비스를 나에게 제공하려면,   \n",
    "서비스 제공자는 어떤 알고리즘으로 어떤 데이터에 기반해 무슨 근거로 그걸 나에게 추천했는지   \n",
    "추천하는 즉시 나에게 그 까닭을 제공해야할 의무가 있다고 본다.   \n",
    "그게 음악이든, 영화든, 특정 정치인이든, 뭐든 간에 말이다.   \n",
    "개발자가 implicit, explicit한 평가 정보를 바탕으로   \n",
    "자기 임의로 만들어낸 추천전략에 툭 튀어나와 내앞에 던져진 결과를   \n",
    "일방적으로 수용하기엔   \n",
    "내가 도저히 가두어질 마음이 없다.\n",
    "   \n",
    "딥러닝의 다른 분야에 비해 기교와 지능이 훨씬 더 많이 필요한 영역임은   \n",
    "이번 단 한번의 기회를 통해서도 충분히 알 수 있겠다.   \n",
    "그래서 더 경계하는 마음이 생기면서도   \n",
    "다른 한편으로는 내 마음에 드는 추천시스템을 만드려면 어떻게 해야하는가 하는 새로운 질문을 나로 하여금 하게 만들기도 했다.   \n",
    "다 쓰고 나니 좀 길어졌는데   \n",
    "아 컨디션이 너무 안좋다. 쓰러질것 같다. 나중에 더 이어가야겠다."
   ]
  },
  {
   "cell_type": "code",
   "execution_count": null,
   "metadata": {},
   "outputs": [],
   "source": []
  }
 ],
 "metadata": {
  "kernelspec": {
   "display_name": "Python 3",
   "language": "python",
   "name": "python3"
  },
  "language_info": {
   "codemirror_mode": {
    "name": "ipython",
    "version": 3
   },
   "file_extension": ".py",
   "mimetype": "text/x-python",
   "name": "python",
   "nbconvert_exporter": "python",
   "pygments_lexer": "ipython3",
   "version": "3.7.9"
  }
 },
 "nbformat": 4,
 "nbformat_minor": 4
}
