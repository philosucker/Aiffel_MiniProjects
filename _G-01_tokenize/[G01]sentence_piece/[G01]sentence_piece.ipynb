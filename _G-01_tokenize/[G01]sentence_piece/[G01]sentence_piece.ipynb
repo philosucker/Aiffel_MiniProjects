{
 "cells": [
  {
   "cell_type": "markdown",
   "id": "pleasant-question",
   "metadata": {},
   "source": [
    "# 프로젝트 목차   \n",
    "## 1. Sentence Piece-unigram로 토큰화 후 시도   \n",
    "   \n",
    "   \n",
    "### 1) 데이터 로드   \n",
    "### 2) 전처리   \n",
    "### 3) 토크나이즈   \n",
    "### 4) 문장 길이 고정   \n",
    "### 5) 최종 데이터 셋 확인\n",
    "### 6) 모델 설계\n",
    "### 7) 모델 훈련   \n",
    "### 8) 훈련 결과 시각화   \n",
    "### 9) 모델 테스트   \n",
    "   \n",
    "   \n",
    "## 2. Sentence Piece-BPE 로 토크나이즈 후 재시도    \n",
    "## 3. Mecab기반 토큰화 후 재시도   \n",
    "   \n",
    "## 4. 회고\n"
   ]
  },
  {
   "cell_type": "code",
   "execution_count": 1,
   "id": "solid-lexington",
   "metadata": {},
   "outputs": [],
   "source": [
    "import os\n",
    "\n",
    "import matplotlib.pyplot as plt\n",
    "import tensorflow as tf\n",
    "import numpy as np\n",
    "import pandas as pd\n",
    "from collections import Counter\n",
    "import sentencepiece as spm\n",
    "from konlpy.tag import Mecab\n",
    "\n",
    "from tensorflow import keras\n",
    "from tensorflow.keras.models import load_model"
   ]
  },
  {
   "cell_type": "markdown",
   "id": "sapphire-maldives",
   "metadata": {},
   "source": [
    "# 1. Sentence Piece-unigram 으로 토큰화 후 시도"
   ]
  },
  {
   "cell_type": "markdown",
   "id": "anonymous-change",
   "metadata": {},
   "source": [
    "## 1) 네이버 영화리뷰 데이터 로드"
   ]
  },
  {
   "cell_type": "code",
   "execution_count": 2,
   "id": "subject-effects",
   "metadata": {},
   "outputs": [],
   "source": [
    "train_data = pd.read_table('~/mini_projects/_E-04_NLP1/ratings_train.txt')\n",
    "test_data = pd.read_table('~/mini_projects/_E-04_NLP1/ratings_test.txt')"
   ]
  },
  {
   "cell_type": "code",
   "execution_count": 3,
   "id": "natural-consortium",
   "metadata": {},
   "outputs": [
    {
     "data": {
      "text/html": [
       "<div>\n",
       "<style scoped>\n",
       "    .dataframe tbody tr th:only-of-type {\n",
       "        vertical-align: middle;\n",
       "    }\n",
       "\n",
       "    .dataframe tbody tr th {\n",
       "        vertical-align: top;\n",
       "    }\n",
       "\n",
       "    .dataframe thead th {\n",
       "        text-align: right;\n",
       "    }\n",
       "</style>\n",
       "<table border=\"1\" class=\"dataframe\">\n",
       "  <thead>\n",
       "    <tr style=\"text-align: right;\">\n",
       "      <th></th>\n",
       "      <th>id</th>\n",
       "      <th>document</th>\n",
       "      <th>label</th>\n",
       "    </tr>\n",
       "  </thead>\n",
       "  <tbody>\n",
       "    <tr>\n",
       "      <th>0</th>\n",
       "      <td>9976970</td>\n",
       "      <td>아 더빙.. 진짜 짜증나네요 목소리</td>\n",
       "      <td>0</td>\n",
       "    </tr>\n",
       "    <tr>\n",
       "      <th>1</th>\n",
       "      <td>3819312</td>\n",
       "      <td>흠...포스터보고 초딩영화줄....오버연기조차 가볍지 않구나</td>\n",
       "      <td>1</td>\n",
       "    </tr>\n",
       "    <tr>\n",
       "      <th>2</th>\n",
       "      <td>10265843</td>\n",
       "      <td>너무재밓었다그래서보는것을추천한다</td>\n",
       "      <td>0</td>\n",
       "    </tr>\n",
       "    <tr>\n",
       "      <th>3</th>\n",
       "      <td>9045019</td>\n",
       "      <td>교도소 이야기구먼 ..솔직히 재미는 없다..평점 조정</td>\n",
       "      <td>0</td>\n",
       "    </tr>\n",
       "    <tr>\n",
       "      <th>4</th>\n",
       "      <td>6483659</td>\n",
       "      <td>사이몬페그의 익살스런 연기가 돋보였던 영화!스파이더맨에서 늙어보이기만 했던 커스틴 ...</td>\n",
       "      <td>1</td>\n",
       "    </tr>\n",
       "  </tbody>\n",
       "</table>\n",
       "</div>"
      ],
      "text/plain": [
       "         id                                           document  label\n",
       "0   9976970                                아 더빙.. 진짜 짜증나네요 목소리      0\n",
       "1   3819312                  흠...포스터보고 초딩영화줄....오버연기조차 가볍지 않구나      1\n",
       "2  10265843                                  너무재밓었다그래서보는것을추천한다      0\n",
       "3   9045019                      교도소 이야기구먼 ..솔직히 재미는 없다..평점 조정      0\n",
       "4   6483659  사이몬페그의 익살스런 연기가 돋보였던 영화!스파이더맨에서 늙어보이기만 했던 커스틴 ...      1"
      ]
     },
     "execution_count": 3,
     "metadata": {},
     "output_type": "execute_result"
    }
   ],
   "source": [
    "train_data.head()"
   ]
  },
  {
   "cell_type": "code",
   "execution_count": 4,
   "id": "rural-ghana",
   "metadata": {},
   "outputs": [
    {
     "data": {
      "text/html": [
       "<div>\n",
       "<style scoped>\n",
       "    .dataframe tbody tr th:only-of-type {\n",
       "        vertical-align: middle;\n",
       "    }\n",
       "\n",
       "    .dataframe tbody tr th {\n",
       "        vertical-align: top;\n",
       "    }\n",
       "\n",
       "    .dataframe thead th {\n",
       "        text-align: right;\n",
       "    }\n",
       "</style>\n",
       "<table border=\"1\" class=\"dataframe\">\n",
       "  <thead>\n",
       "    <tr style=\"text-align: right;\">\n",
       "      <th></th>\n",
       "      <th>id</th>\n",
       "      <th>document</th>\n",
       "      <th>label</th>\n",
       "    </tr>\n",
       "  </thead>\n",
       "  <tbody>\n",
       "    <tr>\n",
       "      <th>0</th>\n",
       "      <td>6270596</td>\n",
       "      <td>굳 ㅋ</td>\n",
       "      <td>1</td>\n",
       "    </tr>\n",
       "    <tr>\n",
       "      <th>1</th>\n",
       "      <td>9274899</td>\n",
       "      <td>GDNTOPCLASSINTHECLUB</td>\n",
       "      <td>0</td>\n",
       "    </tr>\n",
       "    <tr>\n",
       "      <th>2</th>\n",
       "      <td>8544678</td>\n",
       "      <td>뭐야 이 평점들은.... 나쁘진 않지만 10점 짜리는 더더욱 아니잖아</td>\n",
       "      <td>0</td>\n",
       "    </tr>\n",
       "    <tr>\n",
       "      <th>3</th>\n",
       "      <td>6825595</td>\n",
       "      <td>지루하지는 않은데 완전 막장임... 돈주고 보기에는....</td>\n",
       "      <td>0</td>\n",
       "    </tr>\n",
       "    <tr>\n",
       "      <th>4</th>\n",
       "      <td>6723715</td>\n",
       "      <td>3D만 아니었어도 별 다섯 개 줬을텐데.. 왜 3D로 나와서 제 심기를 불편하게 하죠??</td>\n",
       "      <td>0</td>\n",
       "    </tr>\n",
       "  </tbody>\n",
       "</table>\n",
       "</div>"
      ],
      "text/plain": [
       "        id                                           document  label\n",
       "0  6270596                                                굳 ㅋ      1\n",
       "1  9274899                               GDNTOPCLASSINTHECLUB      0\n",
       "2  8544678             뭐야 이 평점들은.... 나쁘진 않지만 10점 짜리는 더더욱 아니잖아      0\n",
       "3  6825595                   지루하지는 않은데 완전 막장임... 돈주고 보기에는....      0\n",
       "4  6723715  3D만 아니었어도 별 다섯 개 줬을텐데.. 왜 3D로 나와서 제 심기를 불편하게 하죠??      0"
      ]
     },
     "execution_count": 4,
     "metadata": {},
     "output_type": "execute_result"
    }
   ],
   "source": [
    "test_data.head()"
   ]
  },
  {
   "cell_type": "markdown",
   "id": "fatty-wesley",
   "metadata": {},
   "source": [
    "## 2) 전처리 "
   ]
  },
  {
   "cell_type": "markdown",
   "id": "biblical-ensemble",
   "metadata": {},
   "source": [
    "### 중복 데이터 및 결측치 제거"
   ]
  },
  {
   "cell_type": "code",
   "execution_count": 5,
   "id": "reduced-refund",
   "metadata": {},
   "outputs": [
    {
     "data": {
      "text/plain": [
       "(150000, 50000)"
      ]
     },
     "execution_count": 5,
     "metadata": {},
     "output_type": "execute_result"
    }
   ],
   "source": [
    "len(train_data), len(test_data)"
   ]
  },
  {
   "cell_type": "code",
   "execution_count": 6,
   "id": "communist-pressing",
   "metadata": {},
   "outputs": [],
   "source": [
    "train_data.drop_duplicates(subset=['document'], inplace=True)\n",
    "test_data.drop_duplicates(subset=['document'], inplace=True)\n",
    "\n",
    "train_data = train_data.dropna(how = 'any')\n",
    "test_data = test_data.dropna(how = 'any')"
   ]
  },
  {
   "cell_type": "code",
   "execution_count": 7,
   "id": "unable-filling",
   "metadata": {},
   "outputs": [
    {
     "data": {
      "text/plain": [
       "(146182, 49157)"
      ]
     },
     "execution_count": 7,
     "metadata": {},
     "output_type": "execute_result"
    }
   ],
   "source": [
    "len(train_data),len(test_data)"
   ]
  },
  {
   "cell_type": "markdown",
   "id": "promotional-treasurer",
   "metadata": {},
   "source": [
    "## 3) 토크나이즈(Sentence Piece-unigram)"
   ]
  },
  {
   "cell_type": "code",
   "execution_count": 9,
   "id": "mobile-branch",
   "metadata": {},
   "outputs": [],
   "source": [
    "vocab_size = 8000\n",
    "\n",
    "review_file = os.getenv('HOME')+'/mini_projects/_G-01_tokenize/movie_review.txt'\n",
    "\n",
    "with open(review_file, 'w') as f:\n",
    "    for row in train_data['document']: \n",
    "        f.write(str(row) + '\\n')\n",
    "\n",
    "spm.SentencePieceTrainer.Train(\n",
    "    '--input={} --model_prefix=movie_review --vocab_size={}'.format(review_file, vocab_size)    \n",
    ")\n",
    "#위 Train에서  --model_type = 'unigram'이 디폴트 적용되어 있습니다. --model_type = 'bpe' 로 옵션을 주어 변경할 수 있습니다.\n",
    "\n",
    "s = spm.SentencePieceProcessor()\n",
    "s.Load('movie_review.model')\n",
    "\n",
    "def sp_tokenize(s, train_corpus, test_corpus):\n",
    "\n",
    "    train_tensor = []\n",
    "    test_tensor = []\n",
    "\n",
    "    for sen in train_corpus:\n",
    "        train_tensor.append(s.EncodeAsIds(sen))\n",
    "        \n",
    "    for sen in test_corpus:\n",
    "        test_tensor.append(s.EncodeAsIds(sen))\n",
    "\n",
    "    with open(\"./movie_review.vocab\", 'r') as f:\n",
    "        vocab = f.readlines()\n",
    "\n",
    "    word_index = {}\n",
    "    index_word = {}\n",
    "\n",
    "    for idx, line in enumerate(vocab):\n",
    "        word = line.split(\"\\t\")[0]\n",
    "\n",
    "        word_index.update({idx:word})\n",
    "        index_word.update({word:idx})\n",
    "\n",
    "    #tensor = tf.keras.preprocessing.sequence.pad_sequences(tensor, padding='post')\n",
    "\n",
    "    return train_tensor, test_tensor, word_index, index_word\n",
    "\n",
    "train_tensor, test_tensor, word_index, index_word = sp_tokenize(s, train_data['document'], test_data['document'])"
   ]
  },
  {
   "cell_type": "code",
   "execution_count": 10,
   "id": "intensive-probability",
   "metadata": {},
   "outputs": [
    {
     "data": {
      "text/plain": [
       "(146182, 49157, 8000, 8000)"
      ]
     },
     "execution_count": 10,
     "metadata": {},
     "output_type": "execute_result"
    }
   ],
   "source": [
    "len(train_tensor), len(test_tensor), len(word_index), len(index_word)"
   ]
  },
  {
   "cell_type": "code",
   "execution_count": 11,
   "id": "imperial-promise",
   "metadata": {},
   "outputs": [
    {
     "data": {
      "text/plain": [
       "[64, 879, 5, 31, 2190, 65, 1853]"
      ]
     },
     "execution_count": 11,
     "metadata": {},
     "output_type": "execute_result"
    }
   ],
   "source": [
    "train_tensor[0]"
   ]
  },
  {
   "cell_type": "code",
   "execution_count": 12,
   "id": "outdoor-coverage",
   "metadata": {},
   "outputs": [
    {
     "name": "stdout",
     "output_type": "stream",
     "text": [
      "아 더빙.. 진짜 짜증나네요 목소리\n"
     ]
    }
   ],
   "source": [
    "print(s.DecodeIds(train_tensor[0]))"
   ]
  },
  {
   "cell_type": "markdown",
   "id": "lesbian-platinum",
   "metadata": {},
   "source": [
    "## 4) 문장길이 고정"
   ]
  },
  {
   "cell_type": "markdown",
   "id": "residential-diary",
   "metadata": {},
   "source": [
    "### 데이터셋 문장길이 확인"
   ]
  },
  {
   "cell_type": "code",
   "execution_count": 13,
   "id": "finite-beginning",
   "metadata": {},
   "outputs": [
    {
     "name": "stdout",
     "output_type": "stream",
     "text": [
      "훈련셋 문장의 최단 길이: 1\n",
      "훈련셋 문장의 최장 길이: 134\n",
      "훈련셋 문장의 평균 길이: 17\n"
     ]
    },
    {
     "data": {
      "image/png": "[encoded data removed]",
      "text/plain": [
       "<Figure size 432x288 with 1 Axes>"
      ]
     },
     "metadata": {},
     "output_type": "display_data"
    }
   ],
   "source": [
    "min_len = 999\n",
    "max_len = 0\n",
    "sum_len = 0\n",
    "\n",
    "for sen in train_tensor:\n",
    "    length = len(sen)\n",
    "    if min_len > length: min_len = length\n",
    "    if max_len < length: max_len = length\n",
    "    sum_len += length\n",
    "\n",
    "print(\"훈련셋 문장의 최단 길이:\", min_len)\n",
    "print(\"훈련셋 문장의 최장 길이:\", max_len)\n",
    "print(\"훈련셋 문장의 평균 길이:\", sum_len // len(train_tensor))\n",
    "\n",
    "sentence_length = np.zeros((max_len), dtype=np.int)\n",
    "\n",
    "for sen in train_tensor:\n",
    "    sentence_length[len(sen)-1] += 1\n",
    "\n",
    "plt.bar(range(max_len), sentence_length, width=1.0)\n",
    "plt.title(\"trainset sentence length distribution\")\n",
    "plt.show()"
   ]
  },
  {
   "cell_type": "code",
   "execution_count": 14,
   "id": "representative-halloween",
   "metadata": {},
   "outputs": [
    {
     "name": "stdout",
     "output_type": "stream",
     "text": [
      "테스트셋 문장의 최단 길이: 1\n",
      "테스트셋 문장의 최장 길이: 118\n",
      "테스트셋 문장의 평균 길이: 17\n"
     ]
    },
    {
     "data": {
      "image/png": "[encoded data removed]",
      "text/plain": [
       "<Figure size 432x288 with 1 Axes>"
      ]
     },
     "metadata": {},
     "output_type": "display_data"
    }
   ],
   "source": [
    "min_len = 999\n",
    "max_len = 0\n",
    "sum_len = 0\n",
    "\n",
    "for sen in test_tensor:\n",
    "    length = len(sen)\n",
    "    if min_len > length: min_len = length\n",
    "    if max_len < length: max_len = length\n",
    "    sum_len += length\n",
    "\n",
    "print(\"테스트셋 문장의 최단 길이:\", min_len)\n",
    "print(\"테스트셋 문장의 최장 길이:\", max_len)\n",
    "print(\"테스트셋 문장의 평균 길이:\", sum_len // len(test_tensor))\n",
    "\n",
    "sentence_length = np.zeros((max_len), dtype=np.int)\n",
    "\n",
    "for sen in test_tensor:\n",
    "    sentence_length[len(sen)-1] += 1\n",
    "\n",
    "plt.bar(range(max_len), sentence_length, width=1.0)\n",
    "plt.title(\"testset sentence length distribution\")\n",
    "plt.show()"
   ]
  },
  {
   "cell_type": "markdown",
   "id": "pursuant-manor",
   "metadata": {},
   "source": [
    "### 문장길이 통일 및 패딩"
   ]
  },
  {
   "cell_type": "code",
   "execution_count": 15,
   "id": "absolute-theory",
   "metadata": {},
   "outputs": [],
   "source": [
    "maxlen = 20\n",
    "X_train = tf.keras.preprocessing.sequence.pad_sequences(train_tensor, padding='post', maxlen = maxlen)\n",
    "X_test = tf.keras.preprocessing.sequence.pad_sequences(test_tensor, padding='post', maxlen = maxlen)"
   ]
  },
  {
   "cell_type": "code",
   "execution_count": 28,
   "id": "adolescent-economics",
   "metadata": {},
   "outputs": [],
   "source": [
    "x = X_train[0].tolist()"
   ]
  },
  {
   "cell_type": "code",
   "execution_count": 29,
   "id": "looking-payment",
   "metadata": {},
   "outputs": [
    {
     "name": "stdout",
     "output_type": "stream",
     "text": [
      "아 더빙.. 진짜 짜증나네요 목소리 ⁇  ⁇  ⁇  ⁇  ⁇  ⁇  ⁇  ⁇  ⁇  ⁇  ⁇  ⁇  ⁇ \n"
     ]
    }
   ],
   "source": [
    "print(s.DecodeIds(x))"
   ]
  },
  {
   "cell_type": "markdown",
   "id": "black-comfort",
   "metadata": {},
   "source": [
    "## 5) 최종 데이터셋 확인"
   ]
  },
  {
   "cell_type": "code",
   "execution_count": 16,
   "id": "regular-armor",
   "metadata": {},
   "outputs": [],
   "source": [
    "Y_train = np.array(list(train_data['label']))\n",
    "Y_test =  np.array(list(test_data['label']))"
   ]
  },
  {
   "cell_type": "code",
   "execution_count": 17,
   "id": "lyric-solution",
   "metadata": {},
   "outputs": [
    {
     "data": {
      "text/plain": [
       "(146182, 49157, 146182, 49157)"
      ]
     },
     "execution_count": 17,
     "metadata": {},
     "output_type": "execute_result"
    }
   ],
   "source": [
    "len(X_train), len(X_test), len(Y_train), len(Y_test)"
   ]
  },
  {
   "cell_type": "markdown",
   "id": "tested-shock",
   "metadata": {},
   "source": [
    "## 6) LSTM 모델 설계"
   ]
  },
  {
   "cell_type": "code",
   "execution_count": 29,
   "id": "played-emission",
   "metadata": {},
   "outputs": [],
   "source": [
    "#  LSTM으로 학습\n",
    "model = keras.Sequential([\n",
    "    keras.layers.Embedding(8000, 100),# (Size of the vocabulary, Dimension of the dense embedding)\n",
    "    keras.layers.LSTM(128, return_sequences=True),\n",
    "    keras.layers.LSTM(128),\n",
    "    keras.layers.Dense(512, activation='relu'),\n",
    "    keras.layers.Dense(1, activation='sigmoid')\n",
    "])\n",
    "\n",
    "early_stopping = keras.callbacks.EarlyStopping(monitor='val_loss', mode='min', verbose=1, patience=10)\n",
    "model_checkpoint = keras.callbacks.ModelCheckpoint('best_model.h5', monitor='val_acc', mode='max', verbose=1, save_best_only=True)\n",
    "\n",
    "# model compile\n",
    "model.compile(optimizer='adam', loss='binary_crossentropy', metrics=['acc'])"
   ]
  },
  {
   "cell_type": "markdown",
   "id": "official-protein",
   "metadata": {},
   "source": [
    "## 7) 모델 훈련"
   ]
  },
  {
   "cell_type": "code",
   "execution_count": 34,
   "id": "subject-brain",
   "metadata": {},
   "outputs": [
    {
     "name": "stdout",
     "output_type": "stream",
     "text": [
      "Epoch 1/100\n",
      "3655/3655 [==============================] - ETA: 0s - loss: 0.4012 - acc: 0.8166\n",
      "Epoch 00001: val_acc improved from -inf to 0.84732, saving model to best_model.h5\n",
      "3655/3655 [==============================] - 39s 11ms/step - loss: 0.4012 - acc: 0.8166 - val_loss: 0.3533 - val_acc: 0.8473\n",
      "Epoch 2/100\n",
      "3654/3655 [============================>.] - ETA: 0s - loss: 0.3142 - acc: 0.8626\n",
      "Epoch 00002: val_acc improved from 0.84732 to 0.84930, saving model to best_model.h5\n",
      "3655/3655 [==============================] - 38s 10ms/step - loss: 0.3142 - acc: 0.8626 - val_loss: 0.3389 - val_acc: 0.8493\n",
      "Epoch 3/100\n",
      "3651/3655 [============================>.] - ETA: 0s - loss: 0.2691 - acc: 0.8857\n",
      "Epoch 00003: val_acc did not improve from 0.84930\n",
      "3655/3655 [==============================] - 36s 10ms/step - loss: 0.2691 - acc: 0.8857 - val_loss: 0.3466 - val_acc: 0.8486\n",
      "Epoch 4/100\n",
      "3652/3655 [============================>.] - ETA: 0s - loss: 0.2257 - acc: 0.9061\n",
      "Epoch 00004: val_acc did not improve from 0.84930\n",
      "3655/3655 [==============================] - 38s 10ms/step - loss: 0.2257 - acc: 0.9061 - val_loss: 0.3819 - val_acc: 0.8418\n",
      "Epoch 5/100\n",
      "3652/3655 [============================>.] - ETA: 0s - loss: 0.1826 - acc: 0.9272\n",
      "Epoch 00005: val_acc did not improve from 0.84930\n",
      "3655/3655 [==============================] - 40s 11ms/step - loss: 0.1826 - acc: 0.9272 - val_loss: 0.4235 - val_acc: 0.8353\n",
      "Epoch 6/100\n",
      "3650/3655 [============================>.] - ETA: 0s - loss: 0.1431 - acc: 0.9451\n",
      "Epoch 00006: val_acc did not improve from 0.84930\n",
      "3655/3655 [==============================] - 38s 10ms/step - loss: 0.1431 - acc: 0.9451 - val_loss: 0.5224 - val_acc: 0.8298\n",
      "Epoch 7/100\n",
      "3650/3655 [============================>.] - ETA: 0s - loss: 0.1088 - acc: 0.9594\n",
      "Epoch 00007: val_acc did not improve from 0.84930\n",
      "3655/3655 [==============================] - 38s 10ms/step - loss: 0.1088 - acc: 0.9594 - val_loss: 0.5805 - val_acc: 0.8310\n",
      "Epoch 8/100\n",
      "3652/3655 [============================>.] - ETA: 0s - loss: 0.0838 - acc: 0.9689\n",
      "Epoch 00008: val_acc did not improve from 0.84930\n",
      "3655/3655 [==============================] - 38s 10ms/step - loss: 0.0838 - acc: 0.9689 - val_loss: 0.6857 - val_acc: 0.8276\n",
      "Epoch 9/100\n",
      "3653/3655 [============================>.] - ETA: 0s - loss: 0.0655 - acc: 0.9756\n",
      "Epoch 00009: val_acc did not improve from 0.84930\n",
      "3655/3655 [==============================] - 38s 10ms/step - loss: 0.0655 - acc: 0.9756 - val_loss: 0.7819 - val_acc: 0.8296\n",
      "Epoch 10/100\n",
      "3651/3655 [============================>.] - ETA: 0s - loss: 0.0497 - acc: 0.9816\n",
      "Epoch 00010: val_acc did not improve from 0.84930\n",
      "3655/3655 [==============================] - 39s 11ms/step - loss: 0.0497 - acc: 0.9816 - val_loss: 0.8459 - val_acc: 0.8253\n",
      "Epoch 11/100\n",
      "3652/3655 [============================>.] - ETA: 0s - loss: 0.0396 - acc: 0.9858\n",
      "Epoch 00011: val_acc did not improve from 0.84930\n",
      "3655/3655 [==============================] - 38s 10ms/step - loss: 0.0396 - acc: 0.9858 - val_loss: 0.8797 - val_acc: 0.8215\n",
      "Epoch 12/100\n",
      "3650/3655 [============================>.] - ETA: 0s - loss: 0.0316 - acc: 0.9886\n",
      "Epoch 00012: val_acc did not improve from 0.84930\n",
      "3655/3655 [==============================] - 37s 10ms/step - loss: 0.0316 - acc: 0.9887 - val_loss: 1.0539 - val_acc: 0.8234\n",
      "Epoch 00012: early stopping\n"
     ]
    }
   ],
   "source": [
    "history = model.fit(X_train, Y_train, epochs=100, callbacks=[early_stopping, model_checkpoint], \n",
    "                   batch_size=32 ,validation_split=0.2\n",
    "                   )"
   ]
  },
  {
   "cell_type": "markdown",
   "id": "objective-effort",
   "metadata": {},
   "source": [
    "## 8) 훈련결과 시각화"
   ]
  },
  {
   "cell_type": "code",
   "execution_count": 36,
   "id": "blank-recruitment",
   "metadata": {},
   "outputs": [],
   "source": [
    "history_dict = history.history"
   ]
  },
  {
   "cell_type": "code",
   "execution_count": 37,
   "id": "european-concern",
   "metadata": {},
   "outputs": [
    {
     "data": {
      "image/png": "[encoded data removed]",
      "text/plain": [
       "<Figure size 432x288 with 1 Axes>"
      ]
     },
     "metadata": {},
     "output_type": "display_data"
    }
   ],
   "source": [
    "loss = history_dict['loss']\n",
    "val_loss = history_dict['val_loss']\n",
    "epochs = range(1, len(loss)+1)\n",
    "\n",
    "plt.plot(epochs ,loss, label='Training loss')\n",
    "plt.plot(epochs ,val_loss,label='Validation loss')\n",
    "plt.title('Training and validation loss')\n",
    "plt.xlabel('Epochs')\n",
    "plt.ylabel('Loss')\n",
    "plt.legend()\n",
    "plt.show()"
   ]
  },
  {
   "cell_type": "markdown",
   "id": "increasing-latest",
   "metadata": {},
   "source": [
    "## 9) 모델 테스트"
   ]
  },
  {
   "cell_type": "code",
   "execution_count": 42,
   "id": "literary-antigua",
   "metadata": {},
   "outputs": [
    {
     "name": "stdout",
     "output_type": "stream",
     "text": [
      "1537/1537 [==============================] - 5s 4ms/step - loss: 0.3441 - acc: 0.8477\n",
      "\n",
      " 테스트 정확도: 0.8477\n"
     ]
    }
   ],
   "source": [
    "loaded_model = load_model('best_model.h5')\n",
    "print(\"\\n 테스트 정확도: %.4f\" % (loaded_model.evaluate(X_test, Y_test)[1]))"
   ]
  },
  {
   "cell_type": "code",
   "execution_count": null,
   "id": "enormous-reporter",
   "metadata": {},
   "outputs": [],
   "source": []
  },
  {
   "cell_type": "markdown",
   "id": "respected-syria",
   "metadata": {},
   "source": [
    "# 2. Sentence Piece-BPE 로 토크나이즈 후 재시도"
   ]
  },
  {
   "cell_type": "code",
   "execution_count": 32,
   "id": "jewish-rates",
   "metadata": {},
   "outputs": [],
   "source": [
    "vocab_size = 8000\n",
    "\n",
    "review_file = os.getenv('HOME')+'/mini_projects/_G-01_tokenize/movie_review.txt'\n",
    "\n",
    "with open(review_file, 'w') as f:\n",
    "    for row in train_data['document']: \n",
    "        f.write(str(row) + '\\n')\n",
    "\n",
    "spm.SentencePieceTrainer.Train(\n",
    "    '--input={} --model_prefix=movie_review_bpe --vocab_size={} --model_type=bpe'.format(review_file, vocab_size)    \n",
    ")\n",
    "#위 Train에서  --model_type=unigram이 디폴트 적용되어 있습니다. --model_type =bpe 로 옵션을 주어 변경할 수 있습니다.\n",
    "\n",
    "s = spm.SentencePieceProcessor()\n",
    "s.Load('movie_review_bpe.model')\n",
    "\n",
    "def sp_tokenize(s, train_corpus, test_corpus):\n",
    "\n",
    "    train_tensor = []\n",
    "    test_tensor = []\n",
    "\n",
    "    for sen in train_corpus:\n",
    "        train_tensor.append(s.EncodeAsIds(sen))\n",
    "        \n",
    "    for sen in test_corpus:\n",
    "        test_tensor.append(s.EncodeAsIds(sen))\n",
    "\n",
    "    with open(\"./movie_review.vocab\", 'r') as f:\n",
    "        vocab = f.readlines()\n",
    "\n",
    "    word_index = {}\n",
    "    index_word = {}\n",
    "\n",
    "    for idx, line in enumerate(vocab):\n",
    "        word = line.split(\"\\t\")[0]\n",
    "\n",
    "        word_index.update({idx:word})\n",
    "        index_word.update({word:idx})\n",
    "\n",
    "    #tensor = tf.keras.preprocessing.sequence.pad_sequences(tensor, padding='post')\n",
    "\n",
    "    return train_tensor, test_tensor, word_index, index_word\n",
    "\n",
    "train_tensor, test_tensor, word_index, index_word = sp_tokenize(s, train_data['document'], test_data['document'])"
   ]
  },
  {
   "cell_type": "code",
   "execution_count": 33,
   "id": "pharmaceutical-saskatchewan",
   "metadata": {},
   "outputs": [
    {
     "name": "stdout",
     "output_type": "stream",
     "text": [
      "훈련셋 문장의 최단 길이: 1\n",
      "훈련셋 문장의 최장 길이: 130\n",
      "훈련셋 문장의 평균 길이: 17\n"
     ]
    },
    {
     "data": {
      "image/png": "[encoded data removed]",
      "text/plain": [
       "<Figure size 432x288 with 1 Axes>"
      ]
     },
     "metadata": {},
     "output_type": "display_data"
    }
   ],
   "source": [
    "min_len = 999\n",
    "max_len = 0\n",
    "sum_len = 0\n",
    "\n",
    "for sen in train_tensor:\n",
    "    length = len(sen)\n",
    "    if min_len > length: min_len = length\n",
    "    if max_len < length: max_len = length\n",
    "    sum_len += length\n",
    "\n",
    "print(\"훈련셋 문장의 최단 길이:\", min_len)\n",
    "print(\"훈련셋 문장의 최장 길이:\", max_len)\n",
    "print(\"훈련셋 문장의 평균 길이:\", sum_len // len(train_tensor))\n",
    "\n",
    "sentence_length = np.zeros((max_len), dtype=np.int)\n",
    "\n",
    "for sen in train_tensor:\n",
    "    sentence_length[len(sen)-1] += 1\n",
    "\n",
    "plt.bar(range(max_len), sentence_length, width=1.0)\n",
    "plt.title(\"trainset sentence length distribution\")\n",
    "plt.show()"
   ]
  },
  {
   "cell_type": "code",
   "execution_count": 34,
   "id": "configured-appointment",
   "metadata": {},
   "outputs": [
    {
     "name": "stdout",
     "output_type": "stream",
     "text": [
      "테스트셋 문장의 최단 길이: 1\n",
      "테스트셋 문장의 최장 길이: 117\n",
      "테스트셋 문장의 평균 길이: 16\n"
     ]
    },
    {
     "data": {
      "image/png": "[encoded data removed]",
      "text/plain": [
       "<Figure size 432x288 with 1 Axes>"
      ]
     },
     "metadata": {},
     "output_type": "display_data"
    }
   ],
   "source": [
    "min_len = 999\n",
    "max_len = 0\n",
    "sum_len = 0\n",
    "\n",
    "for sen in test_tensor:\n",
    "    length = len(sen)\n",
    "    if min_len > length: min_len = length\n",
    "    if max_len < length: max_len = length\n",
    "    sum_len += length\n",
    "\n",
    "print(\"테스트셋 문장의 최단 길이:\", min_len)\n",
    "print(\"테스트셋 문장의 최장 길이:\", max_len)\n",
    "print(\"테스트셋 문장의 평균 길이:\", sum_len // len(test_tensor))\n",
    "\n",
    "sentence_length = np.zeros((max_len), dtype=np.int)\n",
    "\n",
    "for sen in test_tensor:\n",
    "    sentence_length[len(sen)-1] += 1\n",
    "\n",
    "plt.bar(range(max_len), sentence_length, width=1.0)\n",
    "plt.title(\"testset sentence length distribution\")\n",
    "plt.show()"
   ]
  },
  {
   "cell_type": "code",
   "execution_count": 35,
   "id": "changed-orlando",
   "metadata": {},
   "outputs": [],
   "source": [
    "maxlen = 20\n",
    "X_train = tf.keras.preprocessing.sequence.pad_sequences(train_tensor, padding='post', maxlen = maxlen)\n",
    "X_test = tf.keras.preprocessing.sequence.pad_sequences(test_tensor, padding='post', maxlen = maxlen)"
   ]
  },
  {
   "cell_type": "code",
   "execution_count": 38,
   "id": "diverse-television",
   "metadata": {},
   "outputs": [],
   "source": [
    "Y_train = np.array(list(train_data['label']))\n",
    "Y_test =  np.array(list(test_data['label']))"
   ]
  },
  {
   "cell_type": "code",
   "execution_count": 36,
   "id": "prepared-knife",
   "metadata": {},
   "outputs": [],
   "source": [
    "#  LSTM으로 학습\n",
    "model = keras.Sequential([\n",
    "    keras.layers.Embedding(8000, 100),\n",
    "    keras.layers.LSTM(128, return_sequences=True),\n",
    "    keras.layers.LSTM(128),\n",
    "    keras.layers.Dense(512, activation='relu'),\n",
    "    keras.layers.Dense(1, activation='sigmoid')\n",
    "])\n",
    "\n",
    "early_stopping = keras.callbacks.EarlyStopping(monitor='val_loss', mode='min', verbose=1, patience=10)\n",
    "model_checkpoint = keras.callbacks.ModelCheckpoint('best_model.h5', monitor='val_acc', mode='max', verbose=1, save_best_only=True)\n",
    "\n",
    "# model compile\n",
    "model.compile(optimizer='adam', loss='binary_crossentropy', metrics=['acc'])"
   ]
  },
  {
   "cell_type": "code",
   "execution_count": 39,
   "id": "corporate-madonna",
   "metadata": {},
   "outputs": [
    {
     "name": "stdout",
     "output_type": "stream",
     "text": [
      "Epoch 1/100\n",
      "3655/3655 [==============================] - ETA: 0s - loss: 0.4000 - acc: 0.8172\n",
      "Epoch 00001: val_acc improved from -inf to 0.84800, saving model to best_model.h5\n",
      "3655/3655 [==============================] - 39s 11ms/step - loss: 0.4000 - acc: 0.8172 - val_loss: 0.3458 - val_acc: 0.8480\n",
      "Epoch 2/100\n",
      "3651/3655 [============================>.] - ETA: 0s - loss: 0.3127 - acc: 0.8638\n",
      "Epoch 00002: val_acc improved from 0.84800 to 0.85607, saving model to best_model.h5\n",
      "3655/3655 [==============================] - 38s 10ms/step - loss: 0.3127 - acc: 0.8638 - val_loss: 0.3317 - val_acc: 0.8561\n",
      "Epoch 3/100\n",
      "3653/3655 [============================>.] - ETA: 0s - loss: 0.2685 - acc: 0.8861\n",
      "Epoch 00003: val_acc did not improve from 0.85607\n",
      "3655/3655 [==============================] - 38s 10ms/step - loss: 0.2685 - acc: 0.8861 - val_loss: 0.3429 - val_acc: 0.8477\n",
      "Epoch 4/100\n",
      "3652/3655 [============================>.] - ETA: 0s - loss: 0.2235 - acc: 0.9083\n",
      "Epoch 00004: val_acc did not improve from 0.85607\n",
      "3655/3655 [==============================] - 38s 11ms/step - loss: 0.2235 - acc: 0.9083 - val_loss: 0.3612 - val_acc: 0.8480\n",
      "Epoch 5/100\n",
      "3653/3655 [============================>.] - ETA: 0s - loss: 0.1793 - acc: 0.9288\n",
      "Epoch 00005: val_acc did not improve from 0.85607\n",
      "3655/3655 [==============================] - 39s 11ms/step - loss: 0.1793 - acc: 0.9288 - val_loss: 0.4288 - val_acc: 0.8346\n",
      "Epoch 6/100\n",
      "3654/3655 [============================>.] - ETA: 0s - loss: 0.1389 - acc: 0.9469\n",
      "Epoch 00006: val_acc did not improve from 0.85607\n",
      "3655/3655 [==============================] - 40s 11ms/step - loss: 0.1389 - acc: 0.9469 - val_loss: 0.4992 - val_acc: 0.8347\n",
      "Epoch 7/100\n",
      "3650/3655 [============================>.] - ETA: 0s - loss: 0.1047 - acc: 0.9614\n",
      "Epoch 00007: val_acc did not improve from 0.85607\n",
      "3655/3655 [==============================] - 38s 10ms/step - loss: 0.1047 - acc: 0.9614 - val_loss: 0.5474 - val_acc: 0.8307\n",
      "Epoch 8/100\n",
      "3654/3655 [============================>.] - ETA: 0s - loss: 0.0808 - acc: 0.9706\n",
      "Epoch 00008: val_acc did not improve from 0.85607\n",
      "3655/3655 [==============================] - 37s 10ms/step - loss: 0.0808 - acc: 0.9706 - val_loss: 0.6454 - val_acc: 0.8267\n",
      "Epoch 9/100\n",
      "3655/3655 [==============================] - ETA: 0s - loss: 0.0620 - acc: 0.9780\n",
      "Epoch 00009: val_acc did not improve from 0.85607\n",
      "3655/3655 [==============================] - 39s 11ms/step - loss: 0.0620 - acc: 0.9780 - val_loss: 0.7413 - val_acc: 0.8308\n",
      "Epoch 10/100\n",
      "3654/3655 [============================>.] - ETA: 0s - loss: 0.0496 - acc: 0.9823\n",
      "Epoch 00010: val_acc did not improve from 0.85607\n",
      "3655/3655 [==============================] - 37s 10ms/step - loss: 0.0496 - acc: 0.9823 - val_loss: 0.8121 - val_acc: 0.8237\n",
      "Epoch 11/100\n",
      "3653/3655 [============================>.] - ETA: 0s - loss: 0.0389 - acc: 0.9867\n",
      "Epoch 00011: val_acc did not improve from 0.85607\n",
      "3655/3655 [==============================] - 36s 10ms/step - loss: 0.0389 - acc: 0.9867 - val_loss: 0.9765 - val_acc: 0.8293\n",
      "Epoch 12/100\n",
      "3652/3655 [============================>.] - ETA: 0s - loss: 0.0310 - acc: 0.9889\n",
      "Epoch 00012: val_acc did not improve from 0.85607\n",
      "3655/3655 [==============================] - 39s 11ms/step - loss: 0.0310 - acc: 0.9889 - val_loss: 0.9386 - val_acc: 0.8249\n",
      "Epoch 00012: early stopping\n"
     ]
    }
   ],
   "source": [
    "history = model.fit(X_train, Y_train, epochs=100, callbacks=[early_stopping, model_checkpoint], \n",
    "                   batch_size=32 ,validation_split=0.2\n",
    "                   )"
   ]
  },
  {
   "cell_type": "code",
   "execution_count": 40,
   "id": "crucial-mortgage",
   "metadata": {},
   "outputs": [],
   "source": [
    "history_dict = history.history"
   ]
  },
  {
   "cell_type": "code",
   "execution_count": 41,
   "id": "altered-partner",
   "metadata": {},
   "outputs": [
    {
     "data": {
      "image/png": "[encoded data removed]",
      "text/plain": [
       "<Figure size 432x288 with 1 Axes>"
      ]
     },
     "metadata": {},
     "output_type": "display_data"
    }
   ],
   "source": [
    "loss = history_dict['loss']\n",
    "val_loss = history_dict['val_loss']\n",
    "epochs = range(1, len(loss)+1)\n",
    "\n",
    "plt.plot(epochs ,loss, label='Training loss')\n",
    "plt.plot(epochs ,val_loss,label='Validation loss')\n",
    "plt.title('Training and validation loss')\n",
    "plt.xlabel('Epochs')\n",
    "plt.ylabel('Loss')\n",
    "plt.legend()\n",
    "plt.show()"
   ]
  },
  {
   "cell_type": "code",
   "execution_count": 42,
   "id": "deadly-hacker",
   "metadata": {},
   "outputs": [
    {
     "name": "stdout",
     "output_type": "stream",
     "text": [
      "1537/1537 [==============================] - 5s 4ms/step - loss: 0.3379 - acc: 0.8520\n",
      "\n",
      " 테스트 정확도: 0.8520\n"
     ]
    }
   ],
   "source": [
    "loaded_model = load_model('best_model.h5')\n",
    "print(\"\\n 테스트 정확도: %.4f\" % (loaded_model.evaluate(X_test, Y_test)[1]))"
   ]
  },
  {
   "cell_type": "markdown",
   "id": "armed-compilation",
   "metadata": {},
   "source": [
    "## 결과 : Unigram보다 BPE에서 1% 더 향상, 별 차이 없음"
   ]
  },
  {
   "cell_type": "code",
   "execution_count": null,
   "id": "copyrighted-chosen",
   "metadata": {},
   "outputs": [],
   "source": []
  },
  {
   "cell_type": "markdown",
   "id": "aggressive-album",
   "metadata": {},
   "source": [
    "# 3. Mecab 기반 토크나이즈 후 재시도"
   ]
  },
  {
   "cell_type": "code",
   "execution_count": 8,
   "id": "compatible-white",
   "metadata": {},
   "outputs": [],
   "source": [
    "mecab = Mecab()\n",
    "\n",
    "def mecab_split(sentence):\n",
    "    return mecab.morphs(sentence)\n",
    "\n",
    "train_mecab = []\n",
    "test_mecab = []\n",
    "\n",
    "for sen in train_data['document']:\n",
    "    train_mecab.append(mecab_split(sen))\n",
    "    \n",
    "for sen in test_data['document']:\n",
    "    test_mecab.append(mecab_split(sen))"
   ]
  },
  {
   "cell_type": "code",
   "execution_count": 22,
   "id": "nearby-infrastructure",
   "metadata": {},
   "outputs": [
    {
     "data": {
      "text/plain": [
       "['아', '더', '빙', '.', '.', '진짜', '짜증', '나', '네요', '목소리']"
      ]
     },
     "execution_count": 22,
     "metadata": {},
     "output_type": "execute_result"
    }
   ],
   "source": [
    "train_mecab[0]"
   ]
  },
  {
   "cell_type": "code",
   "execution_count": 37,
   "id": "elementary-heath",
   "metadata": {},
   "outputs": [
    {
     "data": {
      "text/plain": [
       "(146182, 49157, 53450, 32142)"
      ]
     },
     "execution_count": 37,
     "metadata": {},
     "output_type": "execute_result"
    }
   ],
   "source": [
    "# def tokenize(train_mecab, test_mecab): \n",
    "#     train_tokenizer = tf.keras.preprocessing.text.Tokenizer(num_words=8000)\n",
    "#     train_tokenizer.fit_on_texts(train_mecab)   \n",
    "#     train_tensor = train_tokenizer.texts_to_sequences(train_mecab) \n",
    "#     # tensor = tf.keras.preprocessing.sequence.pad_sequences(tensor, padding='post')\n",
    "\n",
    "#     test_tokenizer = tf.keras.preprocessing.text.Tokenizer(num_words=8000)\n",
    "#     test_tokenizer.fit_on_texts(test_mecab)   \n",
    "#     test_tensor = test_tokenizer.texts_to_sequences(test_mecab)\n",
    "\n",
    "#     return train_tensor, test_tensor, train_tokenizer, test_tokenizer\n",
    "\n",
    "# train_tensor, test_tensor, train_tokenizer, test_tokenizer = tokenize(train_mecab, test_mecab)\n",
    "\n",
    "# len(train_tensor), len(test_tensor), len(train_tokenizer.word_index), len(test_tokenizer.word_index)"
   ]
  },
  {
   "cell_type": "markdown",
   "id": "boolean-christmas",
   "metadata": {},
   "source": [
    "# 의문   \n",
    "## 1. 위에 토크나이즈 함수를 쓰면 왜 word-index vocab 크기가 8000이 안 되는 거지?   \n",
    "## 2. 위에 토크나이즈 함수를 쓰면 왜 테스트 어큐러시가 50%대 밖에 안나오는 거지?   "
   ]
  },
  {
   "cell_type": "code",
   "execution_count": 12,
   "id": "impaired-break",
   "metadata": {},
   "outputs": [
    {
     "data": {
      "text/plain": [
       "(146182, 49157, 8000)"
      ]
     },
     "execution_count": 12,
     "metadata": {},
     "output_type": "execute_result"
    }
   ],
   "source": [
    "words = np.concatenate(train_mecab).tolist()\n",
    "counter = Counter(words)\n",
    "counter = counter.most_common(7996)\n",
    "vocab = ['<PAD>', '<BOS>', '<UNK>', '<UNUSED>'] + [key for key, _ in counter]\n",
    "word_to_index = {word:index for index, word in enumerate(vocab)}\n",
    "\n",
    "def wordlist_to_indexlist(wordlist):\n",
    "    return [word_to_index[word] if word in word_to_index else word_to_index['<UNK>'] for word in wordlist]\n",
    "\n",
    "train_tensor = list(map(wordlist_to_indexlist, train_mecab))\n",
    "test_tensor = list(map(wordlist_to_indexlist, test_mecab))\n",
    "\n",
    "len(train_tensor), len(test_tensor), len(word_to_index)"
   ]
  },
  {
   "cell_type": "markdown",
   "id": "catholic-register",
   "metadata": {},
   "source": [
    "# 위 코드가 그 위에 있는 토크나이즈 함수랑 뭐가 다른 거지?"
   ]
  },
  {
   "cell_type": "code",
   "execution_count": 13,
   "id": "headed-mainstream",
   "metadata": {},
   "outputs": [
    {
     "name": "stdout",
     "output_type": "stream",
     "text": [
      "훈련셋 문장의 최단 길이: 1\n",
      "훈련셋 문장의 최장 길이: 116\n",
      "훈련셋 문장의 평균 길이: 18\n"
     ]
    },
    {
     "data": {
      "image/png": "[encoded data removed]",
      "text/plain": [
       "<Figure size 432x288 with 1 Axes>"
      ]
     },
     "metadata": {
      "needs_background": "light"
     },
     "output_type": "display_data"
    }
   ],
   "source": [
    "min_len = 999\n",
    "max_len = 0\n",
    "sum_len = 0\n",
    "\n",
    "for sen in train_tensor:\n",
    "    length = len(sen)\n",
    "    if min_len > length: min_len = length\n",
    "    if max_len < length: max_len = length\n",
    "    sum_len += length\n",
    "\n",
    "print(\"훈련셋 문장의 최단 길이:\", min_len)\n",
    "print(\"훈련셋 문장의 최장 길이:\", max_len)\n",
    "print(\"훈련셋 문장의 평균 길이:\", sum_len // len(train_tensor))\n",
    "\n",
    "sentence_length = np.zeros((max_len), dtype=np.int)\n",
    "\n",
    "for sen in train_tensor:\n",
    "    sentence_length[len(sen)-1] += 1\n",
    "\n",
    "plt.bar(range(max_len), sentence_length, width=1.0)\n",
    "plt.title(\"trainset sentence length distribution\")\n",
    "plt.show()"
   ]
  },
  {
   "cell_type": "code",
   "execution_count": 14,
   "id": "interim-notice",
   "metadata": {},
   "outputs": [
    {
     "name": "stdout",
     "output_type": "stream",
     "text": [
      "테스트셋 문장의 최단 길이: 1\n",
      "테스트셋 문장의 최장 길이: 105\n",
      "테스트셋 문장의 평균 길이: 18\n"
     ]
    },
    {
     "data": {
      "image/png": "[encoded data removed]",
      "text/plain": [
       "<Figure size 432x288 with 1 Axes>"
      ]
     },
     "metadata": {
      "needs_background": "light"
     },
     "output_type": "display_data"
    }
   ],
   "source": [
    "min_len = 999\n",
    "max_len = 0\n",
    "sum_len = 0\n",
    "\n",
    "for sen in test_tensor:\n",
    "    length = len(sen)\n",
    "    if min_len > length: min_len = length\n",
    "    if max_len < length: max_len = length\n",
    "    sum_len += length\n",
    "\n",
    "print(\"테스트셋 문장의 최단 길이:\", min_len)\n",
    "print(\"테스트셋 문장의 최장 길이:\", max_len)\n",
    "print(\"테스트셋 문장의 평균 길이:\", sum_len // len(test_tensor))\n",
    "\n",
    "sentence_length = np.zeros((max_len), dtype=np.int)\n",
    "\n",
    "for sen in test_tensor:\n",
    "    sentence_length[len(sen)-1] += 1\n",
    "\n",
    "plt.bar(range(max_len), sentence_length, width=1.0)\n",
    "plt.title(\"testset sentence length distribution\")\n",
    "plt.show()"
   ]
  },
  {
   "cell_type": "code",
   "execution_count": 15,
   "id": "civil-encyclopedia",
   "metadata": {},
   "outputs": [],
   "source": [
    "maxlen = 30\n",
    "X_train = tf.keras.preprocessing.sequence.pad_sequences(train_tensor, padding='post', maxlen = maxlen)\n",
    "X_test = tf.keras.preprocessing.sequence.pad_sequences(test_tensor, padding='post', maxlen = maxlen)"
   ]
  },
  {
   "cell_type": "code",
   "execution_count": 16,
   "id": "variable-logan",
   "metadata": {},
   "outputs": [],
   "source": [
    "Y_train = np.array(list(train_data['label']))\n",
    "Y_test =  np.array(list(test_data['label']))"
   ]
  },
  {
   "cell_type": "code",
   "execution_count": 17,
   "id": "hidden-status",
   "metadata": {},
   "outputs": [],
   "source": [
    "#  LSTM으로 학습\n",
    "model = keras.Sequential([\n",
    "    keras.layers.Embedding(8000, 100), # (Size of the vocabulary, Dimension of the dense embedding)\n",
    "    keras.layers.LSTM(128, return_sequences=True),\n",
    "    keras.layers.LSTM(128),\n",
    "    keras.layers.Dense(512, activation='relu'),\n",
    "    keras.layers.Dense(1, activation='sigmoid')\n",
    "])\n",
    "\n",
    "early_stopping = keras.callbacks.EarlyStopping(monitor='val_loss', mode='min', verbose=1, patience=10)\n",
    "model_checkpoint = keras.callbacks.ModelCheckpoint('best_model.h5', monitor='val_acc', mode='max', verbose=1, save_best_only=True)\n",
    "\n",
    "# model compile\n",
    "model.compile(optimizer='adam', loss='binary_crossentropy', metrics=['acc'])"
   ]
  },
  {
   "cell_type": "code",
   "execution_count": 18,
   "id": "distributed-shakespeare",
   "metadata": {},
   "outputs": [
    {
     "name": "stdout",
     "output_type": "stream",
     "text": [
      "Epoch 1/100\n",
      "3653/3655 [============================>.] - ETA: 0s - loss: 0.3829 - acc: 0.8278\n",
      "Epoch 00001: val_acc improved from -inf to 0.85720, saving model to best_model.h5\n",
      "3655/3655 [==============================] - 41s 11ms/step - loss: 0.3830 - acc: 0.8278 - val_loss: 0.3320 - val_acc: 0.8572\n",
      "Epoch 2/100\n",
      "3653/3655 [============================>.] - ETA: 0s - loss: 0.3013 - acc: 0.8718\n",
      "Epoch 00002: val_acc improved from 0.85720 to 0.86237, saving model to best_model.h5\n",
      "3655/3655 [==============================] - 41s 11ms/step - loss: 0.3013 - acc: 0.8718 - val_loss: 0.3212 - val_acc: 0.8624\n",
      "Epoch 3/100\n",
      "3652/3655 [============================>.] - ETA: 0s - loss: 0.2627 - acc: 0.8908\n",
      "Epoch 00003: val_acc did not improve from 0.86237\n",
      "3655/3655 [==============================] - 41s 11ms/step - loss: 0.2627 - acc: 0.8907 - val_loss: 0.3269 - val_acc: 0.8616\n",
      "Epoch 4/100\n",
      "3653/3655 [============================>.] - ETA: 0s - loss: 0.2296 - acc: 0.9057\n",
      "Epoch 00004: val_acc improved from 0.86237 to 0.86322, saving model to best_model.h5\n",
      "3655/3655 [==============================] - 42s 12ms/step - loss: 0.2296 - acc: 0.9057 - val_loss: 0.3361 - val_acc: 0.8632\n",
      "Epoch 5/100\n",
      "3650/3655 [============================>.] - ETA: 0s - loss: 0.1993 - acc: 0.9194\n",
      "Epoch 00005: val_acc did not improve from 0.86322\n",
      "3655/3655 [==============================] - 42s 12ms/step - loss: 0.1993 - acc: 0.9194 - val_loss: 0.3548 - val_acc: 0.8581\n",
      "Epoch 6/100\n",
      "3654/3655 [============================>.] - ETA: 0s - loss: 0.1715 - acc: 0.9319\n",
      "Epoch 00006: val_acc did not improve from 0.86322\n",
      "3655/3655 [==============================] - 41s 11ms/step - loss: 0.1716 - acc: 0.9318 - val_loss: 0.4036 - val_acc: 0.8571\n",
      "Epoch 7/100\n",
      "3652/3655 [============================>.] - ETA: 0s - loss: 0.1482 - acc: 0.9416\n",
      "Epoch 00007: val_acc did not improve from 0.86322\n",
      "3655/3655 [==============================] - 42s 12ms/step - loss: 0.1482 - acc: 0.9416 - val_loss: 0.4622 - val_acc: 0.8508\n",
      "Epoch 8/100\n",
      "3654/3655 [============================>.] - ETA: 0s - loss: 0.1262 - acc: 0.9503\n",
      "Epoch 00008: val_acc did not improve from 0.86322\n",
      "3655/3655 [==============================] - 42s 12ms/step - loss: 0.1262 - acc: 0.9503 - val_loss: 0.5338 - val_acc: 0.8492\n",
      "Epoch 9/100\n",
      "3655/3655 [==============================] - ETA: 0s - loss: 0.1090 - acc: 0.9577\n",
      "Epoch 00009: val_acc did not improve from 0.86322\n",
      "3655/3655 [==============================] - 43s 12ms/step - loss: 0.1090 - acc: 0.9577 - val_loss: 0.5705 - val_acc: 0.8494\n",
      "Epoch 10/100\n",
      "3650/3655 [============================>.] - ETA: 0s - loss: 0.0940 - acc: 0.9634\n",
      "Epoch 00010: val_acc did not improve from 0.86322\n",
      "3655/3655 [==============================] - 42s 12ms/step - loss: 0.0940 - acc: 0.9633 - val_loss: 0.5752 - val_acc: 0.8454\n",
      "Epoch 11/100\n",
      "3651/3655 [============================>.] - ETA: 0s - loss: 0.0807 - acc: 0.9687\n",
      "Epoch 00011: val_acc did not improve from 0.86322\n",
      "3655/3655 [==============================] - 42s 12ms/step - loss: 0.0807 - acc: 0.9687 - val_loss: 0.6460 - val_acc: 0.8473\n",
      "Epoch 12/100\n",
      "3654/3655 [============================>.] - ETA: 0s - loss: 0.0704 - acc: 0.9725\n",
      "Epoch 00012: val_acc did not improve from 0.86322\n",
      "3655/3655 [==============================] - 41s 11ms/step - loss: 0.0704 - acc: 0.9724 - val_loss: 0.6518 - val_acc: 0.8452\n",
      "Epoch 00012: early stopping\n"
     ]
    }
   ],
   "source": [
    "history = model.fit(X_train, Y_train, epochs=100, callbacks=[early_stopping, model_checkpoint], \n",
    "                   batch_size=32 ,validation_split=0.2\n",
    "                   )"
   ]
  },
  {
   "cell_type": "code",
   "execution_count": 19,
   "id": "bright-colors",
   "metadata": {},
   "outputs": [],
   "source": [
    "history_dict = history.history"
   ]
  },
  {
   "cell_type": "code",
   "execution_count": 20,
   "id": "sharing-yahoo",
   "metadata": {},
   "outputs": [
    {
     "data": {
      "image/png": "[encoded data removed]",
      "text/plain": [
       "<Figure size 432x288 with 1 Axes>"
      ]
     },
     "metadata": {
      "needs_background": "light"
     },
     "output_type": "display_data"
    }
   ],
   "source": [
    "loss = history_dict['loss']\n",
    "val_loss = history_dict['val_loss']\n",
    "epochs = range(1, len(loss)+1)\n",
    "\n",
    "plt.plot(epochs ,loss, label='Training loss')\n",
    "plt.plot(epochs ,val_loss,label='Validation loss')\n",
    "plt.title('Training and validation loss')\n",
    "plt.xlabel('Epochs')\n",
    "plt.ylabel('Loss')\n",
    "plt.legend()\n",
    "plt.show()"
   ]
  },
  {
   "cell_type": "code",
   "execution_count": 21,
   "id": "functional-hacker",
   "metadata": {},
   "outputs": [
    {
     "name": "stdout",
     "output_type": "stream",
     "text": [
      "1537/1537 [==============================] - 6s 4ms/step - loss: 0.3383 - acc: 0.8586\n",
      "\n",
      " 테스트 정확도: 0.8586\n"
     ]
    }
   ],
   "source": [
    "loaded_model = load_model('best_model.h5')\n",
    "print(\"\\n 테스트 정확도: %.4f\" % (loaded_model.evaluate(X_test, Y_test)[1]))"
   ]
  },
  {
   "cell_type": "markdown",
   "id": "whole-universal",
   "metadata": {},
   "source": [
    "# 결과   \n",
    "### mecab이 SP보다 1% + a 정도 수준 더 좋다"
   ]
  },
  {
   "cell_type": "markdown",
   "id": "substantial-dubai",
   "metadata": {},
   "source": [
    "# 회고   \n",
    "### 1. SP 토크나이즈만 하고 문장길이는 원래 상태 그대로 둔 후 모델에 돌렸을 때 훈련이 되지 않았다. 왜?   \n",
    "   \n",
    "   \n",
    "### 2. SP 토크나이즈를 하고 다른 토큰 추가 없이 0 패딩 처리만 했는데 모델이 돌아간다. 왜?   \n",
    "   \n",
    "   \n",
    "### 3. 모든 문장을 다 쓰는 대신, 각 문장 길이를 20으로 통일하고 쓰는 건 쉬운데 데이터를 일정 길이 이하, 이상인 문장만 쓰려면, 레이블도 똑같이 날려줘야 한다. 어떻게 해야 되지? 날아가는 경계점을 찾아야 되나?   \n",
    "   \n",
    "   \n",
    "### 4. mecab 토크나이즈 함수를  train_tokenizer = tf.keras.preprocessing.text.Tokenizer(num_words=8000) 이렇게 해 주면 word_index vocab 사이즈가 8000이 안 된다. 대신 모델 훈련은 되는데 test accuracy가 56% 밖에 안 나온다. 왜지? \n"
   ]
  },
  {
   "cell_type": "markdown",
   "id": "promotional-lambda",
   "metadata": {},
   "source": [
    "### keras.layers.Embedding(8000, 100) : 케라스에서 임베딩 레이어를 만들 때 Size of the vocabulary, Dimension of the dense embedding 를 정해줘야 한다."
   ]
  },
  {
   "cell_type": "code",
   "execution_count": null,
   "id": "chief-shape",
   "metadata": {},
   "outputs": [],
   "source": []
  }
 ],
 "metadata": {
  "kernelspec": {
   "display_name": "Python 3",
   "language": "python",
   "name": "python3"
  },
  "language_info": {
   "codemirror_mode": {
    "name": "ipython",
    "version": 3
   },
   "file_extension": ".py",
   "mimetype": "text/x-python",
   "name": "python",
   "nbconvert_exporter": "python",
   "pygments_lexer": "ipython3",
   "version": "3.7.9"
  }
 },
 "nbformat": 4,
 "nbformat_minor": 5
}
