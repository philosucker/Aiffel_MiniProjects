{
 "cells": [
  {
   "cell_type": "code",
   "execution_count": 1,
   "id": "ab5ccc18",
   "metadata": {},
   "outputs": [],
   "source": [
    "import matplotlib as mpl\n",
    "import matplotlib.pyplot as plt\n",
    " \n",
    "%config InlineBackend.figure_format = 'retina'\n",
    " \n",
    "import matplotlib.font_manager as fm\n",
    "fontpath = '/usr/share/fonts/truetype/nanum/NanumBarunGothic.ttf'\n",
    "font = fm.FontProperties(fname=fontpath, size=9)\n",
    "plt.rc('font', family='NanumBarunGothic') \n",
    "mpl.font_manager._rebuild()"
   ]
  },
  {
   "cell_type": "code",
   "execution_count": 2,
   "id": "520179a2",
   "metadata": {},
   "outputs": [
    {
     "name": "stdout",
     "output_type": "stream",
     "text": [
      "2.2.0\n"
     ]
    }
   ],
   "source": [
    "import tensorflow as tf\n",
    "import numpy as np\n",
    "\n",
    "from konlpy.tag import Mecab\n",
    "from nltk.tokenize import word_tokenize\n",
    "\n",
    "from sklearn.model_selection import train_test_split\n",
    "\n",
    "import matplotlib.ticker as ticker\n",
    "import matplotlib.pyplot as plt\n",
    "\n",
    "import time\n",
    "import re\n",
    "import os\n",
    "import io\n",
    "\n",
    "print(tf.__version__)"
   ]
  },
  {
   "cell_type": "markdown",
   "id": "45135ba1",
   "metadata": {},
   "source": [
    "# 1. 데이터 로드 및 확인"
   ]
  },
  {
   "cell_type": "code",
   "execution_count": 3,
   "id": "ac65c066",
   "metadata": {},
   "outputs": [],
   "source": [
    "path_to_file_1 = os.getenv('HOME')+'/mini_projects/_G-04_seq2seq_NMT/korean-english-park.train.ko'\n",
    "path_to_file_2 = os.getenv('HOME')+'/mini_projects/_G-04_seq2seq_NMT/korean-english-park.train.en'"
   ]
  },
  {
   "cell_type": "code",
   "execution_count": 4,
   "id": "e28575b2",
   "metadata": {},
   "outputs": [
    {
     "name": "stdout",
     "output_type": "stream",
     "text": [
      "Train Data Size: 94123\n",
      "Train_raw: ['개인용 컴퓨터 사용의 상당 부분은 \"이것보다 뛰어날 수 있느냐?\"', '모든 광마우스와 마찬가지 로 이 광마우스도 책상 위에 놓는 마우스 패드를 필요로 하지 않는다.', '그러나 이것은 또한 책상도 필요로 하지 않는다.']\n"
     ]
    }
   ],
   "source": [
    "with open(path_to_file_1, \"r\") as f:\n",
    "    train_raw = f.read().splitlines()\n",
    "    \n",
    "print(\"Train Data Size:\", len(train_raw))\n",
    "print(\"Train_raw:\", train_raw[0:3])"
   ]
  },
  {
   "cell_type": "code",
   "execution_count": 5,
   "id": "c66a91d3",
   "metadata": {},
   "outputs": [
    {
     "name": "stdout",
     "output_type": "stream",
     "text": [
      "Target Data Size: 94123\n",
      "Target_raw: ['Much of personal computing is about \"can you top this?\"', 'so a mention a few weeks ago about a rechargeable wireless optical mouse brought in another rechargeable, wireless mouse.', \"Like all optical mice, But it also doesn't need a desk.\"]\n"
     ]
    }
   ],
   "source": [
    "with open(path_to_file_2, \"r\") as f:\n",
    "    target_raw = f.read().splitlines()\n",
    "    \n",
    "print(\"Target Data Size:\", len(target_raw))\n",
    "print(\"Target_raw:\", target_raw[0:3])"
   ]
  },
  {
   "cell_type": "markdown",
   "id": "a069726a",
   "metadata": {},
   "source": [
    "# 2. 데이터 중복 확인 및 제거"
   ]
  },
  {
   "cell_type": "code",
   "execution_count": 6,
   "id": "46fcdd07",
   "metadata": {},
   "outputs": [],
   "source": [
    "cleaned_corpus = set(zip(train_raw,target_raw))"
   ]
  },
  {
   "cell_type": "code",
   "execution_count": 7,
   "id": "79b74eb2",
   "metadata": {},
   "outputs": [
    {
     "data": {
      "text/plain": [
       "78968"
      ]
     },
     "execution_count": 7,
     "metadata": {},
     "output_type": "execute_result"
    }
   ],
   "source": [
    "len(cleaned_corpus)"
   ]
  },
  {
   "cell_type": "code",
   "execution_count": 8,
   "id": "1903a566",
   "metadata": {},
   "outputs": [
    {
     "name": "stdout",
     "output_type": "stream",
     "text": [
      "77591 75598\n"
     ]
    }
   ],
   "source": [
    "q, r = len(set(train_raw)), len(set(target_raw))\n",
    "print(q, r)"
   ]
  },
  {
   "cell_type": "markdown",
   "id": "aa6580d3",
   "metadata": {},
   "source": [
    "### 중복을 제거한 타겟셋 크기에 맞춰서 훈련셋 중복제거"
   ]
  },
  {
   "cell_type": "code",
   "execution_count": 9,
   "id": "2041f8e3",
   "metadata": {},
   "outputs": [
    {
     "name": "stdout",
     "output_type": "stream",
     "text": [
      "75598 75598\n"
     ]
    }
   ],
   "source": [
    "train_dic = {}\n",
    "for i, j in enumerate(train_raw):\n",
    "    train_dic[i]=j\n",
    "    \n",
    "target_dic = {}\n",
    "for i, j in enumerate(target_raw):\n",
    "    target_dic[i]=j\n",
    "    \n",
    "target_unique_dic = {}\n",
    "for i, j in target_dic.items():\n",
    "    if j not in target_unique_dic.values():\n",
    "        target_unique_dic[i] = j \n",
    "        \n",
    "train_unique_dic = {}\n",
    "for i, j in train_dic.items():\n",
    "    if i in target_unique_dic.keys():\n",
    "        train_unique_dic[i] = j \n",
    "\n",
    "print(len(train_unique_dic), len(target_unique_dic))"
   ]
  },
  {
   "cell_type": "markdown",
   "id": "a1121dc0",
   "metadata": {},
   "source": [
    "# 3. 데이터 전처리"
   ]
  },
  {
   "cell_type": "code",
   "execution_count": 10,
   "id": "a36d050b",
   "metadata": {},
   "outputs": [],
   "source": [
    "cleaned_eng_corpus = {}\n",
    "cleaned_kor_corpus = {}\n",
    "mecab = Mecab()\n",
    "\n",
    "def preprocess_sentence(train_unique_dic, target_unique_dic):\n",
    "    \n",
    "    for idx, sentence in target_unique_dic.items():\n",
    "        sentence = re.sub(r\"([?.!,])\", r\" \\1 \", sentence)\n",
    "        sentence = re.sub(r'[\" \"]+', \" \", sentence)\n",
    "        sentence = re.sub(r\"[^a-zA-Z0-9?.!,]+\", \" \", sentence)\n",
    "        sentence = sentence.strip()\n",
    "        sentence_list = sentence.split()\n",
    "        if len(sentence_list) <= 48:\n",
    "            sentence = '<start> ' + sentence\n",
    "            sentence += ' <end>'\n",
    "            sentence = sentence.split()\n",
    "            cleaned_eng_corpus[idx] = sentence\n",
    "    \n",
    "    for idx, sentence in train_unique_dic.items():\n",
    "        sentence = re.sub(r\"([?.!,])\", r\" \\1 \", sentence)\n",
    "        sentence = re.sub(r'[\" \"]+', \" \", sentence)   \n",
    "        sentence = re.sub(r\"[^ㄱ-ㅎ가-힣0-9.,?!]+\", \" \", sentence)\n",
    "        result = mecab.morphs(sentence)\n",
    "        if len(result) <= 50:\n",
    "            cleaned_kor_corpus[idx] = result\n",
    "    \n",
    "    return cleaned_eng_corpus, cleaned_kor_corpus"
   ]
  },
  {
   "cell_type": "code",
   "execution_count": 11,
   "id": "709c4921",
   "metadata": {},
   "outputs": [],
   "source": [
    "cleaned_eng_corpus, cleaned_kor_corpus = preprocess_sentence(train_unique_dic, target_unique_dic)"
   ]
  },
  {
   "cell_type": "code",
   "execution_count": 12,
   "id": "c534cbcd",
   "metadata": {},
   "outputs": [
    {
     "name": "stdout",
     "output_type": "stream",
     "text": [
      "['<start>', 'Gates', ',', 'who', 'opened', 'the', '23rd', 'annual', 'Comdex', 'trade', 'show', ',', 'said', 'there', 'was', 'a', 'negative', 'perception', 'of', 'high', 'tech', 'following', 'the', 'collapse', 'of', 'the', 'tech', 'bubble', 'about', 'two', 'years', 'ago', '.', '<end>'] ['제', '23', '차', '연례', '컴덱스', '박람회', '의', '개회사', '를', '한', '케이츠', '는', '2', '년', '여전', '기술', '산업', '의', '거품', '이', '붕괴', '된', '이후', '에', '첨단', '기술', '에', '대해', '부정', '적', '인', '인식', '이', '있', '다고', '말', '했', '다', '.']\n"
     ]
    }
   ],
   "source": [
    "print(cleaned_eng_corpus[100], cleaned_kor_corpus[100])"
   ]
  },
  {
   "cell_type": "code",
   "execution_count": 13,
   "id": "b18b5084",
   "metadata": {},
   "outputs": [
    {
     "name": "stdout",
     "output_type": "stream",
     "text": [
      "73415 71573\n"
     ]
    }
   ],
   "source": [
    "print(len(cleaned_eng_corpus), len(cleaned_kor_corpus))"
   ]
  },
  {
   "cell_type": "code",
   "execution_count": 14,
   "id": "ee5d0a7f",
   "metadata": {},
   "outputs": [
    {
     "data": {
      "text/plain": [
       "70406"
      ]
     },
     "execution_count": 14,
     "metadata": {},
     "output_type": "execute_result"
    }
   ],
   "source": [
    "set_temp1 = set(cleaned_eng_corpus.keys())\n",
    "set_temp2 = set(cleaned_kor_corpus.keys())\n",
    "set_temp3 = set_temp2.intersection(set_temp1)\n",
    "len(set_temp3)"
   ]
  },
  {
   "cell_type": "code",
   "execution_count": 15,
   "id": "fd2b4b99",
   "metadata": {},
   "outputs": [
    {
     "name": "stdout",
     "output_type": "stream",
     "text": [
      "70406 70406\n"
     ]
    }
   ],
   "source": [
    "train_list = []\n",
    "target_list = []\n",
    "\n",
    "for i, j in cleaned_eng_corpus.items():\n",
    "    if i in set_temp3:\n",
    "        target_list.append(j)\n",
    "        \n",
    "for i, j in cleaned_kor_corpus.items():\n",
    "    if i in set_temp3:\n",
    "        train_list.append(j)\n",
    "print(len(train_list), len(target_list))"
   ]
  },
  {
   "cell_type": "code",
   "execution_count": 16,
   "id": "981af602",
   "metadata": {},
   "outputs": [],
   "source": [
    "del q\n",
    "del r\n",
    "del train_dic\n",
    "del target_dic\n",
    "del train_unique_dic\n",
    "del target_unique_dic\n",
    "del cleaned_eng_corpus\n",
    "del cleaned_kor_corpus\n",
    "del set_temp1\n",
    "del set_temp2\n",
    "del set_temp3"
   ]
  },
  {
   "cell_type": "markdown",
   "id": "71a2515d",
   "metadata": {},
   "source": [
    "# 토크나이징"
   ]
  },
  {
   "cell_type": "code",
   "execution_count": 17,
   "id": "a2b8de07",
   "metadata": {},
   "outputs": [],
   "source": [
    "maxlen = 50\n",
    "def tokenize(corpus):\n",
    "    tokenizer = tf.keras.preprocessing.text.Tokenizer(filters='', num_words=20000)\n",
    "    tokenizer.fit_on_texts(corpus)\n",
    "\n",
    "    tensor = tokenizer.texts_to_sequences(corpus)\n",
    "\n",
    "    tensor = tf.keras.preprocessing.sequence.pad_sequences(tensor, padding='post', maxlen = maxlen)\n",
    "\n",
    "    return tensor, tokenizer"
   ]
  },
  {
   "cell_type": "code",
   "execution_count": 18,
   "id": "1c2f2925",
   "metadata": {},
   "outputs": [
    {
     "name": "stdout",
     "output_type": "stream",
     "text": [
      "Korean Vocab Size: 41750\n",
      "English Vocab Size: 44129\n"
     ]
    }
   ],
   "source": [
    "enc_tensor, enc_vocab = tokenize(train_list)\n",
    "dec_tensor, dec_vocab = tokenize(target_list)\n",
    "\n",
    "print(\"Korean Vocab Size:\", len(enc_vocab.index_word))\n",
    "print(\"English Vocab Size:\", len(dec_vocab.index_word))"
   ]
  },
  {
   "cell_type": "code",
   "execution_count": 19,
   "id": "00e953af",
   "metadata": {},
   "outputs": [
    {
     "name": "stdout",
     "output_type": "stream",
     "text": [
      "50 50\n"
     ]
    }
   ],
   "source": [
    "print(len(enc_tensor[12400]), len(dec_tensor[12400]))"
   ]
  },
  {
   "cell_type": "markdown",
   "id": "08cbf47b",
   "metadata": {},
   "source": [
    "# 모델 설계"
   ]
  },
  {
   "cell_type": "code",
   "execution_count": 20,
   "id": "c90919f8",
   "metadata": {},
   "outputs": [],
   "source": [
    "class BahdanauAttention(tf.keras.layers.Layer):\n",
    "    def __init__(self, units):\n",
    "        super(BahdanauAttention, self).__init__()\n",
    "        self.w_dec = tf.keras.layers.Dense(units)\n",
    "        self.w_enc = tf.keras.layers.Dense(units)\n",
    "        self.w_com = tf.keras.layers.Dense(1)\n",
    "    \n",
    "    def call(self, h_enc, h_dec):\n",
    "        # h_enc shape: [batch x length x units]\n",
    "        # h_dec shape: [batch x units]\n",
    "\n",
    "        h_enc = self.w_enc(h_enc)\n",
    "        h_dec = tf.expand_dims(h_dec, 1)\n",
    "        h_dec = self.w_dec(h_dec)\n",
    "\n",
    "        score = self.w_com(tf.nn.tanh(h_dec + h_enc))\n",
    "        \n",
    "        attn = tf.nn.softmax(score, axis=1)\n",
    "\n",
    "        context_vec = attn * h_enc\n",
    "        context_vec = tf.reduce_sum(context_vec, axis=1)\n",
    "\n",
    "        return context_vec, attn"
   ]
  },
  {
   "cell_type": "code",
   "execution_count": 21,
   "id": "48708b16",
   "metadata": {},
   "outputs": [],
   "source": [
    "class Encoder(tf.keras.Model):\n",
    "    def __init__(self, vocab_size, embedding_dim, enc_units):\n",
    "        super(Encoder, self).__init__()\n",
    "\n",
    "        self.enc_units = enc_units\n",
    "        self.embedding = tf.keras.layers.Embedding(vocab_size, embedding_dim)\n",
    "        self.gru = tf.keras.layers.GRU(enc_units,\n",
    "                                       return_sequences=True)\n",
    "\n",
    "    def call(self, x):\n",
    "        out = self.embedding(x)\n",
    "        out = self.gru(out)\n",
    "\n",
    "        return out\n"
   ]
  },
  {
   "cell_type": "code",
   "execution_count": 22,
   "id": "be8d043d",
   "metadata": {},
   "outputs": [],
   "source": [
    "class Decoder(tf.keras.Model):\n",
    "    def __init__(self, vocab_size, embedding_dim, dec_units):\n",
    "        super(Decoder, self).__init__()\n",
    "        self.dec_units = dec_units\n",
    "        self.embedding = tf.keras.layers.Embedding(vocab_size, embedding_dim)\n",
    "        self.gru = tf.keras.layers.GRU(dec_units,\n",
    "                                       return_sequences=True,\n",
    "                                       return_state=True)\n",
    "        self.fc = tf.keras.layers.Dense(vocab_size)\n",
    "\n",
    "        self.attention = BahdanauAttention(self.dec_units)\n",
    "\n",
    "    def call(self, x, h_dec, enc_out):\n",
    "        context_vec, attn = self.attention(enc_out, h_dec)\n",
    "\n",
    "        out = self.embedding(x)\n",
    "        out = tf.concat([tf.expand_dims(context_vec, 1), out], axis=-1)\n",
    "\n",
    "        out, h_dec = self.gru(out)\n",
    "        out = tf.reshape(out, (-1, out.shape[2]))\n",
    "        out = self.fc(out)\n",
    "\n",
    "        return out, h_dec, attn"
   ]
  },
  {
   "cell_type": "code",
   "execution_count": 23,
   "id": "72780e9c",
   "metadata": {},
   "outputs": [
    {
     "name": "stdout",
     "output_type": "stream",
     "text": [
      "Encoder Output: (48, 50, 128)\n",
      "Decoder Output: (48, 44130)\n",
      "Decoder Hidden State: (48, 128)\n",
      "Attention: (48, 50, 1)\n"
     ]
    }
   ],
   "source": [
    "# 코드를 실행하세요.\n",
    "\n",
    "BATCH_SIZE     = 48\n",
    "SRC_VOCAB_SIZE = len(enc_vocab.index_word) + 1 \n",
    "TGT_VOCAB_SIZE = len(dec_vocab.index_word) + 1 \n",
    "\n",
    "units         = 128\n",
    "embedding_dim = 128\n",
    "\n",
    "encoder = Encoder(SRC_VOCAB_SIZE, embedding_dim, units)\n",
    "decoder = Decoder(TGT_VOCAB_SIZE, embedding_dim, units)\n",
    "\n",
    "# sample input\n",
    "sequence_len = 50\n",
    "\n",
    "sample_enc = tf.random.uniform((BATCH_SIZE, sequence_len))\n",
    "sample_output = encoder(sample_enc)\n",
    "\n",
    "print ('Encoder Output:', sample_output.shape)\n",
    "\n",
    "sample_state = tf.random.uniform((BATCH_SIZE, units))\n",
    "\n",
    "sample_logits, h_dec, attn = decoder(tf.random.uniform((BATCH_SIZE, 1)),\n",
    "                                     sample_state, sample_output)\n",
    "\n",
    "print ('Decoder Output:', sample_logits.shape)\n",
    "print ('Decoder Hidden State:', h_dec.shape)\n",
    "print ('Attention:', attn.shape)"
   ]
  },
  {
   "cell_type": "code",
   "execution_count": 24,
   "id": "d3c2555d",
   "metadata": {},
   "outputs": [],
   "source": [
    "optimizer = tf.keras.optimizers.Adam()\n",
    "loss_object = tf.keras.losses.SparseCategoricalCrossentropy(\n",
    "    from_logits=True, reduction='none')\n",
    "\n",
    "def loss_function(real, pred):\n",
    "    mask = tf.math.logical_not(tf.math.equal(real, 0))\n",
    "    loss = loss_object(real, pred)\n",
    "    \n",
    "    mask = tf.cast(mask, dtype=loss.dtype)\n",
    "    loss *= mask\n",
    "    \n",
    "    return tf.reduce_mean(loss)"
   ]
  },
  {
   "cell_type": "code",
   "execution_count": 25,
   "id": "42681598",
   "metadata": {},
   "outputs": [],
   "source": [
    "@tf.function\n",
    "def train_step(src, tgt, encoder, decoder, optimizer, dec_tok):\n",
    "    bsz = src.shape[0]\n",
    "    loss = 0\n",
    "\n",
    "    with tf.GradientTape() as tape:\n",
    "        enc_out = encoder(src)\n",
    "        h_dec = enc_out[:, -1]\n",
    "        \n",
    "        dec_src = tf.expand_dims([dec_tok.word_index['<start>']] * bsz, 1)\n",
    "\n",
    "        for t in range(1, tgt.shape[1]):\n",
    "            pred, h_dec, _ = decoder(dec_src, h_dec, enc_out)\n",
    "\n",
    "            loss += loss_function(tgt[:, t], pred)\n",
    "            dec_src = tf.expand_dims(tgt[:, t], 1)\n",
    "        \n",
    "    batch_loss = (loss / int(tgt.shape[1]))\n",
    "\n",
    "    variables = encoder.trainable_variables + decoder.trainable_variables\n",
    "    gradients = tape.gradient(loss, variables)\n",
    "    optimizer.apply_gradients(zip(gradients, variables))\n",
    "    \n",
    "    return batch_loss"
   ]
  },
  {
   "cell_type": "markdown",
   "id": "a9ce9bef",
   "metadata": {},
   "source": [
    "# 모델 훈련"
   ]
  },
  {
   "cell_type": "code",
   "execution_count": 26,
   "id": "4c5d9d96",
   "metadata": {},
   "outputs": [
    {
     "name": "stderr",
     "output_type": "stream",
     "text": [
      "Epoch  1: 100%|██████████| 1467/1467 [05:05<00:00,  4.80it/s, Loss 3.4029]\n",
      "Epoch  2: 100%|██████████| 1467/1467 [04:07<00:00,  5.92it/s, Loss 3.2890]\n",
      "Epoch  3: 100%|██████████| 1467/1467 [04:12<00:00,  5.81it/s, Loss 2.8784]\n",
      "Epoch  4: 100%|██████████| 1467/1467 [04:13<00:00,  5.78it/s, Loss 2.6627]\n",
      "Epoch  5: 100%|██████████| 1467/1467 [04:14<00:00,  5.77it/s, Loss 2.5307]\n",
      "Epoch  6: 100%|██████████| 1467/1467 [04:15<00:00,  5.75it/s, Loss 2.4258]\n",
      "Epoch  7: 100%|██████████| 1467/1467 [04:11<00:00,  5.83it/s, Loss 2.3377]\n",
      "Epoch  8: 100%|██████████| 1467/1467 [04:15<00:00,  5.75it/s, Loss 2.2641]\n",
      "Epoch  9: 100%|██████████| 1467/1467 [04:15<00:00,  5.75it/s, Loss 2.2005]\n",
      "Epoch 10: 100%|██████████| 1467/1467 [04:15<00:00,  5.73it/s, Loss 2.1438]\n",
      "Epoch 11: 100%|██████████| 1467/1467 [04:06<00:00,  5.96it/s, Loss 2.0918]\n",
      "Epoch 12: 100%|██████████| 1467/1467 [04:13<00:00,  5.78it/s, Loss 2.0437]\n",
      "Epoch 13: 100%|██████████| 1467/1467 [04:13<00:00,  5.78it/s, Loss 1.9994]\n",
      "Epoch 14: 100%|██████████| 1467/1467 [04:12<00:00,  5.81it/s, Loss 1.9570]\n",
      "Epoch 15: 100%|██████████| 1467/1467 [04:17<00:00,  5.70it/s, Loss 1.9181]\n"
     ]
    }
   ],
   "source": [
    "from tqdm import tqdm    # tqdm\n",
    "import random\n",
    "\n",
    "EPOCHS = 15\n",
    "\n",
    "for epoch in range(EPOCHS):\n",
    "    total_loss = 0\n",
    "    \n",
    "    idx_list = list(range(0, enc_tensor.shape[0], BATCH_SIZE))\n",
    "    random.shuffle(idx_list)\n",
    "    t = tqdm(idx_list)    # tqdm\n",
    "\n",
    "    for (batch, idx) in enumerate(t):\n",
    "        batch_loss = train_step(enc_tensor[idx:idx+BATCH_SIZE],\n",
    "                                dec_tensor[idx:idx+BATCH_SIZE],\n",
    "                                encoder,\n",
    "                                decoder,\n",
    "                                optimizer,\n",
    "                                dec_vocab)\n",
    "    \n",
    "        total_loss += batch_loss\n",
    "        \n",
    "        t.set_description_str('Epoch %2d' % (epoch + 1))    # tqdm\n",
    "        t.set_postfix_str('Loss %.4f' % (total_loss.numpy() / (batch + 1)))    # tqdm"
   ]
  },
  {
   "cell_type": "code",
   "execution_count": 27,
   "id": "0bb5f644",
   "metadata": {},
   "outputs": [],
   "source": [
    "def preprocess_sentence(sentence):\n",
    "\n",
    "    sentence = re.sub(r\"([?.!,])\", r\" \\1 \", sentence)\n",
    "    sentence = re.sub(r'[\" \"]+', \" \", sentence)   \n",
    "    sentence = re.sub(r\"[^ㄱ-ㅎ가-힣0-9.,?!]+\", \" \", sentence)\n",
    "    result = mecab.morphs(sentence)\n",
    "\n",
    "    return result"
   ]
  },
  {
   "cell_type": "code",
   "execution_count": 28,
   "id": "b8c0d176",
   "metadata": {},
   "outputs": [],
   "source": [
    "def evaluate(sentence, encoder, decoder):\n",
    "    attention = np.zeros((dec_tensor.shape[-1], enc_tensor.shape[-1]))\n",
    "    \n",
    "    sentence = preprocess_sentence(sentence)\n",
    "    inputs = enc_vocab.texts_to_sequences([sentence])\n",
    "    inputs = tf.keras.preprocessing.sequence.pad_sequences(inputs,\n",
    "                                                           maxlen=enc_tensor.shape[-1],\n",
    "                                                           padding='post')\n",
    "\n",
    "    result = ''\n",
    "\n",
    "    enc_out = encoder(inputs)\n",
    "\n",
    "    dec_hidden = enc_out[:, -1]\n",
    "    dec_input = tf.expand_dims([dec_vocab.word_index['<start>']], 0)\n",
    "\n",
    "    for t in range(dec_tensor.shape[-1]):\n",
    "        predictions, dec_hidden, attention_weights = decoder(dec_input,\n",
    "                                                             dec_hidden,\n",
    "                                                             enc_out)\n",
    "\n",
    "        attention_weights = tf.reshape(attention_weights, (-1, ))\n",
    "        attention[t] = attention_weights.numpy()\n",
    "\n",
    "        predicted_id = \\\n",
    "        tf.argmax(tf.math.softmax(predictions, axis=-1)[0]).numpy()\n",
    "\n",
    "        result += dec_vocab.index_word[predicted_id] + ' '\n",
    "\n",
    "        if dec_vocab.index_word[predicted_id] == '<end>':\n",
    "            return result, sentence, attention\n",
    "\n",
    "        dec_input = tf.expand_dims([predicted_id], 0)\n",
    "\n",
    "    return result, sentence, attention\n",
    "\n",
    "\n",
    "def plot_attention(attention, sentence, predicted_sentence):\n",
    "    fig = plt.figure(figsize=(10,10))\n",
    "    ax = fig.add_subplot(1, 1, 1)\n",
    "    ax.matshow(attention, cmap='viridis')\n",
    "\n",
    "    fontdict = {'fontsize': 14}\n",
    "\n",
    "    ax.set_xticklabels([''] + sentence, fontdict=fontdict, rotation=90)\n",
    "    ax.set_yticklabels([''] + predicted_sentence, fontdict=fontdict)\n",
    "\n",
    "    ax.xaxis.set_major_locator(ticker.MultipleLocator(1))\n",
    "    ax.yaxis.set_major_locator(ticker.MultipleLocator(1))\n",
    "\n",
    "    plt.show()\n",
    "\n",
    "\n",
    "def translate(sentence, encoder, decoder):\n",
    "    result, sentence, attention = evaluate(sentence, encoder, decoder)\n",
    "\n",
    "    print('Input: %s' % (sentence))\n",
    "    print('Predicted translation: {}'.format(result))\n",
    "    \n",
    "    attention = attention[:len(result), :len(sentence)]\n",
    "    plot_attention(attention, sentence, result.split(' '))\n",
    "\n"
   ]
  },
  {
   "cell_type": "markdown",
   "id": "9e8bfdd7",
   "metadata": {},
   "source": [
    "# 번역 품질 평가"
   ]
  },
  {
   "cell_type": "code",
   "execution_count": 29,
   "id": "3a518d09",
   "metadata": {},
   "outputs": [
    {
     "name": "stderr",
     "output_type": "stream",
     "text": [
      "/home/aiffel/anaconda3/envs/aiffel/lib/python3.7/site-packages/ipykernel_launcher.py:45: UserWarning: FixedFormatter should only be used together with FixedLocator\n",
      "/home/aiffel/anaconda3/envs/aiffel/lib/python3.7/site-packages/ipykernel_launcher.py:46: UserWarning: FixedFormatter should only be used together with FixedLocator\n"
     ]
    },
    {
     "name": "stdout",
     "output_type": "stream",
     "text": [
      "Input: ['일곱', '명', '의', '사망자', '가', '발생', '했', '다', '.']\n",
      "Predicted translation: two people were killed and wounded . <end> \n"
     ]
    },
    {
     "data": {
      "image/png": "[encoded data removed]",
      "text/plain": [
       "<Figure size 720x720 with 1 Axes>"
      ]
     },
     "metadata": {
      "image/png": {
       "height": 606,
       "width": 196
      },
      "needs_background": "light"
     },
     "output_type": "display_data"
    }
   ],
   "source": [
    "translate(\"일곱 명의 사망자가 발생했다.\", encoder, decoder)"
   ]
  },
  {
   "cell_type": "code",
   "execution_count": 30,
   "id": "50c3874b",
   "metadata": {},
   "outputs": [
    {
     "name": "stdout",
     "output_type": "stream",
     "text": [
      "Input: ['커피', '는', '필요', '없', '다', '.']\n",
      "Predicted translation: you re going to be able to get a lot of the size of the average of the size of the average of the size of the average of the size of the average of the size of the average of the size of the average of the size of \n"
     ]
    },
    {
     "name": "stderr",
     "output_type": "stream",
     "text": [
      "/home/aiffel/anaconda3/envs/aiffel/lib/python3.7/site-packages/ipykernel_launcher.py:45: UserWarning: FixedFormatter should only be used together with FixedLocator\n",
      "/home/aiffel/anaconda3/envs/aiffel/lib/python3.7/site-packages/ipykernel_launcher.py:46: UserWarning: FixedFormatter should only be used together with FixedLocator\n"
     ]
    },
    {
     "data": {
      "image/png": "[encoded data removed]",
      "text/plain": [
       "<Figure size 720x720 with 1 Axes>"
      ]
     },
     "metadata": {
      "image/png": {
       "height": 594,
       "width": 140
      },
      "needs_background": "light"
     },
     "output_type": "display_data"
    }
   ],
   "source": [
    "translate(\"커피는 필요 없다.\", encoder, decoder)"
   ]
  },
  {
   "cell_type": "code",
   "execution_count": 31,
   "id": "0724de74",
   "metadata": {},
   "outputs": [
    {
     "name": "stdout",
     "output_type": "stream",
     "text": [
      "Input: ['시민', '들', '은', '도시', '속', '에', '산다', '.']\n",
      "Predicted translation: they are in the country . <end> \n"
     ]
    },
    {
     "name": "stderr",
     "output_type": "stream",
     "text": [
      "/home/aiffel/anaconda3/envs/aiffel/lib/python3.7/site-packages/ipykernel_launcher.py:45: UserWarning: FixedFormatter should only be used together with FixedLocator\n",
      "/home/aiffel/anaconda3/envs/aiffel/lib/python3.7/site-packages/ipykernel_launcher.py:46: UserWarning: FixedFormatter should only be used together with FixedLocator\n"
     ]
    },
    {
     "data": {
      "image/png": "[encoded data removed]",
      "text/plain": [
       "<Figure size 720x720 with 1 Axes>"
      ]
     },
     "metadata": {
      "image/png": {
       "height": 593,
       "width": 206
      },
      "needs_background": "light"
     },
     "output_type": "display_data"
    }
   ],
   "source": [
    "translate(\"시민들은 도시 속에 산다.\", encoder, decoder)"
   ]
  },
  {
   "cell_type": "code",
   "execution_count": 32,
   "id": "4d91317d",
   "metadata": {},
   "outputs": [
    {
     "name": "stderr",
     "output_type": "stream",
     "text": [
      "/home/aiffel/anaconda3/envs/aiffel/lib/python3.7/site-packages/ipykernel_launcher.py:45: UserWarning: FixedFormatter should only be used together with FixedLocator\n",
      "/home/aiffel/anaconda3/envs/aiffel/lib/python3.7/site-packages/ipykernel_launcher.py:46: UserWarning: FixedFormatter should only be used together with FixedLocator\n"
     ]
    },
    {
     "name": "stdout",
     "output_type": "stream",
     "text": [
      "Input: ['오바마', '는', '대통령', '이', '다', '.']\n",
      "Predicted translation: obama s a president . <end> \n"
     ]
    },
    {
     "data": {
      "image/png": "[encoded data removed]",
      "text/plain": [
       "<Figure size 720x720 with 1 Axes>"
      ]
     },
     "metadata": {
      "image/png": {
       "height": 606,
       "width": 198
      },
      "needs_background": "light"
     },
     "output_type": "display_data"
    }
   ],
   "source": [
    "translate(\"오바마는 대통령이다.\", encoder, decoder)"
   ]
  },
  {
   "cell_type": "code",
   "execution_count": null,
   "id": "0d8cb12c",
   "metadata": {},
   "outputs": [],
   "source": []
  },
  {
   "cell_type": "markdown",
   "id": "07cd2f66",
   "metadata": {},
   "source": [
    "Input: ['일곱', '명', '의', '사망자', '가', '발생', '했', '다', '.']   \n",
    "Predicted translation: two people were killed and wounded . <end>   \n",
    "   \n",
    "    \n",
    "Input: ['시민', '들', '은', '도시', '속', '에', '산다', '.']   \n",
    "Predicted translation: they are in the country . <end>    \n",
    "   \n",
    "    \n",
    "Input: ['오바마', '는', '대통령', '이', '다', '.']   \n",
    "Predicted translation: obama s a president . <end>    "
   ]
  },
  {
   "cell_type": "markdown",
   "id": "259ebce5",
   "metadata": {},
   "source": [
    "## 네 문장중 3개는 그럴듯 하다."
   ]
  },
  {
   "cell_type": "markdown",
   "id": "1958f942",
   "metadata": {},
   "source": [
    "# 회고"
   ]
  },
  {
   "cell_type": "markdown",
   "id": "1269e33a",
   "metadata": {},
   "source": [
    "26시간째 붙잡고 있다.   \n",
    "메모리가 수십번 터지고, 모델 이해는 여전히 오리무중인 건 둘째치고   \n",
    "전처리 과정이 너무 힘들었다.   \n",
    "\n",
    "\n",
    "단순히 set과 zip을 써서 하는 방법에는 문제가 있다고 생각했다.   \n",
    "훈련데이터와 타겟데이터의 중복을 각각 제거 했을 때 크기가 다르기 때문에   \n",
    "더 작은 데이터셋에 맞춰 총 개수를 일치시키고   \n",
    "input length에 맞게 길이를 자르는 과정에서 스페셜토큰이 손실되지 않도록   \n",
    "각 데이터셋을 딕셔너리로 변환해 병렬 쌍 순서를 유지하면서 데이터셋을 전처리하는 코드를 짜는 데 많은 시간을 쏟았다.      \n",
    "\n",
    "**구체적으로 설명하면 이건 번역문제이므로 훈련샘플과 레이블 데이터의 병렬쌍이 순서대로 유지되는게 제일 중요하다고 판단했다.   \n",
    "따라서 중복 제거시 어느 한쪽이 크다면 작은쪽에 맞춰야 쌍과 순서가 유지된다.   \n",
    "또한 디코더에 입력되는 레이블 데이터의 스페셜 토큰도   \n",
    "입력 길이를 임의로 제한한 다음 토큰화 했을 때   \n",
    "훈련샘플에는 스페셜 토큰의 개수가 더 적게 들어가므로 병렬 쌍 유지가 깨지게 된다고 판단했다.   \n",
    "병렬 쌍과 순서를 계속 유지하면서 토큰화를 하기 위해 코드가 너저분했지만   \n",
    "나의 접근방법이 틀리진 않다고 생각한다. 하지만 피드백이 필요하다. 내 생각이 맞는지, 틀리다면 왜 틀렸는지**   \n",
    "      \n",
    "         \n",
    "   \n",
    "이렇게 오랜 시간을 들였음에도   \n",
    "첫번째 시도에서 번역품질이 좋지 않았다.   \n",
    "loss가 떨어지지 않았디.\n",
    "하이퍼 파라미터를 이리저리 바꿔보았지만   \n",
    "별 효과가 없었다.  \n",
    "   \n",
    "      \n",
    "그럴때마다 전처리에 더 공을 들였고   \n",
    "혹시나 해서 입력길이를 40에서 50으로 늘렸더니      \n",
    "loss 하락폭이 소폭 상승했다.   \n",
    "   \n",
    "어떻게 하면 번역품질을 높일 수 있을까...   \n",
    "데이터셋이 적은건 문제라고 생각하지 않는다.   \n",
    "더 정교한 전처리와 고급 학습기법들을 적용할 수 있다면   \n",
    "성능을 더 끌어 올릴 수 있다는 생각이 들었다.   \n",
    "   \n",
    "하지만 모델 설계 코드를 완전히 숙지하지 못한 상태라   \n",
    "다시 전처리로 돌아갈 수밖에 없었다.      \n",
    "   \n",
    "한국어 데이터셋은 형태소분석기를 썼지만   \n",
    "영어 데이터셋은 공백기반 토큰화를 한 게 첫 번째 한계라고 생각한다.   \n",
    "서브워드 토크나이즈를 해보고 싶은데   \n",
    "그러면 모델의 입력값이 달라지고 전체적인 모델의 흐름을 다 손봐야 할 것 같아   \n",
    "아직 시도를 못하고 있다.   \n",
    "   \n",
    "그 전 단계에서 임베딩의 품질을 올릴 수 있는 방법이 뭐가 있을까?   \n",
    "레이블 작업은 현재 내 수준으로 할 수 있는 한 최선을 한 것 같다.   \n",
    "임베딩 자체를 다른 방법으로 해보는 게 유일한 방법 같다.   \n",
    "   \n",
    "한 말을 또 하고 있다.   \n",
    "집중력이 거의 바닥난 상태다.   \n",
    "그래.. 오리지널 데이터의 특징을 제대로 살리지 못한 전처리를 했다는 문제가 남아 있다.   \n",
    "훈련샘플과 타겟데이터의 쌍을 비교해본 결과   \n",
    "일대일 대응 관계를 벗어난 쌍들이 몇 개 있었다.   \n",
    "전체 데이터가 수만여개 되므로 위와 같은 데이터들이 번역 품질 저하를 가져온 원인일 수 있다.   \n",
    "예컨대 x번째 한국어 문장 A에 해당하는 영어 문장이 x, x+1번째 문장 A', A''에 해당하는 식이다.   \n",
    "이 반대의 형태도 분명 있을 것이다.   \n",
    "그렇다면 이건   \n",
    "주어진 데이터셋 자체의 문제다.   \n",
    "내가 아무리 전처리를 잘했다고 한들   \n",
    "샘플과 레이블이 일대일로 대응하는 데이터셋이 아니라면   \n",
    "거기서 성능을 더 끌어올릴 수 있는 방법은   \n",
    "오리지널 데이터셋 자체를 다시 검토해서 레이블작업을 다시하는 수밖에 없다.   \n",
    "   \n",
    "아니면 에폭을 한 100으로 줘보는 것도 방법이 될 수 있다.   \n",
    "15 에폭까지 돌렸을 때 하락세가 계속 유지됐으므로...   \n",
    "   \n",
    "아직 트랜스포머가 남았다.   \n",
    "이 프로젝트는 여기까지 하는 걸로 하고   \n",
    "내가 부족했던 부분을 다시 한 번  짚어 보자.   \n",
    "   \n",
    "1. 정규표현식을 더 자유자재로 쓰고 싶다. 중복처리, 불용어 제거, 특수기호 처리, 띄어쓰기, 오탈자 등 전처리를 빠르게 수행할 수 있는 코딩실력.  \n",
    "2. 말뭉치의 특성에 따라 임베딩을 자유자재로 쓰고 싶다. 임베딩을 하는 건 문제가 안되는 데 그걸 모델에 입력시키는 과정이 아직 머릿속에 명확하지 않다.   \n",
    "2. 모델 설계 능력. gradient tape 가 날 너무 빡치게 했다. 커스터마이징하기 좋은 툴이라는 건 알겠는데   \n",
    "하... 트랜스포머 챗봇까지만 하고 다시 여기로 돌아와 첨부터 시작해야겠다.   "
   ]
  },
  {
   "cell_type": "code",
   "execution_count": null,
   "id": "ee494f14",
   "metadata": {},
   "outputs": [],
   "source": []
  },
  {
   "cell_type": "code",
   "execution_count": null,
   "id": "08d1a6ec",
   "metadata": {},
   "outputs": [],
   "source": []
  }
 ],
 "metadata": {
  "kernelspec": {
   "display_name": "Python 3",
   "language": "python",
   "name": "python3"
  },
  "language_info": {
   "codemirror_mode": {
    "name": "ipython",
    "version": 3
   },
   "file_extension": ".py",
   "mimetype": "text/x-python",
   "name": "python",
   "nbconvert_exporter": "python",
   "pygments_lexer": "ipython3",
   "version": "3.7.10"
  }
 },
 "nbformat": 4,
 "nbformat_minor": 5
}
