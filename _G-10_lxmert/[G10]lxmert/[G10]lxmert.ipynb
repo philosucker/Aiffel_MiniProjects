{
 "cells": [
  {
   "cell_type": "code",
   "execution_count": 1,
   "id": "bee489d6",
   "metadata": {},
   "outputs": [
    {
     "name": "stdout",
     "output_type": "stream",
     "text": [
      "1.8.1+cu102\n"
     ]
    }
   ],
   "source": [
    "# 오늘 실습을 위한 작업디렉토리로 이동합니다.\n",
    "!cd ~/mini_projects/_G-10_lxmert/\n",
    "\n",
    "from IPython.display import clear_output, Image, display\n",
    "import PIL.Image\n",
    "import io\n",
    "import json\n",
    "import torch\n",
    "import numpy as np\n",
    "from transformers import LxmertForQuestionAnswering, LxmertTokenizer\n",
    "import wget\n",
    "import pickle\n",
    "import os, sys\n",
    "\n",
    "# 추가해준 모듈을 임포트하기 위해 아래 경로를 path에 추가합니다. \n",
    "sys.path.append(os.getenv('HOME')+'/mini_projects/_G-10_lxmert/')\n",
    "from processing_image import Preprocess\n",
    "from visualizing_image import SingleImageViz\n",
    "from modeling_frcnn import GeneralizedRCNN\n",
    "from utils import Config\n",
    "import utils\n",
    "\n",
    "print(torch.__version__)"
   ]
  },
  {
   "cell_type": "code",
   "execution_count": 2,
   "id": "3d9ec1cb",
   "metadata": {},
   "outputs": [
    {
     "name": "stdout",
     "output_type": "stream",
     "text": [
      "1600\n",
      "['yolk', 'goal', 'bathroom', 'macaroni', 'umpire', 'toothpick', 'alarm clock', 'ceiling fan', 'photos', 'parrot', 'tail fin', 'birthday cake', 'calculator', 'catcher', 'toilet', 'batter', 'stop sign,stopsign', 'cone', 'microwave,microwave oven', 'skateboard ramp', 'tea', 'dugout', 'products', 'halter', 'kettle', 'kitchen', 'refrigerator,fridge', 'ostrich', 'bathtub', 'blinds']\n"
     ]
    }
   ],
   "source": [
    "# object definition\n",
    "OBJ_URL = \"https://raw.githubusercontent.com/airsplay/py-bottom-up-attention/master/demo/data/genome/1600-400-20/objects_vocab.txt\"\n",
    "objids = utils.get_data(OBJ_URL)\n",
    "print(len(objids))\n",
    "print(objids[:30])  #1600개의 단어사전 중 30개만 출력"
   ]
  },
  {
   "cell_type": "code",
   "execution_count": 3,
   "id": "640b5724",
   "metadata": {},
   "outputs": [
    {
     "name": "stdout",
     "output_type": "stream",
     "text": [
      "400\n",
      "['gray,grey', 'multi colored,multi-colored,multicolored', 'double decker,double-decker', 'unmade', 'red', 'camouflage', 'blue', 'white', 'green', 'pink', 'yellow', 'black', 'ivory', 'throwing', 'orange', 'spiky', 'plaid', 'purple', 'soccer', 'brake', 'blonde', 'american', 'flat screen', 'brown', 'wooden', 'performing', 'pulled back', 'windshield', 'bald', 'chocolate']\n"
     ]
    }
   ],
   "source": [
    "# attribute definition\n",
    "ATTR_URL = \"https://raw.githubusercontent.com/airsplay/py-bottom-up-attention/master/demo/data/genome/1600-400-20/attributes_vocab.txt\"\n",
    "attrids = utils.get_data(ATTR_URL)\n",
    "print(len(attrids))\n",
    "print(attrids[:30])   #400개의 단어사전 중 30개만 출력"
   ]
  },
  {
   "cell_type": "code",
   "execution_count": 4,
   "id": "c8c7ad6f",
   "metadata": {},
   "outputs": [
    {
     "name": "stdout",
     "output_type": "stream",
     "text": [
      "3129\n",
      "['', 'woods', 'trash can', 'hanging', 'wooden', 'cooking', 'china', 'kids', 'bike rack', 'on phone', 'music', 'travel', 'tulip', 'arrow', 'branch', 'chevron', 'mouth', 'on right', 'rice', 'plate', 'lots', 'nature', 'fruits', 'throwing frisbee', 'blonde', 'life jacket', 'ham', 'hay', 'hat', 'to get to other side']\n"
     ]
    }
   ],
   "source": [
    "# VQA answer definition\n",
    "VQA_URL = \"https://raw.githubusercontent.com/airsplay/lxmert/master/data/vqa/trainval_label2ans.json\"\n",
    "vqa_answers = utils.get_data(VQA_URL)\n",
    "print(len(vqa_answers))\n",
    "print(vqa_answers[:30])  #3129개의 단어사전 중 30개만 출력"
   ]
  },
  {
   "cell_type": "code",
   "execution_count": 5,
   "id": "273e5ab0",
   "metadata": {},
   "outputs": [
    {
     "name": "stdout",
     "output_type": "stream",
     "text": [
      "loading configuration file cache\n"
     ]
    }
   ],
   "source": [
    "# 위 이미지의 URL\n",
    "URL = \"https://raw.githubusercontent.com/airsplay/py-bottom-up-attention/master/demo/data/images/input.jpg\"\n",
    "\n",
    "frcnn_cfg = Config.from_pretrained(\"unc-nlp/frcnn-vg-finetuned\")\n",
    "image_preprocess = Preprocess(frcnn_cfg)\n",
    "\n",
    "images, sizes, scales_yx = image_preprocess(URL)"
   ]
  },
  {
   "cell_type": "code",
   "execution_count": 6,
   "id": "ab826be7",
   "metadata": {},
   "outputs": [
    {
     "name": "stdout",
     "output_type": "stream",
     "text": [
      "tensor([[[[  37.0199,   32.2233,   25.0255,  ...,  -40.9723,  -31.3756,\n",
      "            -24.9801],\n",
      "          [  31.0199,   27.6623,   22.6238,  ...,  -42.1717,  -31.8553,\n",
      "            -24.9801],\n",
      "          [  22.0199,   20.8207,   19.0213,  ...,  -43.9708,  -32.5748,\n",
      "            -24.9801],\n",
      "          ...,\n",
      "          [ -85.9802,  -83.9816,  -80.9824,  ...,   71.0138,   63.8164,\n",
      "             59.0198],\n",
      "          [ -87.7801,  -85.0620,  -80.9833,  ...,   66.2157,   61.1775,\n",
      "             57.8199],\n",
      "          [ -88.9801,  -85.7823,  -80.9838,  ...,   63.0170,   59.4182,\n",
      "             57.0199]],\n",
      "\n",
      "         [[  44.0535,   42.4546,   40.0554,  ...,  -27.9406,  -20.7431,\n",
      "            -15.9465],\n",
      "          [  49.2535,   44.4569,   37.2591,  ...,  -25.1393,  -16.2624,\n",
      "            -10.3465],\n",
      "          [  57.0535,   47.4602,   33.0647,  ...,  -20.9372,   -9.5412,\n",
      "             -1.9465],\n",
      "          ...,\n",
      "          [ -99.9466,  -97.5482,  -93.9492,  ...,   52.0463,   43.6493,\n",
      "             38.0533],\n",
      "          [-101.7465,  -98.1490,  -92.7507,  ...,   44.8480,   38.2504,\n",
      "             33.8535],\n",
      "          [-102.9465,  -98.5496,  -91.9517,  ...,   40.0491,   34.6510,\n",
      "             31.0535]],\n",
      "\n",
      "         [[  -4.7717,   -3.9723,   -2.7726,  ...,  -70.7619,  -58.7661,\n",
      "            -50.7717],\n",
      "          [  -1.9717,   -4.0502,   -7.1693,  ...,  -63.1602,  -49.0051,\n",
      "            -39.5717],\n",
      "          [   2.2283,   -4.1672,  -13.7642,  ...,  -51.7575,  -34.3636,\n",
      "            -22.7717],\n",
      "          ...,\n",
      "          [-104.7718, -103.1728, -100.7735,  ...,   68.2211,   59.8241,\n",
      "             54.2281],\n",
      "          [-106.5717, -103.5338,  -98.9752,  ...,   61.0231,   54.7853,\n",
      "             50.6283],\n",
      "          [-107.7717, -103.7745,  -97.7764,  ...,   56.2244,   51.4261,\n",
      "             48.2283]]]])\n",
      "tensor([[ 800, 1067]])\n"
     ]
    }
   ],
   "source": [
    "print(images)\n",
    "print(sizes)"
   ]
  },
  {
   "cell_type": "code",
   "execution_count": 7,
   "id": "e347259f",
   "metadata": {},
   "outputs": [],
   "source": [
    "test_questions_for_url1 = [\n",
    "    \"Where is this scene?\",\n",
    "    \"what is the man riding?\",\n",
    "    \"What is the man wearing?\",\n",
    "    \"What is the color of the horse?\"\n",
    "]"
   ]
  },
  {
   "cell_type": "code",
   "execution_count": null,
   "id": "7bcf4be6",
   "metadata": {},
   "outputs": [],
   "source": []
  },
  {
   "cell_type": "code",
   "execution_count": 8,
   "id": "324b3c88",
   "metadata": {},
   "outputs": [
    {
     "name": "stdout",
     "output_type": "stream",
     "text": [
      "loading configuration file cache\n",
      "loading weights file https://cdn.huggingface.co/unc-nlp/frcnn-vg-finetuned/pytorch_model.bin from cache at /home/aiffel/.cache/torch/transformers/57f6df6abe353be2773f2700159c65615babf39ab5b48114d2b49267672ae10f.77b59256a4cf8343ae0f923246a81489fc8d82f98d082edc2d2037c977c0d9d0\n",
      "All model checkpoint weights were used when initializing GeneralizedRCNN.\n",
      "\n",
      "All the weights of GeneralizedRCNN were initialized from the model checkpoint at unc-nlp/frcnn-vg-finetuned.\n",
      "If your task is similar to the task the model of the checkpoint was trained on, you can already use GeneralizedRCNN for predictions without further training.\n"
     ]
    }
   ],
   "source": [
    "frcnn_cfg = Config.from_pretrained(\"unc-nlp/frcnn-vg-finetuned\")\n",
    "\n",
    "frcnn = GeneralizedRCNN.from_pretrained(\"unc-nlp/frcnn-vg-finetuned\", config=frcnn_cfg)"
   ]
  },
  {
   "cell_type": "code",
   "execution_count": 9,
   "id": "bb1411e3",
   "metadata": {},
   "outputs": [
    {
     "data": {
      "text/plain": [
       "36"
      ]
     },
     "execution_count": 9,
     "metadata": {},
     "output_type": "execute_result"
    }
   ],
   "source": [
    "frcnn_cfg.max_detections  # object detection 모델이 검출할 최대 object 개수"
   ]
  },
  {
   "cell_type": "code",
   "execution_count": 10,
   "id": "958654ef",
   "metadata": {},
   "outputs": [],
   "source": [
    "output_dict = frcnn(\n",
    "    images, \n",
    "    sizes, \n",
    "    scales_yx=scales_yx, \n",
    "    padding=\"max_detections\",\n",
    "    max_detections=frcnn_cfg.max_detections,\n",
    "    return_tensors=\"pt\"\n",
    ")"
   ]
  },
  {
   "cell_type": "code",
   "execution_count": 11,
   "id": "63d408e8",
   "metadata": {},
   "outputs": [
    {
     "name": "stdout",
     "output_type": "stream",
     "text": [
      "tensor([[[1.6930e+02, 2.1428e+02, 4.8507e+02, 4.6975e+02],\n",
      "         [1.0072e+02, 2.5157e+02, 3.9440e+02, 4.8000e+02],\n",
      "         [5.8607e+02, 0.0000e+00, 6.3892e+02, 3.5348e+02],\n",
      "         [6.0813e+02, 6.1844e+01, 6.3753e+02, 4.2312e+02],\n",
      "         [2.8151e+02, 1.6208e+02, 3.2836e+02, 1.9436e+02],\n",
      "         [1.5756e+02, 9.3071e+01, 3.9201e+02, 4.6143e+02],\n",
      "         [2.2245e+02, 2.9141e+02, 5.6593e+02, 4.8000e+02],\n",
      "         [4.1366e+01, 1.8160e+02, 3.4989e+02, 4.5049e+02],\n",
      "         [1.3899e+01, 1.7041e+00, 2.0780e+02, 4.3721e+02],\n",
      "         [3.8143e+02, 3.1056e+02, 6.1871e+02, 4.1796e+02],\n",
      "         [2.6148e+02, 1.9268e+02, 3.6299e+02, 4.2911e+02],\n",
      "         [2.0384e+02, 0.0000e+00, 3.0062e+02, 2.7995e+02],\n",
      "         [2.9271e+00, 0.0000e+00, 1.2306e+02, 3.5311e+02],\n",
      "         [2.4660e+02, 1.5944e+02, 3.4745e+02, 3.6034e+02],\n",
      "         [5.5263e+01, 2.7269e+01, 1.2843e+02, 3.8614e+02],\n",
      "         [4.4270e-01, 3.3880e+02, 5.0326e+02, 4.7818e+02],\n",
      "         [1.7163e+02, 3.7074e+02, 4.6254e+02, 4.6932e+02],\n",
      "         [1.0095e+02, 1.6604e+02, 5.5064e+02, 4.1651e+02],\n",
      "         [1.5804e+00, 0.0000e+00, 5.2965e+02, 2.8064e+02],\n",
      "         [1.5900e+02, 1.3831e+00, 3.5435e+02, 3.1691e+02],\n",
      "         [5.5594e+02, 2.6986e+02, 6.0296e+02, 3.7290e+02],\n",
      "         [3.7103e+02, 2.6561e+02, 6.3782e+02, 3.8166e+02],\n",
      "         [3.3236e+02, 1.6124e+01, 6.3379e+02, 3.5423e+02],\n",
      "         [1.2503e+02, 4.1742e+02, 6.2055e+02, 4.7971e+02],\n",
      "         [8.0712e+01, 0.0000e+00, 6.3404e+02, 1.3555e+02],\n",
      "         [2.7845e+02, 2.0657e+02, 3.3999e+02, 3.1343e+02],\n",
      "         [4.9920e+02, 2.7338e+02, 5.6927e+02, 3.6314e+02],\n",
      "         [0.0000e+00, 0.0000e+00, 2.2583e+02, 2.3336e+02],\n",
      "         [0.0000e+00, 2.7051e+02, 2.9955e+02, 4.7693e+02],\n",
      "         [5.4911e+00, 2.7253e+02, 9.1678e+01, 4.6170e+02],\n",
      "         [5.9929e+02, 1.9917e+02, 6.3997e+02, 4.0855e+02],\n",
      "         [2.5114e+02, 1.0120e+02, 5.9824e+02, 4.0908e+02],\n",
      "         [4.0340e+02, 0.0000e+00, 6.3419e+02, 2.3670e+02],\n",
      "         [2.8208e+02, 1.9724e+02, 6.4000e+02, 4.6537e+02],\n",
      "         [2.5728e+00, 2.4182e+02, 1.5470e+02, 4.7816e+02],\n",
      "         [0.0000e+00, 5.4884e+01, 3.9842e+02, 3.7030e+02]]])\n",
      "-------------\n",
      "torch.Size([1, 36, 4])\n"
     ]
    }
   ],
   "source": [
    "print(output_dict.get(\"boxes\"))\n",
    "print('-------------')\n",
    "print(output_dict.get(\"boxes\").shape)"
   ]
  },
  {
   "cell_type": "code",
   "execution_count": 12,
   "id": "bfe1d807",
   "metadata": {},
   "outputs": [
    {
     "name": "stdout",
     "output_type": "stream",
     "text": [
      "tensor([[[0.0000e+00, 0.0000e+00, 0.0000e+00,  ..., 6.3681e+00,\n",
      "          3.4300e-03, 7.7600e+00],\n",
      "         [0.0000e+00, 1.4429e-02, 1.7533e-01,  ..., 6.4004e+00,\n",
      "          0.0000e+00, 6.6364e+00],\n",
      "         [0.0000e+00, 0.0000e+00, 4.1719e-03,  ..., 2.0413e-01,\n",
      "          8.4239e-01, 3.4729e+00],\n",
      "         ...,\n",
      "         [0.0000e+00, 8.2577e-01, 4.4683e-01,  ..., 6.3485e+00,\n",
      "          4.1949e-02, 3.9396e-01],\n",
      "         [0.0000e+00, 1.7906e-01, 1.4289e-01,  ..., 2.8292e+00,\n",
      "          6.5108e-01, 1.2135e-02],\n",
      "         [0.0000e+00, 2.0028e-01, 3.7835e-03,  ..., 8.0951e+00,\n",
      "          6.9268e-01, 1.3321e-01]]])\n",
      "-------------\n",
      "torch.Size([1, 36, 2048])\n"
     ]
    }
   ],
   "source": [
    "print(output_dict.get(\"roi_features\"))\n",
    "print('-------------')\n",
    "print(output_dict.get(\"roi_features\").shape)"
   ]
  },
  {
   "cell_type": "code",
   "execution_count": 13,
   "id": "b5afd4ca",
   "metadata": {},
   "outputs": [
    {
     "data": {
      "image/jpeg": "[encoded data removed]",
      "text/plain": [
       "<IPython.core.display.Image object>"
      ]
     },
     "metadata": {},
     "output_type": "display_data"
    }
   ],
   "source": [
    "# for visualizing output\n",
    "def showarray(a, fmt='jpeg'):\n",
    "    a = np.uint8(np.clip(a, 0, 255))\n",
    "    f = io.BytesIO()\n",
    "    PIL.Image.fromarray(a).save(f, fmt)\n",
    "    display(Image(data=f.getvalue()))\n",
    "\n",
    "#image viz\n",
    "frcnn_visualizer = SingleImageViz(URL, id2obj=objids, id2attr=attrids)\n",
    "\n",
    "frcnn_visualizer.draw_boxes(\n",
    "    output_dict.get(\"boxes\"),\n",
    "    output_dict.pop(\"obj_ids\"),\n",
    "    output_dict.pop(\"obj_probs\"),\n",
    "    output_dict.pop(\"attr_ids\"),\n",
    "    output_dict.pop(\"attr_probs\"),\n",
    ")\n",
    "showarray(frcnn_visualizer._get_buffer())"
   ]
  },
  {
   "cell_type": "code",
   "execution_count": 14,
   "id": "7d77f695",
   "metadata": {},
   "outputs": [],
   "source": [
    "#Very important that the boxes are normalized\n",
    "normalized_boxes = output_dict.get(\"normalized_boxes\")\n",
    "features = output_dict.get(\"roi_features\")"
   ]
  },
  {
   "cell_type": "code",
   "execution_count": null,
   "id": "2aaea8f9",
   "metadata": {},
   "outputs": [],
   "source": []
  },
  {
   "cell_type": "code",
   "execution_count": 15,
   "id": "d05983e6",
   "metadata": {},
   "outputs": [],
   "source": [
    "lxmert_tokenizer = LxmertTokenizer.from_pretrained(\"unc-nlp/lxmert-base-uncased\")"
   ]
  },
  {
   "cell_type": "code",
   "execution_count": 16,
   "id": "a420ed8f",
   "metadata": {},
   "outputs": [],
   "source": [
    "test_question = [\"what is the man riding?\"]\n",
    "\n",
    "inputs = lxmert_tokenizer(\n",
    "    test_question,\n",
    "    padding=\"max_length\",\n",
    "    max_length=20,\n",
    "    truncation=True,\n",
    "    return_token_type_ids=True,\n",
    "    return_attention_mask=True,\n",
    "    add_special_tokens=True,\n",
    "    return_tensors=\"pt\"\n",
    ")"
   ]
  },
  {
   "cell_type": "code",
   "execution_count": 17,
   "id": "0f4696a8",
   "metadata": {},
   "outputs": [
    {
     "name": "stdout",
     "output_type": "stream",
     "text": [
      "tensor([[ 101, 2054, 2003, 1996, 2158, 5559, 1029,  102,    0,    0,    0,    0,\n",
      "            0,    0,    0,    0,    0,    0,    0,    0]])\n",
      "tensor([[1, 1, 1, 1, 1, 1, 1, 1, 0, 0, 0, 0, 0, 0, 0, 0, 0, 0, 0, 0]])\n"
     ]
    }
   ],
   "source": [
    "print(inputs.input_ids)\n",
    "print(inputs.attention_mask)"
   ]
  },
  {
   "cell_type": "code",
   "execution_count": null,
   "id": "3351ec62",
   "metadata": {},
   "outputs": [],
   "source": []
  },
  {
   "cell_type": "code",
   "execution_count": 18,
   "id": "13e31642",
   "metadata": {},
   "outputs": [],
   "source": [
    "lxmert_vqa = LxmertForQuestionAnswering.from_pretrained(\"unc-nlp/lxmert-vqa-uncased\")"
   ]
  },
  {
   "cell_type": "code",
   "execution_count": 19,
   "id": "e12c5a41",
   "metadata": {},
   "outputs": [
    {
     "data": {
      "text/plain": [
       "LxmertForQuestionAnsweringOutput(loss=None, question_answering_score=tensor([[-4.8003, -2.0933, -5.0623,  ..., -3.4784,  0.5502, -0.9368]],\n",
       "       grad_fn=<AddmmBackward>), language_hidden_states=None, vision_hidden_states=None, language_attentions=None, vision_attentions=None, cross_encoder_attentions=None)"
      ]
     },
     "execution_count": 19,
     "metadata": {},
     "output_type": "execute_result"
    }
   ],
   "source": [
    "output_vqa = lxmert_vqa(\n",
    "    input_ids=inputs.input_ids,\n",
    "    attention_mask=inputs.attention_mask,\n",
    "    visual_feats=features,\n",
    "    visual_pos=normalized_boxes,\n",
    "    token_type_ids=inputs.token_type_ids,\n",
    "    output_attentions=False,\n",
    ")\n",
    "\n",
    "output_vqa"
   ]
  },
  {
   "cell_type": "code",
   "execution_count": 20,
   "id": "7a969041",
   "metadata": {},
   "outputs": [
    {
     "data": {
      "text/plain": [
       "3129"
      ]
     },
     "execution_count": 20,
     "metadata": {},
     "output_type": "execute_result"
    }
   ],
   "source": [
    "len(output_vqa[\"question_answering_score\"][0])"
   ]
  },
  {
   "cell_type": "code",
   "execution_count": 21,
   "id": "9f514568",
   "metadata": {},
   "outputs": [
    {
     "data": {
      "text/plain": [
       "tensor([315])"
      ]
     },
     "execution_count": 21,
     "metadata": {},
     "output_type": "execute_result"
    }
   ],
   "source": [
    "# get prediction\n",
    "pred_vqa = output_vqa[\"question_answering_score\"].argmax(-1)\n",
    "\n",
    "pred_vqa"
   ]
  },
  {
   "cell_type": "code",
   "execution_count": 22,
   "id": "bd654611",
   "metadata": {},
   "outputs": [
    {
     "data": {
      "text/plain": [
       "'horse'"
      ]
     },
     "execution_count": 22,
     "metadata": {},
     "output_type": "execute_result"
    }
   ],
   "source": [
    "vqa_answers[315]"
   ]
  },
  {
   "cell_type": "code",
   "execution_count": 23,
   "id": "a5bfaffd",
   "metadata": {},
   "outputs": [
    {
     "name": "stdout",
     "output_type": "stream",
     "text": [
      "Question: ['what is the man riding?']\n",
      "prediction from LXMERT VQA: horse\n"
     ]
    }
   ],
   "source": [
    "print(\"Question:\", test_question)\n",
    "print(\"prediction from LXMERT VQA:\", vqa_answers[pred_vqa])"
   ]
  },
  {
   "cell_type": "code",
   "execution_count": null,
   "id": "b10b4b6b",
   "metadata": {},
   "outputs": [],
   "source": []
  },
  {
   "cell_type": "code",
   "execution_count": 24,
   "id": "f516bc2c",
   "metadata": {},
   "outputs": [
    {
     "name": "stdout",
     "output_type": "stream",
     "text": [
      "Question: ['Where is this scene?']\n",
      "prediction from LXMERT VQA: outdoors\n",
      "Question: ['what is the man riding?']\n",
      "prediction from LXMERT VQA: horse\n",
      "Question: ['What is the man wearing?']\n",
      "prediction from LXMERT VQA: suit\n",
      "Question: ['What is the color of the horse?']\n",
      "prediction from LXMERT VQA: brown\n"
     ]
    }
   ],
   "source": [
    "test_questions_for_url1 = [\n",
    "    \"Where is this scene?\",\n",
    "    \"what is the man riding?\",\n",
    "    \"What is the man wearing?\",\n",
    "    \"What is the color of the horse?\"\n",
    "]\n",
    "\n",
    "for test_question in test_questions_for_url1:\n",
    "    # run lxmert\n",
    "    test_question = [test_question]\n",
    "\n",
    "    inputs = lxmert_tokenizer(\n",
    "        test_question,\n",
    "        padding=\"max_length\",\n",
    "        max_length=20,\n",
    "        truncation=True,\n",
    "        return_token_type_ids=True,\n",
    "        return_attention_mask=True,\n",
    "        add_special_tokens=True,\n",
    "        return_tensors=\"pt\"\n",
    "    )\n",
    "\n",
    "    # run lxmert(s)\n",
    "    output_vqa = lxmert_vqa(\n",
    "        input_ids=inputs.input_ids,\n",
    "        attention_mask=inputs.attention_mask,\n",
    "        visual_feats=features,\n",
    "        visual_pos=normalized_boxes,\n",
    "        token_type_ids=inputs.token_type_ids,\n",
    "        output_attentions=False,\n",
    "    )\n",
    "    # get prediction\n",
    "    pred_vqa = output_vqa[\"question_answering_score\"].argmax(-1)\n",
    "    print(\"Question:\", test_question)\n",
    "    print(\"prediction from LXMERT VQA:\", vqa_answers[pred_vqa])"
   ]
  },
  {
   "cell_type": "code",
   "execution_count": null,
   "id": "2ef6b1b3",
   "metadata": {},
   "outputs": [],
   "source": []
  },
  {
   "cell_type": "markdown",
   "id": "afb96cc2",
   "metadata": {},
   "source": [
    "# 프로젝트"
   ]
  },
  {
   "cell_type": "code",
   "execution_count": 25,
   "id": "ae87a5c8",
   "metadata": {},
   "outputs": [],
   "source": [
    "URL = \"https://vqa.cloudcv.org/media/test2014/COCO_test2014_000000262567.jpg\"\n",
    "\n",
    "test_questions_for_url2 = [\n",
    "    \"Where is the cat?\",\n",
    "    \"What is near the disk?\",\n",
    "    \"What is the color of the table?\",\n",
    "    \"What is the color of the cat?\",\n",
    "    \"What is the shape of the monitor?\",\n",
    "    \"What is the color of the keyboard?\",\n",
    "]"
   ]
  },
  {
   "cell_type": "code",
   "execution_count": 26,
   "id": "51ebce20",
   "metadata": {},
   "outputs": [],
   "source": [
    "GQA_URL = \"https://raw.githubusercontent.com/airsplay/lxmert/master/data/gqa/trainval_label2ans.json\"\n",
    "\n",
    "lxmert_gqa = LxmertForQuestionAnswering.from_pretrained(\"unc-nlp/lxmert-gqa-uncased\")"
   ]
  },
  {
   "cell_type": "code",
   "execution_count": null,
   "id": "97653939",
   "metadata": {},
   "outputs": [],
   "source": []
  },
  {
   "cell_type": "code",
   "execution_count": null,
   "id": "1082ac86",
   "metadata": {},
   "outputs": [],
   "source": []
  },
  {
   "cell_type": "code",
   "execution_count": null,
   "id": "81e5edac",
   "metadata": {},
   "outputs": [],
   "source": []
  },
  {
   "cell_type": "code",
   "execution_count": null,
   "id": "58b2478a",
   "metadata": {},
   "outputs": [],
   "source": []
  },
  {
   "cell_type": "code",
   "execution_count": null,
   "id": "e7a53d3d",
   "metadata": {},
   "outputs": [],
   "source": []
  },
  {
   "cell_type": "code",
   "execution_count": null,
   "id": "fbd07fda",
   "metadata": {},
   "outputs": [],
   "source": []
  },
  {
   "cell_type": "code",
   "execution_count": null,
   "id": "800e59de",
   "metadata": {},
   "outputs": [],
   "source": []
  },
  {
   "cell_type": "code",
   "execution_count": null,
   "id": "5014ac61",
   "metadata": {},
   "outputs": [],
   "source": []
  },
  {
   "cell_type": "code",
   "execution_count": null,
   "id": "92d4966d",
   "metadata": {},
   "outputs": [],
   "source": []
  },
  {
   "cell_type": "code",
   "execution_count": null,
   "id": "8041b4ba",
   "metadata": {},
   "outputs": [],
   "source": []
  },
  {
   "cell_type": "code",
   "execution_count": null,
   "id": "b27f25b3",
   "metadata": {},
   "outputs": [],
   "source": []
  },
  {
   "cell_type": "code",
   "execution_count": null,
   "id": "83a18cdb",
   "metadata": {},
   "outputs": [],
   "source": []
  },
  {
   "cell_type": "code",
   "execution_count": null,
   "id": "797afda2",
   "metadata": {},
   "outputs": [],
   "source": []
  },
  {
   "cell_type": "code",
   "execution_count": null,
   "id": "2e34442e",
   "metadata": {},
   "outputs": [],
   "source": []
  },
  {
   "cell_type": "code",
   "execution_count": null,
   "id": "fff8c972",
   "metadata": {},
   "outputs": [],
   "source": []
  },
  {
   "cell_type": "code",
   "execution_count": null,
   "id": "3e9b121d",
   "metadata": {},
   "outputs": [],
   "source": []
  },
  {
   "cell_type": "code",
   "execution_count": null,
   "id": "022f3f2b",
   "metadata": {},
   "outputs": [],
   "source": []
  },
  {
   "cell_type": "code",
   "execution_count": null,
   "id": "d92eccbd",
   "metadata": {},
   "outputs": [],
   "source": []
  },
  {
   "cell_type": "code",
   "execution_count": null,
   "id": "041ba6c4",
   "metadata": {},
   "outputs": [],
   "source": []
  },
  {
   "cell_type": "code",
   "execution_count": null,
   "id": "b8ee6401",
   "metadata": {},
   "outputs": [],
   "source": []
  },
  {
   "cell_type": "code",
   "execution_count": null,
   "id": "06ef5af3",
   "metadata": {},
   "outputs": [],
   "source": []
  },
  {
   "cell_type": "code",
   "execution_count": null,
   "id": "62ea60e6",
   "metadata": {},
   "outputs": [],
   "source": []
  },
  {
   "cell_type": "code",
   "execution_count": null,
   "id": "0cf42eb2",
   "metadata": {},
   "outputs": [],
   "source": []
  },
  {
   "cell_type": "code",
   "execution_count": null,
   "id": "f8c778a5",
   "metadata": {},
   "outputs": [],
   "source": []
  },
  {
   "cell_type": "code",
   "execution_count": null,
   "id": "8a9df210",
   "metadata": {},
   "outputs": [],
   "source": []
  },
  {
   "cell_type": "code",
   "execution_count": null,
   "id": "b8fce8b0",
   "metadata": {},
   "outputs": [],
   "source": []
  },
  {
   "cell_type": "code",
   "execution_count": null,
   "id": "8b43b095",
   "metadata": {},
   "outputs": [],
   "source": []
  },
  {
   "cell_type": "code",
   "execution_count": null,
   "id": "f2babc96",
   "metadata": {},
   "outputs": [],
   "source": []
  },
  {
   "cell_type": "code",
   "execution_count": null,
   "id": "a67e31e7",
   "metadata": {},
   "outputs": [],
   "source": []
  },
  {
   "cell_type": "code",
   "execution_count": null,
   "id": "72d5636d",
   "metadata": {},
   "outputs": [],
   "source": []
  },
  {
   "cell_type": "code",
   "execution_count": null,
   "id": "36518342",
   "metadata": {},
   "outputs": [],
   "source": []
  },
  {
   "cell_type": "code",
   "execution_count": null,
   "id": "637233b7",
   "metadata": {},
   "outputs": [],
   "source": []
  },
  {
   "cell_type": "code",
   "execution_count": null,
   "id": "1d469eef",
   "metadata": {},
   "outputs": [],
   "source": []
  },
  {
   "cell_type": "code",
   "execution_count": null,
   "id": "0636e151",
   "metadata": {},
   "outputs": [],
   "source": []
  },
  {
   "cell_type": "code",
   "execution_count": null,
   "id": "65112b4f",
   "metadata": {},
   "outputs": [],
   "source": []
  },
  {
   "cell_type": "code",
   "execution_count": null,
   "id": "d546039d",
   "metadata": {},
   "outputs": [],
   "source": []
  },
  {
   "cell_type": "code",
   "execution_count": null,
   "id": "008926fd",
   "metadata": {},
   "outputs": [],
   "source": []
  },
  {
   "cell_type": "code",
   "execution_count": null,
   "id": "35f20631",
   "metadata": {},
   "outputs": [],
   "source": []
  },
  {
   "cell_type": "code",
   "execution_count": null,
   "id": "d9f76009",
   "metadata": {},
   "outputs": [],
   "source": []
  },
  {
   "cell_type": "code",
   "execution_count": null,
   "id": "096e88a0",
   "metadata": {},
   "outputs": [],
   "source": []
  },
  {
   "cell_type": "code",
   "execution_count": null,
   "id": "6d3591ba",
   "metadata": {},
   "outputs": [],
   "source": []
  },
  {
   "cell_type": "code",
   "execution_count": null,
   "id": "f268752b",
   "metadata": {},
   "outputs": [],
   "source": []
  },
  {
   "cell_type": "code",
   "execution_count": null,
   "id": "f742c25c",
   "metadata": {},
   "outputs": [],
   "source": []
  },
  {
   "cell_type": "code",
   "execution_count": null,
   "id": "584cf4c0",
   "metadata": {},
   "outputs": [],
   "source": []
  },
  {
   "cell_type": "code",
   "execution_count": null,
   "id": "f8ccf08d",
   "metadata": {},
   "outputs": [],
   "source": []
  },
  {
   "cell_type": "code",
   "execution_count": null,
   "id": "cfd87576",
   "metadata": {},
   "outputs": [],
   "source": []
  },
  {
   "cell_type": "code",
   "execution_count": null,
   "id": "017ee14e",
   "metadata": {},
   "outputs": [],
   "source": []
  },
  {
   "cell_type": "code",
   "execution_count": null,
   "id": "5b7824c4",
   "metadata": {},
   "outputs": [],
   "source": []
  },
  {
   "cell_type": "code",
   "execution_count": null,
   "id": "ffe24629",
   "metadata": {},
   "outputs": [],
   "source": []
  },
  {
   "cell_type": "code",
   "execution_count": null,
   "id": "21d964d0",
   "metadata": {},
   "outputs": [],
   "source": []
  },
  {
   "cell_type": "code",
   "execution_count": null,
   "id": "1653d68e",
   "metadata": {},
   "outputs": [],
   "source": []
  },
  {
   "cell_type": "code",
   "execution_count": null,
   "id": "53f0585f",
   "metadata": {},
   "outputs": [],
   "source": []
  },
  {
   "cell_type": "code",
   "execution_count": null,
   "id": "ff24ea79",
   "metadata": {},
   "outputs": [],
   "source": []
  },
  {
   "cell_type": "code",
   "execution_count": null,
   "id": "fc1d2282",
   "metadata": {},
   "outputs": [],
   "source": []
  },
  {
   "cell_type": "code",
   "execution_count": null,
   "id": "8d1d2993",
   "metadata": {},
   "outputs": [],
   "source": []
  },
  {
   "cell_type": "code",
   "execution_count": null,
   "id": "88761e18",
   "metadata": {},
   "outputs": [],
   "source": []
  },
  {
   "cell_type": "code",
   "execution_count": null,
   "id": "f39676ab",
   "metadata": {},
   "outputs": [],
   "source": []
  },
  {
   "cell_type": "code",
   "execution_count": null,
   "id": "8ebc950d",
   "metadata": {},
   "outputs": [],
   "source": []
  },
  {
   "cell_type": "code",
   "execution_count": null,
   "id": "d9fbb922",
   "metadata": {},
   "outputs": [],
   "source": []
  },
  {
   "cell_type": "code",
   "execution_count": null,
   "id": "c84a63ce",
   "metadata": {},
   "outputs": [],
   "source": []
  },
  {
   "cell_type": "code",
   "execution_count": null,
   "id": "3c168f7c",
   "metadata": {},
   "outputs": [],
   "source": []
  },
  {
   "cell_type": "code",
   "execution_count": null,
   "id": "158ab368",
   "metadata": {},
   "outputs": [],
   "source": []
  },
  {
   "cell_type": "code",
   "execution_count": null,
   "id": "13ac26c7",
   "metadata": {},
   "outputs": [],
   "source": []
  },
  {
   "cell_type": "code",
   "execution_count": null,
   "id": "1fa28286",
   "metadata": {},
   "outputs": [],
   "source": []
  },
  {
   "cell_type": "code",
   "execution_count": null,
   "id": "1eb73a19",
   "metadata": {},
   "outputs": [],
   "source": []
  },
  {
   "cell_type": "code",
   "execution_count": null,
   "id": "f0cb63bc",
   "metadata": {},
   "outputs": [],
   "source": []
  },
  {
   "cell_type": "code",
   "execution_count": null,
   "id": "082bb32a",
   "metadata": {},
   "outputs": [],
   "source": []
  },
  {
   "cell_type": "code",
   "execution_count": null,
   "id": "e6421318",
   "metadata": {},
   "outputs": [],
   "source": []
  },
  {
   "cell_type": "code",
   "execution_count": null,
   "id": "ba7444d3",
   "metadata": {},
   "outputs": [],
   "source": []
  },
  {
   "cell_type": "code",
   "execution_count": null,
   "id": "8cee0b89",
   "metadata": {},
   "outputs": [],
   "source": []
  },
  {
   "cell_type": "code",
   "execution_count": null,
   "id": "1198782f",
   "metadata": {},
   "outputs": [],
   "source": []
  },
  {
   "cell_type": "code",
   "execution_count": null,
   "id": "ce64782d",
   "metadata": {},
   "outputs": [],
   "source": []
  }
 ],
 "metadata": {
  "kernelspec": {
   "display_name": "Python 3",
   "language": "python",
   "name": "python3"
  },
  "language_info": {
   "codemirror_mode": {
    "name": "ipython",
    "version": 3
   },
   "file_extension": ".py",
   "mimetype": "text/x-python",
   "name": "python",
   "nbconvert_exporter": "python",
   "pygments_lexer": "ipython3",
   "version": "3.7.10"
  }
 },
 "nbformat": 4,
 "nbformat_minor": 5
}
