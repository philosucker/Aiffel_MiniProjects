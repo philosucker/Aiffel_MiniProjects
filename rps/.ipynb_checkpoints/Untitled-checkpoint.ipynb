{
 "cells": [
  {
   "cell_type": "code",
   "execution_count": 35,
   "metadata": {},
   "outputs": [
    {
     "name": "stdout",
     "output_type": "stream",
     "text": [
      "문장을 입력하시오: apcpa\n"
     ]
    }
   ],
   "source": [
    "a = input(\"문장을 입력하시오: \")\n",
    "\n",
    "b = list(a)\n",
    "\n",
    "an = [\"a\", \"b\", \"c\", \"d\",\"e\",\"f\",\"g\",\"h\",\"i\",\"j\",\"k\",\"l\",\"m\",\"n\",\"o\",\"p\",\"q\",\"r\",\"s\",\"t\",\"u\",\"v\",\"w\",\"x\",\"y\",\"z\",\"A\",\"B\",\"C\",\n",
    "     \"D\",\"E\",\"F\",\"G\",\"H\",\"I\",\"J\",\"K\",\"L\",\"M\",\"N\",\"O\",\"P\",\"Q\",\"R\",\"S\",\"T\",\"U\",\"V\",\"W\",\"X\",\"Y\",\"Z\", 0, 1, 2, 3, 4 ,5 ,6 ,7, 8, 9]\n",
    "\n",
    "c = []\n",
    "\n",
    "for i in b:\n",
    "    if i in an:\n",
    "        c.append(i)\n",
    "    else:\n",
    "        pass\n",
    "\n",
    "d =[]\n",
    "for i in c:\n",
    "    k = i.lower()\n",
    "    d.append(k)\n",
    "\n",
    "\n",
    "n = len(d)\n",
    "h = n // 2\n",
    "if n % 2 == 0:\n",
    "    for i in range(1, 100):\n",
    "        if i < h+1:\n",
    "            if d[h-i] == d[h+i]:\n",
    "                pass\n",
    "        else: break\n",
    "    print(\"입력하신 문장은 회문입니다\")\n",
    "    \n",
    "\n",
    "        \n"
   ]
  },
  {
   "cell_type": "code",
   "execution_count": 41,
   "metadata": {},
   "outputs": [
    {
     "name": "stdout",
     "output_type": "stream",
     "text": [
      "문장을 입력하시오: apcpp\n",
      "입력하신 문장은 회문입니다\n",
      "입력하신 문장은 회문입니다\n"
     ]
    }
   ],
   "source": [
    "a = input(\"문장을 입력하시오: \")\n",
    "\n",
    "b = list(a)\n",
    "\n",
    "an = [\"a\", \"b\", \"c\", \"d\",\"e\",\"f\",\"g\",\"h\",\"i\",\"j\",\"k\",\"l\",\"m\",\"n\",\"o\",\"p\",\"q\",\"r\",\"s\",\"t\",\"u\",\"v\",\"w\",\"x\",\"y\",\"z\",\"A\",\"B\",\"C\",\n",
    "     \"D\",\"E\",\"F\",\"G\",\"H\",\"I\",\"J\",\"K\",\"L\",\"M\",\"N\",\"O\",\"P\",\"Q\",\"R\",\"S\",\"T\",\"U\",\"V\",\"W\",\"X\",\"Y\",\"Z\", 0, 1, 2, 3, 4 ,5 ,6 ,7, 8, 9]\n",
    "\n",
    "c = []\n",
    "\n",
    "for i in b:\n",
    "    if i in an:\n",
    "        c.append(i)\n",
    "    else:\n",
    "        pass\n",
    "\n",
    "d =[]\n",
    "for i in c:\n",
    "    k = i.lower()\n",
    "    d.append(k)\n",
    "\n",
    "\n",
    "n = len(d)\n",
    "h = n // 2\n",
    "\n",
    "for i in range(1, 100):\n",
    "    if i < h+1:\n",
    "        if d[h-i] == d[h+i]:\n",
    "            pass\n",
    "        else : (\"입력하신 문장은 회문이 아닙니다\")\n",
    "    else: break\n",
    "    print(\"입력하신 문장은 회문입니다\")"
   ]
  },
  {
   "cell_type": "code",
   "execution_count": null,
   "metadata": {},
   "outputs": [],
   "source": []
  }
 ],
 "metadata": {
  "kernelspec": {
   "display_name": "Python 3",
   "language": "python",
   "name": "python3"
  },
  "language_info": {
   "codemirror_mode": {
    "name": "ipython",
    "version": 3
   },
   "file_extension": ".py",
   "mimetype": "text/x-python",
   "name": "python",
   "nbconvert_exporter": "python",
   "pygments_lexer": "ipython3",
   "version": "3.7.9"
  }
 },
 "nbformat": 4,
 "nbformat_minor": 4
}
